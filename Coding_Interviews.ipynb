{
  "nbformat": 4,
  "nbformat_minor": 0,
  "metadata": {
    "colab": {
      "name": "Coding_Interviews.ipynb",
      "version": "0.3.2",
      "provenance": [],
      "collapsed_sections": [
        "XTjrua4HSdlF"
      ],
      "toc_visible": true,
      "include_colab_link": true
    },
    "kernelspec": {
      "name": "python2",
      "display_name": "Python 2"
    }
  },
  "cells": [
    {
      "cell_type": "markdown",
      "metadata": {
        "id": "view-in-github",
        "colab_type": "text"
      },
      "source": [
        "<a href=\"https://colab.research.google.com/github/pectoraux/AfroTech-Events/blob/master/Coding_Interviews.ipynb\" target=\"_parent\"><img src=\"https://colab.research.google.com/assets/colab-badge.svg\" alt=\"Open In Colab\"/></a>"
      ]
    },
    {
      "cell_type": "markdown",
      "metadata": {
        "id": "WQ_-Kf2jnVf9",
        "colab_type": "text"
      },
      "source": [
        "#ACM\n"
      ]
    },
    {
      "cell_type": "markdown",
      "metadata": {
        "id": "aGTNuGYWPjlR",
        "colab_type": "text"
      },
      "source": [
        "##The 3n+1 problem"
      ]
    },
    {
      "cell_type": "code",
      "metadata": {
        "id": "u5lQq5CCnS-3",
        "colab_type": "code",
        "colab": {}
      },
      "source": [
        "#Programming Challenges\n",
        "#the 3n+1 problem\n",
        "#see instructions at following URL\n",
        "#http://www.programming-challenges.com/pg.php?page=downloadproblem&probid=110101&format=html\n",
        "#To generate a sequence of numbers, start with n, if n is even, divide by 2, if it is odd, *3 and +1\n",
        "#stick to numbers under 1,000,000\n",
        "# for any input n, the cycle length is any number generated including final number 1\n",
        "#given 2 numbers i and j, you should try to generate max cycle length over all numbers between \n",
        "#i and j including endpoints\n",
        "\n",
        "#The input will consist of a series of pairs of integers i and j, one pair of integers per line\n",
        "\n",
        "#output same integers plus max cycle length on one line with one space in between each\n",
        "\n",
        "#Create class that stores number and cycle length\n",
        "#Method calculates 'count' of number of cycles to reach 1\n",
        "class Cycle_Len:\n",
        "\tdef __init__(self, num):\n",
        "\t\tself.num=num\n",
        "\n",
        "\tdef gen_num(self, num, count):\n",
        "\t\t#for first iteration of function, assign count=1\n",
        "\t\t#base case\n",
        "\t\tif num==1:\n",
        "\t\t\t#print(count)\n",
        "\t\t\treturn count \n",
        "\t#define recursive call\n",
        "\t#define counter outside fnc\n",
        "\t\telse:\n",
        "\t\t\tif num%2==0:\n",
        "\t\t\t\tnum=num/2\n",
        "\t\t\telse:\n",
        "\t\t\t\tnum=num*3+1\n",
        "\t\t\tcount += 1\n",
        "\t\t\treturn self.gen_num(num, count)\n",
        "\n",
        "\n",
        "import sys as sys\n",
        "\n",
        "if __name__=='__main__':\n",
        "\t#strip off program call\n",
        "\targs=sys.argv[:]\n",
        "\tscript, start, end= args[:3]\n",
        "\n",
        "\t#check if numb is actually a number\n",
        "\ttry:\n",
        "\t\tstart=int(start)\n",
        "\t\tend=int(end)\n",
        "\texcept:\n",
        "\t\tprint('Not a valid number')\n",
        "\n",
        "#for loop that iterates through the given range, checks cycle length against existing max length\n",
        "#if max is greater than cycle length, update the max function\n",
        "#if not, then continue to the next number in the range\n",
        "\tmax_count=1\n",
        "\tfor i in range(start, end+1):\n",
        "\t\ti_c=Cycle_Len(i)\n",
        "\t\tif i_c.gen_num(i,1) > max_count:\n",
        "\t\t\tmax_count=i_c.gen_num(i,1)\n",
        "\t\ti+=1\n",
        "#print the output as specified by the description\n",
        "#print start number, end number, and max cycle length on 1 line with spaces\t\t\n",
        "\tprint(start+' '+end+' '+max_count)"
      ],
      "execution_count": 0,
      "outputs": []
    },
    {
      "cell_type": "markdown",
      "metadata": {
        "id": "3xaw4i2LfiF2",
        "colab_type": "text"
      },
      "source": [
        "##Checks if anagram t is contained in s"
      ]
    },
    {
      "cell_type": "code",
      "metadata": {
        "id": "aOEnibuxUFeV",
        "colab_type": "code",
        "colab": {}
      },
      "source": [
        "'''\n",
        "\tEfficiency:  \n",
        "    ----------------------------------------------\n",
        "   \tcontained_in() runs in O(n)\n",
        "    So question2() runs in O(n) \n",
        "'''\n",
        "\n",
        "def contained_in(t, s):\n",
        "\t'''\n",
        "\tInputs: t, s\n",
        "\tFunction: Checks if an anagram of t is contained in s\n",
        "\tProcedure: makes a list containing indices in s of each letter in t\n",
        "\t\t\t   -1 is put inside the list in place of letters of t not present in s\n",
        "\t\t\t   finds the max and min of that list and checks if the\n",
        "\t\t\t   indices are exactly one point away from one another\n",
        "\tEfficiency: By computing the max and min, sorting of the list is avoided\n",
        "\t\t\t\tmaking the algorithm faster\n",
        "\t\t\t\tWe also avoid having to find all anagrams of t by using this formula\t\t   \n",
        "\t'''\n",
        "\n",
        "\tcontains = []\n",
        "\tvalue = 0\n",
        "\tfor i in range(len(t)):\n",
        "\t\t\tcur_elem = t[i]\n",
        "\t\t\tif cur_elem in s:\n",
        "\t\t\t\tvalue = s.index(cur_elem)\n",
        "\t\t\telse:\n",
        "\t\t\t\tvalue = -1\t\n",
        "\t\t\tif value not in contains:\t\t\t# Correction: Added removal of duplicates\n",
        "\t\t\t\tcontains.append(value)\t\n",
        "\treturn ( max(contains) - min(contains) + 1 == len(contains) and\n",
        "\t\t     max(contains) != -1 ) \n",
        "\t\t\t\t\n",
        "\t\t\n",
        "\t\t\t  \n",
        "\n",
        "def question1(s, t):\n",
        "\t'''\n",
        "\tInputs: t, s\n",
        "\tFunction: Prints True if s contains an Anagram of t\n",
        "\t\t\t  False otherwise\n",
        "\t'''\n",
        "\tif t == '':\n",
        "\t\tprint True\n",
        "\t\treturn \n",
        "\telif s == '':\n",
        "\t\tprint False\n",
        "\t\treturn \t\n",
        "\telif contained_in(t, s):\n",
        "\t\tprint 'True'\n",
        "\t\treturn\n",
        "\telse: \n",
        "\t\tprint 'False'\t\t\t\t\t\n",
        "\n",
        "def run():\n",
        "\t# Test 1\n",
        "\tquestion1(\"udacity\", \"yt\")  # Should print True\n",
        "\t# Test 2\n",
        "\tquestion1('', 's')\t\t\t# Should print False\n",
        "\t# Test 3\n",
        "\tquestion1('s', '')\t\t\t# Should print True\n",
        "\t# Test 4\n",
        "\tquestion1('s', ' ')\t\t\t# Should print False\n",
        "\t# Test 5\n",
        "\tquestion1('udacity', 'uaaai')\t\t\t# Should print False\n",
        "\n",
        "if __name__ == '__main__':\n",
        "    run()"
      ],
      "execution_count": 0,
      "outputs": []
    },
    {
      "cell_type": "markdown",
      "metadata": {
        "id": "HzOBqINqfbrP",
        "colab_type": "text"
      },
      "source": [
        "##Is plaindromic"
      ]
    },
    {
      "cell_type": "code",
      "metadata": {
        "id": "-EtdqEkPUgIb",
        "colab_type": "code",
        "colab": {}
      },
      "source": [
        "'''\n",
        "\tEfficiency:  \n",
        "    ----------------------------------------------\n",
        "   \tis_palindromic() runs in O(n)\n",
        "    So question2() runs in O(n) \n",
        "'''\n",
        "def is_palindromic(b):\n",
        "\t'''\n",
        "\t\tInput: a certain string b\n",
        "\t\tOutput : True if b is a pallindrome, False otherwise\n",
        "\t\tProcedure: First checks for extreme cases\n",
        "\t\t\t\t   Then checks if the extreme letters match\n",
        "\t\t\t\t   If not, returns False else strips them away\n",
        "\t\t\t\t   and restart all over again using recurrence\n",
        "\t'''\n",
        "\tif b == '' or len(b) == 1:\t\n",
        "\t\treturn True\n",
        "\telif b[0] != b[-1]:\t\n",
        "\t\treturn False\n",
        "\telse:\n",
        "\t\treturn is_palindromic(b[1:-1])\t\n",
        "\n",
        "def question2(a):\n",
        "\t'''\n",
        "\t\tInput: a certain string a\n",
        "\t\tOutput: the longest palindromic substring of a\n",
        "\t\tProcedure: First checks if a is itself a pallindrome\n",
        "\t\t\t\t   If it is a gets printed out, if not\n",
        "\t\t\t\t   Strips away its last letters and starts all over again\n",
        "\t'''\n",
        "\tif is_palindromic(a):\n",
        "\t   print a\n",
        "\telse:\n",
        "\t   question2(a[1:-1])\t\n",
        "\n",
        "def run():\n",
        "\t# Test 1 \t\t\t\t\t # Should return 'ada'\n",
        "\tquestion2('ada')              \n",
        "\t# Test 2                     # Should return ' '\n",
        "\tquestion2(' ')\n",
        "\t# Test 3 \t\t\t\t     # Should return ''\n",
        "\tquestion2('')\t\t\t\t \n",
        "\t# Test 4\n",
        "\tquestion2('wgeeksskeegt')    # Should return 'geeksskeeg'\n",
        "\n",
        "\n",
        "if __name__ == '__main__':\n",
        " \trun() "
      ],
      "execution_count": 0,
      "outputs": []
    },
    {
      "cell_type": "markdown",
      "metadata": {
        "id": "_7hA34CQfRK3",
        "colab_type": "text"
      },
      "source": [
        "##Minimum spanning tree"
      ]
    },
    {
      "cell_type": "code",
      "metadata": {
        "id": "n4cjmP4iVnyD",
        "colab_type": "code",
        "colab": {}
      },
      "source": [
        "'''\n",
        "    Efficiency:  \n",
        "    ----------------------------------------------\n",
        "    member function union() of class UnionFind runs in O(n)\n",
        "    isUndirected() runs in O(n^2)\n",
        "    make_dict() runs in O(n)\n",
        "    So question3() runs in O(n^2) \n",
        "'''\n",
        "\n",
        "def question3(G):\n",
        "    \"\"\"\n",
        "    Returns the minimum spanning tree of an undirected graph G.\n",
        "    G should be represented in such a way that iter(G) lists its\n",
        "    vertices, iter(G[u]) lists the neighbors of u, G[u][v] gives the\n",
        "    length of edge u,v, and G[u][v] should always equal G[v][u].\n",
        "    The tree is returned as a list of edges.\n",
        "    \"\"\"\n",
        "    if not isUndirected(G):\n",
        "        raise ValueError(\"MinimumSpanningTree: input is not undirected\")\n",
        "    for u in G:\n",
        "        for v in G[u]:\n",
        "            if G[u][v] != G[v][u]:\n",
        "                raise ValueError(\"MinimumSpanningTree: asymmetric weights\")\n",
        "\n",
        "    # Kruskal's algorithm: sort edges by weight, and add them one at a time.\n",
        "    # Using UnionFind here since it makes Kruskal's algorithm, \n",
        "    # very simple to implement \n",
        "    subtrees = UnionFind()\n",
        "    tree = {}\n",
        "    for W,u,v in sorted((G[u][v],u,v) for u in G for v in G[u]):\n",
        "        if subtrees[u] != subtrees[v]:\n",
        "            if u in tree:\n",
        "                tree[u].append((v,W))\n",
        "            else:\n",
        "                tree[u] = [(v,W)]                   \n",
        "            subtrees.union(u,v)    \n",
        "    return tree\n",
        "\n",
        "class UnionFind:\n",
        "    \"\"\"Union-find data structure.\n",
        "    - X[item] returns a name for the set containing the given item.\n",
        "    - X.union(item1, item2, ...) merges the sets containing each item\n",
        "      into a single larger set.\n",
        "    \"\"\"\n",
        "    def __init__(self):\n",
        "        \"\"\"Create a new empty union-find structure.\"\"\"\n",
        "        self.weights = {}\n",
        "        self.parents = {}\n",
        "\n",
        "    def __getitem__(self, object):\n",
        "        \"\"\"Find and return the name of the set containing the object.\"\"\"\n",
        "\n",
        "        # check for previously unknown object\n",
        "        if object not in self.parents:\n",
        "            self.parents[object] = object\n",
        "            self.weights[object] = 1\n",
        "            return object\n",
        "\n",
        "        # find path of objects leading to the root\n",
        "        path = [object]\n",
        "        root = self.parents[object]\n",
        "        while root != path[-1]:\n",
        "            path.append(root)\n",
        "            root = self.parents[root]\n",
        "\n",
        "        # compress the path and return\n",
        "        for ancestor in path:\n",
        "            self.parents[ancestor] = root\n",
        "        return root    \n",
        "\n",
        "    def union(self, *objects):\n",
        "        \"\"\"Find the sets containing the objects and merge them all.\"\"\"\n",
        "        roots = [self[x] for x in objects]\n",
        "        heaviest = max([(self.weights[r],r) for r in roots])[1]\n",
        "        for r in roots:\n",
        "            if r != heaviest:\n",
        "                self.weights[heaviest] += self.weights[r]\n",
        "                self.parents[r] = heaviest    \n",
        "\n",
        "\n",
        "def isUndirected(G):\n",
        "    \"\"\"Check that G represents a simple undirected graph.\"\"\"\n",
        "    for v in G:\n",
        "        if v in G[v]:\n",
        "            return False\n",
        "        for w in G[v]:\n",
        "            if v not in G[w]:\n",
        "                return False\n",
        "    return True\n",
        "\n",
        "def make_dict(G1):\n",
        "    \"\"\" Turns the values of a dictionary into dictionaries\n",
        "        It's implementation makes the Kruskal's algorithm easier\n",
        "    \"\"\"\n",
        "    keys = G1.keys()\n",
        "    values = G1.values()\n",
        "    new_values = [] \n",
        "    for u in values:\n",
        "        new_values.append(dict(u))\n",
        "    new_dict = dict(zip(keys, new_values))\n",
        "    return new_dict \n",
        "\n",
        "def run():\n",
        "        \"\"\"Check that MinimumSpanningTree returns the correct answer.\"\"\"\n",
        "        # Test 1\n",
        "        G = {'A': [('B', 2)],'B': [('A', 2), ('C', 5)], 'C': [('B', 5)]}\n",
        "        print question3(make_dict(G))\n",
        "        # Test 2\n",
        "        G1 = {'A': [('B', 10)],'B': [('A', 10), ('C', 2), ('D',3)], 'C': [('B', 2)], 'D':[('B',3)]}\n",
        "        print question3(make_dict(G1))\n",
        "        # Test 3\n",
        "        G2 = {'A': [('B', 2), ('E',2)],'B': [('A', 2), ('C', 5)], 'C': [('B', 5)], 'E':[('A',2)]}\n",
        "        print question3(make_dict(G2))\n",
        "        \n",
        "\n",
        "\n",
        "if __name__ == \"__main__\":\n",
        "    run()"
      ],
      "execution_count": 0,
      "outputs": []
    },
    {
      "cell_type": "markdown",
      "metadata": {
        "id": "enobK8GTfGnY",
        "colab_type": "text"
      },
      "source": [
        "##Lowest common ancestor"
      ]
    },
    {
      "cell_type": "code",
      "metadata": {
        "id": "QQ_JNXxceZGi",
        "colab_type": "code",
        "colab": {}
      },
      "source": [
        "''' \n",
        "    Makes a list of all the parent nodes in the tree with get_parents()\n",
        "    then in LCA(), using the parents list previously computed\n",
        "    goes from the first node n1 to the root and \n",
        "    after that, goes from the second node to the root,\n",
        "    this time stopping as soon as a node already visited in the first \n",
        "    traversal is hit. That node would be the LCA.\n",
        "'''\n",
        "\n",
        "def get_parents(tree, parent): \n",
        "    for i in range(len(tree)):\n",
        "        for j in range(len(tree[0])):\n",
        "            if tree[i][j] == 1:\n",
        "                parent[j] = i\n",
        "               \n",
        "def LCA(r, u, v, parent):\n",
        "    '''\n",
        "        Computes Least Common Ancestor of the nodes u and v\n",
        "    '''\n",
        "    lca = -1\n",
        "    visited = [None for i in parent]\n",
        "    \n",
        "    '''\n",
        "        Traverses from node u up to root node and mark the vertices \n",
        "        encountered along the path\n",
        "    '''  \n",
        "    while True:\n",
        "        visited[u] = True\n",
        "        if u == r:\n",
        "            break;\n",
        "        u = parent[u]\n",
        "    '''\n",
        "        Now traverses from node v and keeps going up until it \n",
        "        hits a node that is in the path of node u \n",
        "    '''   \n",
        "    while True:\n",
        "        ''' The first node it hits that is in visited is the lca '''\n",
        "        if visited[v]:  \n",
        "            lca = v\n",
        "            break\n",
        "        v = parent[v]\n",
        "        \n",
        "    return lca\n",
        "            \n",
        "def question4(T, r, n1, n2):\n",
        "    '''\n",
        "        Gets a list of all parent nodes in T and computes LCA\n",
        "    '''\n",
        "    parent = [ None for i in range(len(T))]\n",
        "    get_parents(T, parent)\n",
        "    print LCA(r, n1, n2, parent)\n",
        "\n",
        "def run():\n",
        "    # Test 1                            # Should return 3\n",
        "    question4([[0, 1, 0, 0, 0],\n",
        "               [0, 0, 0, 0, 0],\n",
        "               [0, 0, 0, 0, 0],\n",
        "               [1, 0, 0, 0, 1],\n",
        "               [0, 0, 0, 0, 0]],\n",
        "                3,\n",
        "                1,\n",
        "                4)\n",
        "    # Test 2                            # Should return 1\n",
        "    question4([[0, 0, 0, 0, 0],\n",
        "               [1, 0, 0, 0, 1],\n",
        "               [0, 0, 0, 0, 0],\n",
        "               [0, 0, 0, 0, 0],\n",
        "               [0, 0, 1, 1, 0]],\n",
        "                1,\n",
        "                1,\n",
        "                3)\n",
        "    # Test 3 -- lca between root and some node       # Should return root: 0\n",
        "    question4([[0, 1, 1, 0, 0, 0, 0],\n",
        "               [0, 0, 0, 1, 1, 0, 0],\n",
        "               [0, 0, 0, 0, 0, 1, 1],\n",
        "               [0, 0, 0, 0, 0, 0, 0],\n",
        "               [0, 0, 0, 0, 0, 0, 0],\n",
        "               [0, 0, 0, 0, 0, 0, 0],\n",
        "               [0, 0, 0, 0, 0, 0, 0],\n",
        "               [0, 0, 0, 0, 0, 0, 0]],\n",
        "                0,\n",
        "                0,\n",
        "                6)\n",
        "\n",
        "if __name__ == '__main__':\n",
        "       run()"
      ],
      "execution_count": 0,
      "outputs": []
    },
    {
      "cell_type": "markdown",
      "metadata": {
        "id": "_yvarTkRe_Kv",
        "colab_type": "text"
      },
      "source": [
        "##M positions from start of LL"
      ]
    },
    {
      "cell_type": "code",
      "metadata": {
        "id": "IieDXxqxehN5",
        "colab_type": "code",
        "colab": {}
      },
      "source": [
        "'''\n",
        "    Efficiency:  \n",
        "    ----------------------------------------------\n",
        "    member function get_length() of class Linked_List runs in O(1)\n",
        "    member function get_at_position() of class Linked_List runs in O(n)\n",
        "    make_ll() runs in O(n)\n",
        "    So question5() runs in O(n) \n",
        "'''\n",
        "\n",
        "class Node(object):\n",
        "\tdef __init__(self, data):\n",
        "\t\tself.data = data\n",
        "\t\tself.next = None\n",
        "\tdef __str__(self):\n",
        "\t\treturn str(self.data)\t\n",
        "\n",
        "class Linked_List(object):\n",
        "\t\"\"\"\n",
        "\t\tLinked list class with necessary functions\n",
        "\t\tfor the problem implemented: a printer for debugging\n",
        "\t\ta .get_at_position() method to get an element at a position\n",
        "\t\ta .get_length() method to get the element that is m position \n",
        "\t\taway faster by doing: ll.get_at_position(ll.get_length - m)\n",
        "\t\tand a .append() method to populate the linked list\n",
        "\t\"\"\"\n",
        "\tdef __init__(self, head=None):\n",
        "\t\tself.head = head\n",
        "\t\tif head:\n",
        "\t\t\tself.length = 1\n",
        "\t\telse:\n",
        "\t\t\tself.length = 0\n",
        "\n",
        "\tdef printer(self):\n",
        "\t\tcurrent = self.head\n",
        "\t\twhile current:\n",
        "\t\t\tprint current\n",
        "\t\t\tcurrent = current.next\n",
        "\t\t    \n",
        "\t\t\t\n",
        "\tdef get_length(self):\n",
        "\t\treturn self.length\n",
        "\n",
        "\tdef get_at_position(self, position):\n",
        "\t\tcounter = 1\n",
        "\t\tcurrent = self.head\n",
        "\t\tif position < 0 :\n",
        "\t\t\treturn None\n",
        "\t\twhile current and counter <= position:\n",
        "\t\t\tif counter == position:\n",
        "\t\t\t\treturn current\n",
        "\t\t\tcurrent = current.next\n",
        "\t\t\tcounter += 1\n",
        "  \t\treturn None\n",
        "  \t\n",
        "  \tdef append(self, new_element):\n",
        "  \t\tcurrent = self.head\t\n",
        "  \t\tif self.head:\n",
        "  \t\t\twhile current.next:\n",
        "  \t\t\t\tcurrent = current.next\n",
        "  \t\t\tcurrent.next = new_element\n",
        "  \t\telse:\n",
        "  \t\t\tself.head = new_element\t\n",
        "  \t\tself.length += 1\t\t\n",
        "\n",
        "def question5(ll, m):\n",
        "\t\"\"\" Takes in a linked list and a position m \n",
        "\t\tReturns the element that is m element from the end\n",
        "\t\"\"\"\n",
        "\tll_len = ll.get_length()\n",
        "\treturn ll.get_at_position(ll_len-m) \n",
        "\n",
        "def make_ll(arr):\n",
        "\t\"\"\"Takes in an array and turns it into a linked list\n",
        "\t\tUseful for testing purposes\n",
        "\t\"\"\"\n",
        "\tmy_ll = Linked_List()\n",
        "\tfor i in range(len(arr)):\n",
        "\t\tmy_ll.append(Node(arr[i]))\n",
        "\t#my_ll.printer()\t  # prints the final linked list; useful for debugging\n",
        "  \treturn my_ll\n",
        "  \t\t\n",
        "def run():\n",
        "\t# Test 1\n",
        "\tprint question5(make_ll(['elephant', 'shoes', 'basket']), 0) # Should return basket\n",
        "\t# Test 2\n",
        "\tprint question5(make_ll(range(10)), 4)  # Should return 5\n",
        "\t# Test 3\n",
        "\tprint question5(make_ll([None, 'forward', '', '-', 'right']), 1) # Should return -\t\t\t\t\t\n",
        "\n",
        "\t\t\n",
        "if __name__ == '__main__':\n",
        " \trun() "
      ],
      "execution_count": 0,
      "outputs": []
    },
    {
      "cell_type": "markdown",
      "metadata": {
        "id": "iLGS3wqtiVWy",
        "colab_type": "text"
      },
      "source": [
        "##Duplicates in an array in O(n) and by using O(1) extra space"
      ]
    },
    {
      "cell_type": "code",
      "metadata": {
        "id": "bPkAf-CziSHV",
        "colab_type": "code",
        "colab": {}
      },
      "source": [
        "# Traverse the given array from i= 0 to n-1 elements\n",
        "#      Go to index arr[i]%n and increment its value by n.\n",
        "# Now traverse the array again and print all those \n",
        "#    indexes i for which arr[i]/n is greater than 1.\n",
        "# This approach works because all elements are in range\n",
        "# from 0 to n-1 and arr[i]/n would be greater than 1\n",
        "# only if a value \"i\" has appeared more than once.\n",
        "def printRepeating(arr, n): \n",
        "      \n",
        "    # First check all the \n",
        "        # values that are \n",
        "    # present in an array \n",
        "        # then go to that \n",
        "    # values as indexes \n",
        "        # and increment by \n",
        "    # the size of array \n",
        "    for i in range(0, n): \n",
        "        index = arr[i] % n \n",
        "        arr[index] += n \n",
        "  \n",
        "    # Now check which value \n",
        "        # exists more \n",
        "    # than once by dividing \n",
        "        # with the size \n",
        "    # of array \n",
        "    for i in range(0,n): \n",
        "        if (arr[i]/n) > 1: \n",
        "          pass\n",
        "#             print (i , end = \" \")"
      ],
      "execution_count": 0,
      "outputs": []
    },
    {
      "cell_type": "markdown",
      "metadata": {
        "id": "1YmKoPLzv_Z7",
        "colab_type": "text"
      },
      "source": [
        "##Find element repeating Thrice or once in array of dups"
      ]
    },
    {
      "cell_type": "code",
      "metadata": {
        "id": "-ShOyyBGkndH",
        "colab_type": "code",
        "colab": {
          "base_uri": "https://localhost:8080/",
          "height": 69
        },
        "outputId": "46a3724d-9141-4a89-e321-4d7b6beaa2ac"
      },
      "source": [
        "# Given a sorted array in which each element is repeated twice and one element is repeated \n",
        "# thrice find that element \n",
        "def find_thrice(arr):   # non sorted array\n",
        "  sum_ = 0\n",
        "  for elt in arr:\n",
        "    sum_ ^= elt\n",
        "  return sum_\n",
        "\n",
        "def find_thrice2(arr): # sorted array\n",
        "  return find_thrice2_helper(arr, 0, len(arr)-1)\n",
        "\n",
        "def find_thrice2_helper(arr, left, right):\n",
        "  if left > right:\n",
        "    return None\n",
        "  if left == right:\n",
        "    return arr[left]\n",
        "  mid = left + (right-left)/2\n",
        "  if mid%2 == 0:\n",
        "    if arr[mid] == arr[mid+1]:  # no perturbation\n",
        "      return find_thrice2_helper(arr, mid+2, right)\n",
        "    else: # perturbation\n",
        "      return find_thrice2_helper(arr, left, mid)\n",
        "  else:\n",
        "    if arr[mid] == arr[mid-1]: # no perturbation\n",
        "      return find_thrice2_helper(arr, mid+1, right)\n",
        "    else: # perturbation\n",
        "      return find_thrice2_helper(arr, left, mid-1)\n",
        "                                 \n",
        "\n",
        "print find_thrice([1,2,5,3,4,1,5,2,3,4,5])\n",
        "print find_thrice2([1, 1, 2, 4, 4, 5, 5, 6, 6])\n",
        "print find_thrice2([1, 1, 2, 2, 2, 4, 4, 5, 5, 6, 6])"
      ],
      "execution_count": 19,
      "outputs": [
        {
          "output_type": "stream",
          "text": [
            "5\n",
            "2\n",
            "2\n"
          ],
          "name": "stdout"
        }
      ]
    },
    {
      "cell_type": "markdown",
      "metadata": {
        "id": "m8JjgrK8AZdd",
        "colab_type": "text"
      },
      "source": [
        "##Reorder in Odds vs Even"
      ]
    },
    {
      "cell_type": "code",
      "metadata": {
        "id": "ahr-zqpToENk",
        "colab_type": "code",
        "colab": {
          "base_uri": "https://localhost:8080/",
          "height": 34
        },
        "outputId": "90c7b8bd-92ef-449b-dc83-4369e42c3b55"
      },
      "source": [
        "# Reorder entries of array st even elts appear first\n",
        "# For this problem, we can partition the array into three subarrays: Even, Unclassified,\n",
        "# and Odd, appearing in that order\n",
        "# Initially Even and Odd are empty, and Unclassified is the entire array. \n",
        "# We iterate through Unclassified, moving its elements to the boundaries of the Even and Odd\n",
        "# subarrays via swaps, thereby expanding Even and Odd, and shrinking Unclassified.\n",
        "def evenOdd(arr):\n",
        "  nextEven, nextOdd = 0, len(arr)-1\n",
        "  while nextEven < nextOdd:\n",
        "    if arr[nextEven] % 2 == 0:\n",
        "      nextEven += 1\n",
        "    else:\n",
        "      arr[nextEven], arr[nextOdd] = arr[nextOdd], arr[nextEven]\n",
        "      nextOdd -= 1\n",
        "  return arr\n",
        "\n",
        "print evenOdd([1,2,5,3,4,1,5,2,3,4,5])\n"
      ],
      "execution_count": 6,
      "outputs": [
        {
          "output_type": "stream",
          "text": [
            "[4, 2, 2, 4, 1, 5, 3, 3, 5, 5, 1]\n"
          ],
          "name": "stdout"
        }
      ]
    },
    {
      "cell_type": "markdown",
      "metadata": {
        "id": "XcTkntd4p4Rd",
        "colab_type": "text"
      },
      "source": [
        "##Dutch Flag partition"
      ]
    },
    {
      "cell_type": "code",
      "metadata": {
        "id": "DgX2arwDpn8W",
        "colab_type": "code",
        "colab": {
          "base_uri": "https://localhost:8080/",
          "height": 52
        },
        "outputId": "80cbd498-f97d-4f97-a150-e66e4716fa65"
      },
      "source": [
        "# Write a program that takes an array A and an index i into A, and rearranges the elements such\n",
        "# that all elements less than A[i] (the “pivot”) appear first, followed by elements equal to the pivot,\n",
        "# followed by elements greater than the pivot.\n",
        "def dutchFlagPartition(pivotIndex, A):\n",
        "  pivot, smaller, larger = A[pivotIndex], 0, len(A)-1\n",
        "  for i in range(len(A)):\n",
        "    if A[i] < pivot:\n",
        "      A[i], A[smaller] = A[smaller], A[i]\n",
        "      smaller += 1\n",
        "  for i in range(len(A)-1,-1,-1):\n",
        "    if A[i] > pivot:\n",
        "      A[i], A[larger] = A[larger], A[i]\n",
        "      larger -= 1\n",
        "  return A      \n",
        "\n",
        "def dutchFlagPartition2(pivotIndex, A):\n",
        "  pivot, smaller, larger, equal = A[pivotIndex], 0, len(A)-1, 0\n",
        "  while equal < larger:\n",
        "    if A[equal] < pivot:\n",
        "      A[smaller], A[equal] = A[equal], A[smaller]\n",
        "      smaller += 1\n",
        "      equal += 1\n",
        "    elif A[equal] == pivot:\n",
        "      equal += 1\n",
        "    else:\n",
        "      A[larger], A[equal] = A[equal], A[larger]\n",
        "      larger -= 1\n",
        "  return A\n",
        "\n",
        "print dutchFlagPartition(4, [1,2,5,3,4,1,5,2,3,4,5])\n",
        "print dutchFlagPartition2(2, [1,2,5,3,4,1,5,2,3,4,5])\n",
        "    "
      ],
      "execution_count": 9,
      "outputs": [
        {
          "output_type": "stream",
          "text": [
            "[1, 2, 3, 1, 2, 3, 4, 4, 5, 5, 5]\n",
            "[1, 2, 3, 4, 1, 2, 3, 4, 5, 5, 5]\n"
          ],
          "name": "stdout"
        }
      ]
    },
    {
      "cell_type": "markdown",
      "metadata": {
        "id": "FezhzP5XvyWg",
        "colab_type": "text"
      },
      "source": [
        "##Find cycle start in LL"
      ]
    },
    {
      "cell_type": "code",
      "metadata": {
        "id": "VFWbONZGuCBn",
        "colab_type": "code",
        "colab": {}
      },
      "source": [
        "# The following program purports to compute the beginning of the cycle without determining\n",
        "# the length of the cycle; it has the benefit of being more succinct \n",
        "# One could also compute the length of the cycle by incrementing a counter from when slow == fast\n",
        "# up to when that is no longer the case\n",
        "def hasCycle(head):\n",
        "  fast, slow = head, head\n",
        "  while fast and fast.next and fast.next.next:\n",
        "    slow, fast = slow.next, fast.next.next\n",
        "    if slow == fast:\n",
        "      slow = head\n",
        "      while slow != fast:\n",
        "        slow, fast = slow.next, fast.next\n",
        "      return slow\n",
        "  return None"
      ],
      "execution_count": 0,
      "outputs": []
    },
    {
      "cell_type": "markdown",
      "metadata": {
        "id": "VbeBb67iwJC6",
        "colab_type": "text"
      },
      "source": [
        "##First occurence in sorted array"
      ]
    },
    {
      "cell_type": "code",
      "metadata": {
        "id": "3sZP9YAYv47e",
        "colab_type": "code",
        "colab": {}
      },
      "source": [
        "def searchFirstOfK(A, k):\n",
        "  left, right, result = 0, len(A)-1, -1\n",
        "  while left <= right:\n",
        "    mid = left + ((right - left)/2)\n",
        "    if A[mid] > k:\n",
        "      right = mid - 1\n",
        "    elif A[mid] == k:\n",
        "      result = mid\n",
        "      right = mid - 1\n",
        "    else:\n",
        "      left = mid + 1\n",
        "  return result"
      ],
      "execution_count": 0,
      "outputs": []
    },
    {
      "cell_type": "markdown",
      "metadata": {
        "id": "g0EwxMpNB8d8",
        "colab_type": "text"
      },
      "source": [
        "##Print tree in spiral order"
      ]
    },
    {
      "cell_type": "code",
      "metadata": {
        "id": "84Wo9iDpB59q",
        "colab_type": "code",
        "colab": {}
      },
      "source": [
        "class newNode:  \n",
        "  \n",
        "    # Construct to create a newNode  \n",
        "    def __init__(self, key):  \n",
        "        self.data = key  \n",
        "        self.left = None\n",
        "        self.right = None\n",
        "        \n",
        "def printSpiral(root): \n",
        "    h = height(root)  \n",
        "    \"\"\"ltr Left to Right. If this variable  \n",
        "    is set, then the given level is traversed \n",
        "    from left to right. \"\"\"\n",
        "    ltr = False\n",
        "    for i in range(1, h + 1): \n",
        "        printGivenLevel(root, i, ltr)  \n",
        "        \"\"\"Revert ltr to traverse next level \n",
        "           in opposite order\"\"\"\n",
        "        ltr = not ltr \n",
        "\n",
        "def printGivenLevel(root, level, ltr): \n",
        "    if(root == None): \n",
        "        return\n",
        "    if(level == 1): \n",
        "#         print(root.data, end = \" \")  \n",
        "    elif (level > 1): \n",
        "        if(ltr): \n",
        "            printGivenLevel(root.left, level - 1, ltr)  \n",
        "            printGivenLevel(root.right, level - 1, ltr)  \n",
        "        else: \n",
        "            printGivenLevel(root.right, level - 1, ltr)  \n",
        "            printGivenLevel(root.left, level - 1, ltr)\n",
        "            \n",
        "def height(node): \n",
        "    if (node == None): \n",
        "        return 0\n",
        "    else: \n",
        "        \"\"\" compute the height of each subtree \"\"\"\n",
        "        lheight = height(node.left)  \n",
        "        rheight = height(node.right)  \n",
        "  \n",
        "        \"\"\" use the larger one \"\"\"\n",
        "        if (lheight > rheight): \n",
        "            return(lheight + 1)  \n",
        "        else: \n",
        "            return(rheight + 1)\n",
        "          "
      ],
      "execution_count": 0,
      "outputs": []
    },
    {
      "cell_type": "markdown",
      "metadata": {
        "id": "uBKek65cC0c3",
        "colab_type": "text"
      },
      "source": [
        "##Rotate Matrix by 90 degree"
      ]
    },
    {
      "cell_type": "code",
      "metadata": {
        "id": "nXcoITu2Cp7L",
        "colab_type": "code",
        "colab": {}
      },
      "source": [
        "# Rotate a matrix by 90 degree in clockwise direction without using any extra space\n",
        "# Function to rotate the matrix \n",
        "# 90 degree clockwise \n",
        "def rotate90Clockwise(A): \n",
        "    N = len(A[0]) \n",
        "    for i in range(N // 2): \n",
        "        for j in range(i, N - i - 1): \n",
        "            temp = A[i][j] \n",
        "            A[i][j] = A[N - 1 - j][i] \n",
        "            A[N - 1 - j][i] = A[N - 1 - i][N - 1 - j] \n",
        "            A[N - 1 - i][N - 1 - j] = A[j][N - 1 - i] \n",
        "            A[j][N - 1 - i] = temp \n",
        "  \n",
        "# Function to print the matrix \n",
        "def printMatrix(A): \n",
        "    N = len(A[0]) \n",
        "    for i in range(N): \n",
        "        print(A[i]) \n",
        "  "
      ],
      "execution_count": 0,
      "outputs": []
    },
    {
      "cell_type": "markdown",
      "metadata": {
        "id": "78GphLQ6D2D-",
        "colab_type": "text"
      },
      "source": [
        "##nxn spiral matrix"
      ]
    },
    {
      "cell_type": "code",
      "metadata": {
        "id": "RauGT3nJD4q5",
        "colab_type": "code",
        "colab": {}
      },
      "source": [
        "# Given a number n, print a n x n spiral matrix (of numbers from 1 to n x n) in \n",
        "# clockwise direction using O(1) space.\n",
        "# For upper right half,\n",
        "# mat[i][j] = (n-2*x)*(n-2*x)-(i-x)-(j-x)\n",
        "\n",
        "# For lower left half,\n",
        "# mat[i][j] = (n-2*x-2)*(n-2*x-2) + (i-x) + (j-x)\n",
        "# Prints spiral matrix of size n x n  \n",
        "# containing numbers from 1 to n x n \n",
        "def printSpiral(n) : \n",
        "    for i in range(0, n) : \n",
        "        for j in range(0, n) : \n",
        "              \n",
        "            # Finds minimum of four inputs \n",
        "            x = min(min(i, j), min(n - 1 - i, n - 1 - j)) \n",
        "              \n",
        "            # For upper right half \n",
        "            if (i <= j) : \n",
        "                print((n - 2 * x) * (n - 2 * x) -\n",
        "                      (i - x)- (j - x), end = \"\\t\") \n",
        "  \n",
        "            # For lower left half \n",
        "            else : \n",
        "                print(((n - 2 * x - 2) *\n",
        "                       (n - 2 * x - 2) +\n",
        "                       (i - x) + (j - x)), end = \"\\t\") \n",
        "        print() "
      ],
      "execution_count": 0,
      "outputs": []
    },
    {
      "cell_type": "markdown",
      "metadata": {
        "id": "amwT1x-OErEx",
        "colab_type": "text"
      },
      "source": [
        "##Print in spiral starting from a point"
      ]
    },
    {
      "cell_type": "code",
      "metadata": {
        "id": "NWKJ-b6rEu5w",
        "colab_type": "code",
        "colab": {}
      },
      "source": [
        "# Python3 program to print a matrix\n",
        "# in spiral form.\n",
        "MAX = 100\n",
        "\n",
        "def printSpiral(mat, r, c):\n",
        "\n",
        "  a = 0\n",
        "  b = 2\n",
        "\n",
        "  low_row = 0 if (0 > a) else a\n",
        "  low_column = 0 if (0 > b) else b – 1\n",
        "  high_row = r-1 if ((a + 1) >= r) else a + 1\n",
        "  high_column = c-1 if ((b + 1) >= c) else b + 1\n",
        "\n",
        "  while ((low_row > 0 – r and low_column > 0 – c)):\n",
        "    i = low_column + 1\n",
        "    while (i <= high_column and i < c and low_row >= 0):\n",
        "      print( mat[low_row][i], end = ” “)\n",
        "      i += 1\n",
        "      low_row -= 1\n",
        "    i = low_row + 2\n",
        "    while (i <= high_row and i < r and high_column < c): \n",
        "      print(mat[i][high_column], end = \" \") \n",
        "      i += 1 \n",
        "      high_column += 1 \n",
        "      i = high_column - 2 \n",
        "    while (i >= low_column and i >= 0 and high_row < r): \n",
        "      print(mat[high_row][i], end = \" \") \n",
        "      i -= 1 \n",
        "      high_row += 1 \n",
        "      i = high_row - 2 \n",
        "    while (i > low_row and i >= 0 and low_column >= 0):\n",
        "      print(mat[i][low_column], end = ” “)\n",
        "      i -= 1\n",
        "      low_column -= 1\n",
        "\n",
        "  print()"
      ],
      "execution_count": 0,
      "outputs": []
    },
    {
      "cell_type": "markdown",
      "metadata": {
        "id": "bpleEOlUHFIO",
        "colab_type": "text"
      },
      "source": [
        "##Design a data structure that supports insert, delete, search and getRandom in constant time"
      ]
    },
    {
      "cell_type": "code",
      "metadata": {
        "id": "q4WeccKGHHu9",
        "colab_type": "code",
        "colab": {}
      },
      "source": [
        "# insert(x)\n",
        "# 1) Check if x is already present by doing a hash map lookup.\n",
        "# 2) If not present, then insert it at the end of the array.\n",
        "# 3) Add in hash table also, x is added as key and last array index as index.\n",
        "\n",
        "# remove(x)\n",
        "# 1) Check if x is present by doing a hash map lookup.\n",
        "# 2) If present, then find its index and remove it from hash map.\n",
        "# 3) Swap the last element with this element in array and remove the last element.\n",
        "# Swapping is done because the last element can be removed in O(1) time.\n",
        "# 4) Update index of last element in hash map.\n",
        "\n",
        "# getRandom()\n",
        "# 1) Generate a random number from 0 to last index.\n",
        "# 2) Return the array element at the randomly generated index.\n",
        "\n",
        "# search(x)\n",
        "# Do a lookup for x in hash map."
      ],
      "execution_count": 0,
      "outputs": []
    },
    {
      "cell_type": "markdown",
      "metadata": {
        "id": "90jbgwjIHNIZ",
        "colab_type": "text"
      },
      "source": [
        "##Seive of Eratostene"
      ]
    },
    {
      "cell_type": "code",
      "metadata": {
        "id": "mA0kTEwpI9Jw",
        "colab_type": "code",
        "colab": {}
      },
      "source": [
        "// Sieve of Eratosthenes \n",
        "void seive() \n",
        "{ \n",
        "    for (int i = 2; i < N; i++) { \n",
        "        if (!prime[i]) { \n",
        "            for (int j = i + i; j < N; j += i) { \n",
        "                prime[j] = 1; \n",
        "            } \n",
        "        } \n",
        "    } \n",
        "    prime[1] = 1; \n",
        "} "
      ],
      "execution_count": 0,
      "outputs": []
    },
    {
      "cell_type": "markdown",
      "metadata": {
        "id": "kEjtwq6WJ_Ex",
        "colab_type": "text"
      },
      "source": [
        "##Min cost to reach end of array"
      ]
    },
    {
      "cell_type": "code",
      "metadata": {
        "id": "xg0WoBFjKDqc",
        "colab_type": "code",
        "colab": {}
      },
      "source": [
        "# Given an array arr[] of N integers and an integer K, one can move from an index i to any other j if j ≤ i + k. The cost of moving from one index i to the other index j is abs(arr[i] – arr[j]). Initially we start from the index 0 and we need to reach the last index i.e. N – 1. \n",
        "# The task is to reach the last index in the minimum cost possible.\n",
        "import sys \n",
        "  \n",
        "# Function to return the minimum cost \n",
        "# to reach the last index \n",
        "def FindMinimumCost(ind, a, n, k, dp): \n",
        "      \n",
        "    # If we reach the last index \n",
        "    if (ind == (n - 1)): \n",
        "        return 0\n",
        "  \n",
        "    # Already visited state \n",
        "    elif (dp[ind] != -1): \n",
        "        return dp[ind] \n",
        "    else: \n",
        "          \n",
        "        # Initially maximum \n",
        "        ans = sys.maxsize \n",
        "  \n",
        "        # Visit all possible reachable index \n",
        "        for i in range(1, k + 1): \n",
        "              \n",
        "            # If inside range \n",
        "            if (ind + i < n): \n",
        "                ans = min(ans, abs(a[ind + i] - a[ind]) + \n",
        "                      FindMinimumCost(ind + i, a, n, k, dp)) \n",
        "  \n",
        "            # We cannot move any further \n",
        "            else: \n",
        "                break\n",
        "  \n",
        "        # Memoize \n",
        "        dp[ind] = ans \n",
        "        return ans "
      ],
      "execution_count": 0,
      "outputs": []
    },
    {
      "cell_type": "markdown",
      "metadata": {
        "id": "EBjJ5czQKcfH",
        "colab_type": "text"
      },
      "source": [
        "##Make all numbers of an array equal"
      ]
    },
    {
      "cell_type": "code",
      "metadata": {
        "id": "ezL7i704Kewo",
        "colab_type": "code",
        "colab": {}
      },
      "source": [
        "# Approach: Any positive integer number can be factorized and written as 2**a * 3**b * 5**c * 7d *** …..\n",
        "# We can multiply given numbers by 2 and 3 so we can increase a and b for them. So we can make \n",
        "# all a and b equal by increasing them to the same big value (e.g. 100). But we can’t change \n",
        "# powers of other prime numbers so they must be equal from the beginning. We can check it by \n",
        "# diving all numbers from input by two and by three as many times as possible. \n",
        "# Then all of them must be equal.\n",
        "def EqualNumbers(a, n):  \n",
        "  \n",
        "    for i in range(0, n):  \n",
        "  \n",
        "        # Divide number by 2  \n",
        "        while a[i] % 2 == 0:  \n",
        "            a[i] //= 2\n",
        "  \n",
        "        # Divide number by 3  \n",
        "        while a[i] % 3 == 0:  \n",
        "            a[i] //= 3\n",
        "  \n",
        "    # Remaining numbers  \n",
        "    for i in range(1, n):  \n",
        "        if a[i] != a[0]:  \n",
        "            return False\n",
        "  \n",
        "    return True"
      ],
      "execution_count": 0,
      "outputs": []
    },
    {
      "cell_type": "markdown",
      "metadata": {
        "id": "8c5qAKtaLM57",
        "colab_type": "text"
      },
      "source": [
        "##Reach the numbers by making jumps of two given lengths"
      ]
    },
    {
      "cell_type": "code",
      "metadata": {
        "id": "T_w-HxB9Lfci",
        "colab_type": "code",
        "colab": {}
      },
      "source": [
        "# Approach: Any number x that is reachable from k with jumps d1 or d2 will be of the form x = k + (i * d1) + (j * d2) where i and j are integers.\n",
        "# Let the GCD of d1 and d2 be gcd. Since, gcd divides both d1 and d2. Therefore we can write d1 = m1 * gcd and d2 = m2 * gcd where m1 and m2 are integers\n",
        "# And x = k + gcd * (i * m1 + j * m2) = k + M * gcd.\n",
        "# So, any number x that is reachable from k should satisfy (x – k) % gcd = 0.\n",
        "\n",
        "\n",
        "import math as mt \n",
        "  \n",
        "# Function that returns the vector  \n",
        "# containing the result for the reachability  \n",
        "# of the required numbers \n",
        "def reachTheNums(nums, k, d1, d2, n): \n",
        "  \n",
        "    ans = [0 for i in range(n)] \n",
        "  \n",
        "    gcd = mt.gcd(d1, d2) \n",
        "  \n",
        "    for i in range(n): \n",
        "        x = nums[i] - k \n",
        "  \n",
        "        # If distance x is coverable \n",
        "        if (x % gcd == 0): \n",
        "            ans[i] = 1\n",
        "        else: \n",
        "            ans[i] = 0\n",
        "  \n",
        "    for i in range(n): \n",
        "        print(ans[i], end = \" \") "
      ],
      "execution_count": 0,
      "outputs": []
    },
    {
      "cell_type": "markdown",
      "metadata": {
        "id": "8iWW3wohMkp6",
        "colab_type": "text"
      },
      "source": [
        "##Largest palindromic number in an array"
      ]
    },
    {
      "cell_type": "code",
      "metadata": {
        "id": "UyJ9yw0BMmNd",
        "colab_type": "code",
        "colab": {}
      },
      "source": [
        "# Sort the array in ascending order.\n",
        "# Start traversing the array from the end.\n",
        "# The first number which is a palindrome is the required answer.\n",
        "# If no palindromic number is found then print -1\n",
        "def isPalindrome(n) : \n",
        "      \n",
        "    # Find the appropriate divisor  \n",
        "    # to extract the leading digit  \n",
        "    divisor = 1\n",
        "      \n",
        "    while (n / divisor >= 10) : \n",
        "        divisor *= 10\n",
        "  \n",
        "    while (n != 0) : \n",
        "          \n",
        "        leading = n // divisor \n",
        "        trailing = n % 10\n",
        "  \n",
        "        # If first and last digits are  \n",
        "        # not same then return false  \n",
        "        if (leading != trailing) : \n",
        "            return False\n",
        "  \n",
        "        # Removing the leading and trailing  \n",
        "        # digits from the number  \n",
        "        n = (n % divisor) // 10\n",
        "  \n",
        "        # Reducing divisor by a factor  \n",
        "        # of 2 as 2 digits are dropped  \n",
        "        divisor = divisor // 100\n",
        "      \n",
        "    return True\n",
        "  \n",
        "# Function to find the largest  \n",
        "# palindromic number  \n",
        "def largestPalindrome(A, n) : \n",
        "  \n",
        "    # Sort the array  \n",
        "    A.sort() \n",
        "  \n",
        "    for i in range(n - 1, -1, -1) : \n",
        "  \n",
        "        # If number is palindrome  \n",
        "        if (isPalindrome(A[i])) : \n",
        "            return A[i]  \n",
        "      \n",
        "    # If no palindromic number found  \n",
        "    return -1"
      ],
      "execution_count": 0,
      "outputs": []
    },
    {
      "cell_type": "markdown",
      "metadata": {
        "id": "9rbTaSYOnfr1",
        "colab_type": "text"
      },
      "source": [
        "##Find the row with maximum number of 1s"
      ]
    },
    {
      "cell_type": "code",
      "metadata": {
        "id": "lPtwzQt3ni8K",
        "colab_type": "code",
        "colab": {}
      },
      "source": [
        "def first( arr, low, high): \n",
        "    if high >= low: \n",
        "          \n",
        "        # Get the middle index  \n",
        "        mid = low + (high - low)//2\n",
        "  \n",
        "        # Check if the element at  \n",
        "        # middle index is first 1 \n",
        "        if (mid == 0 or arr[mid - 1] == 0) and arr[mid] == 1: \n",
        "            return mid \n",
        "  \n",
        "        # If the element is 0,  \n",
        "        # recur for right side \n",
        "        elif arr[mid] == 0: \n",
        "            return first(arr, (mid + 1), high) \n",
        "      \n",
        "        # If element is not first 1,  \n",
        "        # recur for left side \n",
        "        else: \n",
        "            return first(arr, low, (mid - 1)) \n",
        "    return -1\n",
        "  \n",
        "# Function that returns  \n",
        "# index of row with maximum  \n",
        "# number of 1s.  \n",
        "# def rowWithMax1s( mat): \n",
        "      \n",
        "#     # Initialize max values \n",
        "#     R = len(mat) \n",
        "#     C = len(mat[0]) \n",
        "#     max_row_index = 0\n",
        "#     max = -1\n",
        "      \n",
        "#     # Traverse for each row and  \n",
        "#     # count number of 1s by finding \n",
        "#     #  the index of first 1 \n",
        "#     for i in range(0, R): \n",
        "#         index = first (mat[i], 0, C - 1) \n",
        "#         if index != -1 and C - index > max: \n",
        "#             max = C - index \n",
        "#             max_row_index = i \n",
        "  \n",
        "#     return max_row_index\n",
        "int rowWithMax1s(bool mat[R][C]) \n",
        "{ \n",
        "    // Initialize first row as row with max 1s \n",
        "    int max_row_index = 0; \n",
        "  \n",
        "    // The function first() returns index of first 1 in row 0. \n",
        "    // Use this index to initialize the index of leftmost 1 seen so far \n",
        "    int j = first(mat[0], 0, C-1); \n",
        "    if (j == -1) // if 1 is not present in first row \n",
        "      j = C - 1; \n",
        "  \n",
        "    for (int i = 1; i < R; i++) \n",
        "    { \n",
        "        // Move left until a 0 is found \n",
        "        while (j >= 0 && mat[i][j] == 1) \n",
        "        { \n",
        "           j = j-1;  // Update the index of leftmost 1 seen so far \n",
        "           max_row_index = i;  // Update max_row_index \n",
        "        } \n",
        "    } \n",
        "    return max_row_index; \n",
        "}\n",
        "# Following method works in O(m+n) time complexity in worst case.\n",
        "\n",
        "# Step1: Get the index of first (or leftmost) 1 in the first row.\n",
        "\n",
        "# Step2: Do following for every row after the first row\n",
        "# …IF the element on left of previous leftmost 1 is 0, ignore this row.\n",
        "# …ELSE Move left until a 0 is found. Update the leftmost index to this index and max_row_index to be the current row.\n",
        "\n",
        "# The time complexity is O(m+n) because we can possibly go as far left as we came ahead in the first step.\n",
        "\n",
        "def maxOnes(input): \n",
        "  \n",
        "     # map sum function on each row of \n",
        "     # given matrix \n",
        "     # it will return list of sum of all one's \n",
        "     # in each row, then find index of maximum element \n",
        "     result = list(map(sum,input)) \n",
        "     print (result.index(max(result)))\n",
        "# THis runs in O(m*n)\n",
        "  "
      ],
      "execution_count": 0,
      "outputs": []
    },
    {
      "cell_type": "markdown",
      "metadata": {
        "id": "9UqKKL81yK_o",
        "colab_type": "text"
      },
      "source": [
        "##max number of elts st their diff <= 1"
      ]
    },
    {
      "cell_type": "code",
      "metadata": {
        "id": "u650mZ0lySqk",
        "colab_type": "code",
        "colab": {}
      },
      "source": [
        "# Python program to find maximum number of  \n",
        "# elements such that their absolute \n",
        "# difference is less than or equal to 1 \n",
        "  \n",
        "def maxCount(a): \n",
        "  \n",
        "    # Counting frequencies of elements \n",
        "    freq = {} \n",
        "    for i in range(n): \n",
        "        if (a[i] in freq):  \n",
        "            freq[a[i]] += 1\n",
        "        else:  \n",
        "            freq[a[i]] = 1\n",
        "          \n",
        "      \n",
        "    # Finding max sum of adjacent indices     \n",
        "    ans = 0\n",
        "    for key, value in freq.items():  \n",
        "        if (key+1 in freq) :     \n",
        "            ans = max(ans, freq[key] + freq[key + 1])  \n",
        "      \n",
        "    return ans "
      ],
      "execution_count": 0,
      "outputs": []
    },
    {
      "cell_type": "markdown",
      "metadata": {
        "id": "G0gcpSR0zfo7",
        "colab_type": "text"
      },
      "source": [
        "##Next Greater Element"
      ]
    },
    {
      "cell_type": "code",
      "metadata": {
        "id": "_EQJ32VMzjCi",
        "colab_type": "code",
        "colab": {}
      },
      "source": [
        ""
      ],
      "execution_count": 0,
      "outputs": []
    },
    {
      "cell_type": "code",
      "metadata": {
        "id": "5Ghs0PLEzk83",
        "colab_type": "code",
        "colab": {}
      },
      "source": [
        "# Stack Functions to be used by printNGE() \n",
        "def createStack(): \n",
        "    stack = [] \n",
        "    return stack \n",
        "  \n",
        "def isEmpty(stack): \n",
        "    return len(stack) == 0\n",
        "  \n",
        "def push(stack, x): \n",
        "    stack.append(x) \n",
        "  \n",
        "def pop(stack): \n",
        "    if isEmpty(stack): \n",
        "        print(\"Error : stack underflow\") \n",
        "    else: \n",
        "        return stack.pop() \n",
        "  \n",
        "'''prints element and NGE pair for all elements of \n",
        "   arr[] '''\n",
        "def printNGE(arr): \n",
        "    s = createStack() \n",
        "    element = 0\n",
        "    next = 0\n",
        "  \n",
        "    # push the first element to stack \n",
        "    push(s, arr[0]) \n",
        "  \n",
        "    # iterate for rest of the elements \n",
        "    for i in range(1, len(arr), 1): \n",
        "        next = arr[i] \n",
        "  \n",
        "        if isEmpty(s) == False: \n",
        "  \n",
        "            # if stack is not empty, then pop an element from stack \n",
        "            element = pop(s) \n",
        "  \n",
        "            '''If the popped element is smaller than next, then \n",
        "                a) print the pair \n",
        "                b) keep popping while elements are smaller and \n",
        "                   stack is not empty '''\n",
        "            while element < next : \n",
        "                print(str(element)+ \" -- \" + str(next)) \n",
        "                if isEmpty(s) == True : \n",
        "                    break\n",
        "                element = pop(s) \n",
        "  \n",
        "            '''If element is greater than next, then push \n",
        "               the element back '''\n",
        "            if  element > next: \n",
        "                push(s, element) \n",
        "  \n",
        "        '''push next to stack so that we can find \n",
        "           next greater for it '''\n",
        "        push(s, next) \n",
        "  \n",
        "    '''After iterating over the loop, the remaining \n",
        "       elements in stack do not have the next greater \n",
        "       element, so print -1 for them '''\n",
        "  \n",
        "    while isEmpty(s) == False: \n",
        "            element = pop(s) \n",
        "            next = -1\n",
        "            print(str(element) + \" -- \" + str(next)) \n",
        "  \n",
        "# Driver program to test above functions \n",
        "arr = [11, 13, 21, 3] \n",
        "printNGE(arr) "
      ],
      "execution_count": 0,
      "outputs": []
    },
    {
      "cell_type": "markdown",
      "metadata": {
        "id": "bAn5wgJz0qCf",
        "colab_type": "text"
      },
      "source": [
        "##Optimal Strategy for a Game"
      ]
    },
    {
      "cell_type": "code",
      "metadata": {
        "id": "xJciUUNn0sRo",
        "colab_type": "code",
        "colab": {}
      },
      "source": [
        "def oSRec (arr, i, j, Sum): \n",
        "  \n",
        "    if (j == i + 1): \n",
        "        return max(arr[i], arr[j]) \n",
        "  \n",
        "    # For both of your choices, the opponent \n",
        "    # gives you total Sum minus maximum of \n",
        "    # his value \n",
        "    return max((Sum - oSRec(arr, i + 1, j, Sum - arr[i])), \n",
        "                (Sum - oSRec(arr, i, j - 1, Sum - arr[j]))) \n",
        "  \n",
        "# Returns optimal value possible that a player can \n",
        "# collect from an array of coins of size n. Note \n",
        "# than n must be even \n",
        "def optimalStrategyOfGame(arr, n): \n",
        "  \n",
        "    Sum = 0\n",
        "    Sum = sum(arr) \n",
        "    return oSRec(arr, 0, n - 1, Sum) \n",
        "\n",
        "#   U can also use memoization to boost efficiency"
      ],
      "execution_count": 0,
      "outputs": []
    },
    {
      "cell_type": "markdown",
      "metadata": {
        "id": "t-ZAUF-A1W7u",
        "colab_type": "text"
      },
      "source": [
        "##Find length of largest region in boolean matrix"
      ]
    },
    {
      "cell_type": "code",
      "metadata": {
        "id": "Hc-iIa9_1dV4",
        "colab_type": "code",
        "colab": {}
      },
      "source": [
        "# Python3 program to find the length of the \n",
        "# largest region in boolean 2D-matrix \n",
        "\n",
        "# A function to check if a given cell \n",
        "# (row, col) can be included in DFS \n",
        "def isSafe(M, row, col, visited): \n",
        "\tglobal ROW, COL \n",
        "\t\n",
        "\t# row number is in range, column number is in \n",
        "\t# range and value is 1 and not yet visited \n",
        "\treturn ((row >= 0) and (row < ROW) and\n",
        "\t\t\t(col >= 0) and (col < COL) and\n",
        "\t\t\t(M[row][col] and not visited[row][col])) \n",
        "\n",
        "# A utility function to do DFS for a 2D \n",
        "# boolean matrix. It only considers \n",
        "# the 8 neighbours as adjacent vertices \n",
        "def DFS(M, row, col, visited, count): \n",
        "\t\n",
        "\t# These arrays are used to get row and column \n",
        "\t# numbers of 8 neighbours of a given cell \n",
        "\trowNbr = [-1, -1, -1, 0, 0, 1, 1, 1] \n",
        "\tcolNbr = [-1, 0, 1, -1, 1, -1, 0, 1] \n",
        "\n",
        "\t# Mark this cell as visited \n",
        "\tvisited[row][col] = True\n",
        "\n",
        "\t# Recur for all connected neighbours \n",
        "\tfor k in range(8): \n",
        "\t\tif (isSafe(M, row + rowNbr[k], \n",
        "\t\t\t\tcol + colNbr[k], visited)): \n",
        "\t\t\t\t\t\t\n",
        "\t\t\t# increment region length by one \n",
        "\t\t\tcount[0] += 1\n",
        "\t\t\tDFS(M, row + rowNbr[k], \n",
        "\t\t\t\tcol + colNbr[k], visited, count) \n",
        "\n",
        "# The main function that returns largest \n",
        "# length region of a given boolean 2D matrix \n",
        "def largestRegion(M): \n",
        "\tglobal ROW, COL \n",
        "\t\n",
        "\t# Make a bool array to mark visited cells. \n",
        "\t# Initially all cells are unvisited \n",
        "\tvisited = [[0] * COL for i in range(ROW)] \n",
        "\n",
        "\t# Initialize result as 0 and travesle \n",
        "\t# through the all cells of given matrix \n",
        "\tresult = -999999999999\n",
        "\tfor i in range(ROW): \n",
        "\t\tfor j in range(COL): \n",
        "\t\t\t\n",
        "\t\t\t# If a cell with value 1 is not \n",
        "\t\t\tif (M[i][j] and not visited[i][j]): \n",
        "\t\t\t\t\n",
        "\t\t\t\t# visited yet, then new region found \n",
        "\t\t\t\tcount = [1] \n",
        "\t\t\t\tDFS(M, i, j, visited , count) \n",
        "\n",
        "\t\t\t\t# maximum region \n",
        "\t\t\t\tresult = max(result , count[0]) \n",
        "\treturn result \n",
        "\n",
        "# Driver Code \n",
        "ROW = 4\n",
        "COL = 5\n",
        "\n",
        "M = [[0, 0, 1, 1, 0], \n",
        "\t[1, 0, 1, 1, 0], \n",
        "\t[0, 1, 0, 0, 0], \n",
        "\t[0, 0, 0, 0, 1]] \n",
        "\n",
        "print(largestRegion(M)) \n",
        "\n",
        "# This code is contributed by PranchalK \n"
      ],
      "execution_count": 0,
      "outputs": []
    },
    {
      "cell_type": "markdown",
      "metadata": {
        "id": "9sNIZFn63WaU",
        "colab_type": "text"
      },
      "source": [
        "##Sort array after converting elements to their squares"
      ]
    },
    {
      "cell_type": "code",
      "metadata": {
        "id": "YLeinWbr3clO",
        "colab_type": "code",
        "colab": {}
      },
      "source": [
        "# Divide the array into two part “Negative and positive “.\n",
        "# Use merge function to merge two sorted arrays into a single sorted array.\n",
        "# Python program for implementation of MergeSort \n",
        "def mergeSort(arr): \n",
        "    if len(arr) >1: \n",
        "        mid = len(arr)//2 #Finding the mid of the array \n",
        "        L = arr[:mid] # Dividing the array elements  \n",
        "        R = arr[mid:] # into 2 halves \n",
        "  \n",
        "        mergeSort(L) # Sorting the first half \n",
        "        mergeSort(R) # Sorting the second half \n",
        "  \n",
        "        i = j = k = 0\n",
        "          \n",
        "        # Copy data to temp arrays L[] and R[] \n",
        "        while i < len(L) and j < len(R): \n",
        "            if L[i] < R[j]: \n",
        "                arr[k] = L[i] \n",
        "                i+=1\n",
        "            else: \n",
        "                arr[k] = R[j] \n",
        "                j+=1\n",
        "            k+=1\n",
        "          \n",
        "        # Checking if any element was left \n",
        "        while i < len(L): \n",
        "            arr[k] = L[i] \n",
        "            i+=1\n",
        "            k+=1\n",
        "          \n",
        "        while j < len(R): \n",
        "            arr[k] = R[j] \n",
        "            j+=1\n",
        "            k+=1"
      ],
      "execution_count": 0,
      "outputs": []
    },
    {
      "cell_type": "markdown",
      "metadata": {
        "id": "My9vo_rg3vfg",
        "colab_type": "text"
      },
      "source": [
        "##Maximum profit from sale of wines"
      ]
    },
    {
      "cell_type": "code",
      "metadata": {
        "id": "DGRURpSY4IPy",
        "colab_type": "code",
        "colab": {}
      },
      "source": [
        "# Given an array of wine prices, any given year you can sell a bottle of wine only from either of the ends. \n",
        "# Bottle of wine increases every year. Find max profit after selling all.\n",
        "// Program to calculate maximum price of wines \n",
        "#include <bits/stdc++.h> \n",
        "using namespace std; \n",
        "\n",
        "#define N 1000 \n",
        "\n",
        "int dp[N][N]; \n",
        "\n",
        "// This array stores the \"optimal action\" \n",
        "// for each state i, j \n",
        "int sell[N][N]; \n",
        "\n",
        "// Function to maximize profit \n",
        "int maxProfitUtil(int price[], int begin, \n",
        "\t\t\t\tint end, int n) { \n",
        "\tif (dp[begin][end] != -1) \n",
        "\t\treturn dp[begin][end]; \n",
        "\n",
        "\tint year = n - (end - begin); \n",
        "\n",
        "\tif (begin == end) \n",
        "\t\treturn year * price[begin];\t \n",
        "\n",
        "\t// x = maximum profit on selling the \n",
        "\t// wine from the front this year \n",
        "\tint x = price[begin] * year + \n",
        "\t\t\tmaxProfitUtil(price, begin + 1, end, n); \n",
        "\n",
        "\t// y = maximum profit on selling the \n",
        "\t// wine from the end this year \n",
        "\tint y = price[end] * year + \n",
        "\t\t\tmaxProfitUtil(price, begin, end - 1, n); \n",
        "\n",
        "\tint ans = max(x, y); \n",
        "\tdp[begin][end] = ans; \n",
        "\n",
        "\tif (x >= y) \n",
        "\t\tsell[begin][end] = 0; \n",
        "\telse\n",
        "\t\tsell[begin][end] = 1; \n",
        "\n",
        "\treturn ans; \n",
        "} \n",
        "\n",
        "// Util Function to calculate maxProfit \n",
        "int maxProfit(int price[], int n) { \n",
        "\t// reseting the dp table \n",
        "\tfor (int i = 0; i < N; i++) \n",
        "\t\tfor (int j = 0; j < N; j++) \n",
        "\t\t\tdp[i][j] = -1; \n",
        "\n",
        "\tint ans = maxProfitUtil(price, 0, n - 1, n); \n",
        "\n",
        "\tint i = 0, j = n - 1; \n",
        "\n",
        "\twhile (i <= j) { \n",
        "\t\t// sell[i][j]=0 implies selling the \n",
        "\t\t// wine from beginning will be more \n",
        "\t\t// profitable in the long run \n",
        "\t\tif (sell[i][j] == 0) { \n",
        "\t\t\tcout << \"beg \"; \n",
        "\t\t\ti++; \n",
        "\t\t} else { \n",
        "\t\t\tcout << \"end \"; \n",
        "\t\t\tj--; \n",
        "\t\t} \n",
        "\t} \n",
        "\n",
        "\tcout << endl; \n",
        "\n",
        "\treturn ans; \n",
        "} \n",
        "\n",
        "// Driver code \n",
        "int main() { \n",
        "\t// Price array \n",
        "\tint price[] = { 2, 4, 6, 2, 5 }; \n",
        "\n",
        "\tint n = sizeof(price) / sizeof(price[0]); \n",
        "\n",
        "\tint ans = maxProfit(price, n); \n",
        "\n",
        "\tcout << ans << endl; \n",
        "\n",
        "\treturn 0; \n",
        "} \n"
      ],
      "execution_count": 0,
      "outputs": []
    },
    {
      "cell_type": "markdown",
      "metadata": {
        "id": "rp-8UylU6y5O",
        "colab_type": "text"
      },
      "source": [
        "##Maximum Path Sum in a Binary Tree"
      ]
    },
    {
      "cell_type": "code",
      "metadata": {
        "id": "2Dkg-7CZ615P",
        "colab_type": "code",
        "colab": {}
      },
      "source": [
        "\n",
        "# A Binary Tree Node \n",
        "class Node: \n",
        "      \n",
        "    # Contructor to create a new node \n",
        "    def __init__(self, data): \n",
        "        self.data = data \n",
        "        self.left = None\n",
        "        self.right = None\n",
        "  \n",
        "# This function returns overall maximum path sum in 'res' \n",
        "# And returns max path sum going through root \n",
        "def findMaxUtil(root): \n",
        "      \n",
        "    # Base Case \n",
        "    if root is None: \n",
        "        return 0 \n",
        "  \n",
        "    # l and r store maximum path sum going through left  \n",
        "    # and right child of root respetively \n",
        "    l = findMaxUtil(root.left) \n",
        "    r = findMaxUtil(root.right) \n",
        "      \n",
        "    # Max path for parent call of root. This path  \n",
        "    # must include at most one child of root \n",
        "    max_single = max(max(l, r) + root.data, root.data) \n",
        "      \n",
        "    # Max top represents the sum when the node under \n",
        "    # consideration is the root of the maxSum path and \n",
        "    # no ancestor of root are there in max sum path \n",
        "    max_top = max(max_single, l+r+ root.data) \n",
        "  \n",
        "    # Static variable to store the changes \n",
        "    # Store the maximum result \n",
        "    findMaxUtil.res = max(findMaxUtil.res, max_top)  \n",
        "  \n",
        "    return max_single \n",
        "  \n",
        "# Return maximum path sum in tree with given root \n",
        "def findMaxSum(root): \n",
        "      \n",
        "    # Initialize result \n",
        "    findMaxUtil.res = float(\"-inf\") \n",
        "      \n",
        "    # Compute and return result \n",
        "    findMaxUtil(root) \n",
        "    return findMaxUtil.res"
      ],
      "execution_count": 0,
      "outputs": []
    },
    {
      "cell_type": "markdown",
      "metadata": {
        "id": "Au2hzy6s9TkH",
        "colab_type": "text"
      },
      "source": [
        "##Find whether it is possible to finish all tasks or not from given dependencies"
      ]
    },
    {
      "cell_type": "code",
      "metadata": {
        "id": "iP87IU4_9Wcl",
        "colab_type": "code",
        "colab": {}
      },
      "source": [
        "// Returns adjacency list representation from a list \n",
        "// of pairs. \n",
        "vector<unordered_set<int> > make_graph(int numTasks, \n",
        "            vector<pair<int, int> >& prerequisites) \n",
        "{ \n",
        "    vector<unordered_set<int> > graph(numTasks); \n",
        "    for (auto pre : prerequisites) \n",
        "        graph[pre.second].insert(pre.first); \n",
        "    return graph; \n",
        "} \n",
        "  \n",
        "// A DFS based function to check if there is a cycle \n",
        "// in the directed graph. \n",
        "bool dfs_cycle(vector<unordered_set<int> >& graph, int node,  \n",
        "               vector<bool>& onpath, vector<bool>& visited) \n",
        "{ \n",
        "    if (visited[node]) \n",
        "        return false; \n",
        "    onpath[node] = visited[node] = true; \n",
        "    for (int neigh : graph[node]) \n",
        "        if (onpath[neigh] || dfs_cycle(graph, neigh, onpath, visited)) \n",
        "            return true; \n",
        "    return onpath[node] = false; \n",
        "} \n",
        "  \n",
        "// Main function to check whether possible to finish all tasks or not \n",
        "bool canFinish(int numTasks, vector<pair<int, int> >& prerequisites) \n",
        "{ \n",
        "    vector<unordered_set<int> > graph = make_graph(numTasks, prerequisites); \n",
        "    vector<bool> onpath(numTasks, false), visited(numTasks, false); \n",
        "    for (int i = 0; i < numTasks; i++) \n",
        "        if (!visited[i] && dfs_cycle(graph, i, onpath, visited)) \n",
        "            return false; \n",
        "    return true; \n",
        "} \n",
        "\n",
        "##BFS solution\n",
        "public boolean canFinish(int numCourses, int[][] prerequisites) {\n",
        "    if(prerequisites == null){\n",
        "        throw new IllegalArgumentException(\"illegal prerequisites array\");\n",
        "    }\n",
        " \n",
        "    int len = prerequisites.length;\n",
        " \n",
        "    if(numCourses == 0 || len == 0){\n",
        "        return true;\n",
        "    }\n",
        " \n",
        "    // counter for number of prerequisites\n",
        "    int[] pCounter = new int[numCourses];\n",
        "    for(int i=0; i<len; i++){\n",
        "        pCounter[prerequisites[i][0]]++;\n",
        "    }\n",
        " \n",
        "    //store courses that have no prerequisites\n",
        "    LinkedList<Integer> queue = new LinkedList<Integer>();\n",
        "    for(int i=0; i<numCourses; i++){\n",
        "        if(pCounter[i]==0){\n",
        "            queue.add(i);\n",
        "        }\n",
        "    }\n",
        " \n",
        "    // number of courses that have no prerequisites\n",
        "    int numNoPre = queue.size();\n",
        " \n",
        "    while(!queue.isEmpty()){\n",
        "        int top = queue.remove();\n",
        "        for(int i=0; i<len; i++){\n",
        "            // if a course's prerequisite can be satisfied by a course in queue\n",
        "            if(prerequisites[i][1]==top){\n",
        "                pCounter[prerequisites[i][0]]--;\n",
        "                if(pCounter[prerequisites[i][0]]==0){\n",
        "                    numNoPre++;\n",
        "                    queue.add(prerequisites[i][0]);\n",
        "                }\n",
        "            }\n",
        "        }\n",
        "    }\n",
        " \n",
        "    return numNoPre == numCourses;\n",
        "}"
      ],
      "execution_count": 0,
      "outputs": []
    },
    {
      "cell_type": "markdown",
      "metadata": {
        "id": "sZT9FDKV_ea5",
        "colab_type": "text"
      },
      "source": [
        "##Maximum occurred integer in n ranges"
      ]
    },
    {
      "cell_type": "code",
      "metadata": {
        "id": "EJF0YRAQ_g_p",
        "colab_type": "code",
        "colab": {}
      },
      "source": [
        "# Given n ranges of the form L and R, the task is to find the maximum occurred integer in all the ranges. If more than one such integer exists, print the smallest one.\n",
        "# 0 <= Li, Ri < 1000000.\n",
        "# Initialize an array arr[] to 0.\n",
        "# For each range i, add +1 at Li index and -1 at Ri of the array.\n",
        "# Find the prefix sum of the array and find the smallest index having maximum prefix sum.\n",
        "MAX = 1000000\n",
        "  \n",
        "# Return the maximum occurred element  \n",
        "# in all ranges. \n",
        "def maximumOccuredElement(L, R, n): \n",
        "      \n",
        "    # Initalising all element of array to 0. \n",
        "    arr = [0 for i in range(MAX)] \n",
        "  \n",
        "    # Adding +1 at Li index and substracting 1 \n",
        "    # at Ri index. \n",
        "    for i in range(0, n, 1): \n",
        "        arr[L[i]] += 1\n",
        "        arr[R[i] + 1] -= 1\n",
        "  \n",
        "    # Finding prefix sum and index \n",
        "    # having maximum prefix sum. \n",
        "    msum = arr[0] \n",
        "    for i in range(1, MAX, 1): \n",
        "        arr[i] += arr[i - 1] \n",
        "        if (msum < arr[i]): \n",
        "            msum = arr[i] \n",
        "            ind = i \n",
        "    return ind \n",
        "# Time Complexity: O(n + MAX)"
      ],
      "execution_count": 0,
      "outputs": []
    },
    {
      "cell_type": "markdown",
      "metadata": {
        "id": "5vb-V2CsBn0k",
        "colab_type": "text"
      },
      "source": [
        "##Find pos of elt in sorted array of infinite size"
      ]
    },
    {
      "cell_type": "code",
      "metadata": {
        "id": "qRJVQMmoBzuU",
        "colab_type": "code",
        "colab": {}
      },
      "source": [
        "# Python Program to demonstrate working of an algorithm that finds \n",
        "# an element in an array of infinite size \n",
        "  \n",
        "# Binary search algorithm implementation \n",
        "def binary_search(arr,l,r,x): \n",
        "  \n",
        "    if r >= l: \n",
        "        mid = l+(r-l)/2\n",
        "  \n",
        "        if arr[mid] == x: \n",
        "            return mid \n",
        "  \n",
        "        if arr[mid] > x: \n",
        "            return binary_search(arr,l,mid-1,x) \n",
        "  \n",
        "        return binary_search(arr,mid+1,r,x) \n",
        "  \n",
        "    return -1\n",
        "  \n",
        "# function takes an infinite size array and a key to be \n",
        "# searched and returns its position if found else -1. \n",
        "# We don't know size of a[] and we can assume size to be \n",
        "# infinite in this function. \n",
        "# NOTE THAT THIS FUNCTION ASSUMES a[] TO BE OF INFINITE SIZE \n",
        "# THEREFORE, THERE IS NO INDEX OUT OF BOUND CHECKING \n",
        "def findPos(a, key): \n",
        "  \n",
        "    l, h, val = 0, 1, arr[0] \n",
        "  \n",
        "    # Find h to do binary search \n",
        "    while val < key: \n",
        "        l = h            #store previous high \n",
        "        h = 2*h          #double high index \n",
        "        val = arr[h]       #update new val \n",
        "  \n",
        "    # at this point we have updated low and high indices, \n",
        "    # thus use binary search between them \n",
        "    return binary_search(a, l, h, key)"
      ],
      "execution_count": 0,
      "outputs": []
    },
    {
      "cell_type": "markdown",
      "metadata": {
        "id": "5xfd4aMOB6sm",
        "colab_type": "text"
      },
      "source": [
        "##Find the Missing Number"
      ]
    },
    {
      "cell_type": "code",
      "metadata": {
        "id": "GO9GmqVDCqUx",
        "colab_type": "code",
        "colab": {}
      },
      "source": [
        "# You are given a list of n-1 integers and these integers are in the range of 1 to n. There are no duplicates in list. One of the integers is missing in the list. \n",
        "# Write an efficient code to find the missing integer.\n",
        "def getMissingNo(a,n): \n",
        "    x1 = a[0] \n",
        "    x2 = 1\n",
        "      \n",
        "    for i in range(1,n): \n",
        "        x1 = x1 ^ a[i] \n",
        "          \n",
        "    for i in range(2,n+2): \n",
        "        x2 = x2^i \n",
        "      \n",
        "    return x1 ^ x2 "
      ],
      "execution_count": 0,
      "outputs": []
    },
    {
      "cell_type": "markdown",
      "metadata": {
        "id": "hYfYmNIwEGAp",
        "colab_type": "text"
      },
      "source": [
        "##Find k closest elts to x in sorted array"
      ]
    },
    {
      "cell_type": "code",
      "metadata": {
        "id": "F5n7EAEBEKxg",
        "colab_type": "code",
        "colab": {}
      },
      "source": [
        "# Function to find the cross over point \n",
        "# (the point before which elements are \n",
        "# smaller than or equal to x and after \n",
        "# which greater than x) \n",
        "def findCrossOver(arr, low, high, x) : \n",
        "\n",
        "\t# Base cases \n",
        "\tif (arr[high] <= x) : # x is greater than all \n",
        "\t\treturn high \n",
        "\t\t\n",
        "\tif (arr[low] > x) : # x is smaller than all \n",
        "\t\treturn low \n",
        "\t\n",
        "\t# Find the middle point \n",
        "\tmid = (low + high) // 2 # low + (high - low)// 2 \n",
        "\t\n",
        "\t# If x is same as middle element, \n",
        "\t# then return mid \n",
        "\tif (arr[mid] <= x and arr[mid + 1] > x) : \n",
        "\t\treturn mid \n",
        "\t\n",
        "\t# If x is greater than arr[mid], then \n",
        "\t# either arr[mid + 1] is ceiling of x \n",
        "\t# or ceiling lies in arr[mid+1...high] \n",
        "\tif(arr[mid] < x) : \n",
        "\t\treturn findCrossOver(arr, mid + 1, high, x) \n",
        "\t\n",
        "\treturn findCrossOver(arr, low, mid - 1, x) \n",
        "\n",
        "# This function prints k closest elements to x \n",
        "# in arr[]. n is the number of elements in arr[] \n",
        "def printKclosest(arr, x, k, n) : \n",
        "\t\n",
        "\t# Find the crossover point \n",
        "\tl = findCrossOver(arr, 0, n - 1, x) \n",
        "\tr = l + 1 # Right index to search \n",
        "\tcount = 0 # To keep track of count of \n",
        "\t\t\t# elements already printed \n",
        "\n",
        "\t# If x is present in arr[], then reduce \n",
        "\t# left index. Assumption: all elements \n",
        "\t# in arr[] are distinct \n",
        "\tif (arr[l] == x) : \n",
        "\t\tl -= 1\n",
        "\n",
        "\t# Compare elements on left and right of crossover \n",
        "\t# point to find the k closest elements \n",
        "\twhile (l >= 0 and r < n and count < k) : \n",
        "\t\t\n",
        "\t\tif (x - arr[l] < arr[r] - x) : \n",
        "\t\t\tprint(arr[l], end = \" \") \n",
        "\t\t\tl -= 1\n",
        "\t\telse : \n",
        "\t\t\tprint(arr[r], end = \" \") \n",
        "\t\t\tr += 1\n",
        "\t\tcount += 1\n",
        "\n",
        "\t# If there are no more elements on right \n",
        "\t# side, then print left elements \n",
        "\twhile (count < k and l >= 0) : \n",
        "\t\tprint(arr[l], end = \" \") \n",
        "\t\tl -= 1\n",
        "\t\tcount += 1\n",
        "\n",
        "\t# If there are no more elements on left \n",
        "\t# side, then print right elements \n",
        "\twhile (count < k and r < n) : \n",
        "\t\tprint(arr[r], end = \" \") \n",
        "\t\tr += 1\n",
        "\t\tcount += 1\n",
        "\n",
        "# Driver Code \n",
        "if __name__ == \"__main__\" : \n",
        "\n",
        "\tarr =[12, 16, 22, 30, 35, 39, 42, \n",
        "\t\t\t45, 48, 50, 53, 55, 56] \n",
        "\t\t\t\t\n",
        "\tn = len(arr) \n",
        "\tx = 35\n",
        "\tk = 4\n",
        "\t\n",
        "\tprintKclosest(arr, x, 4, n) \n",
        "\t\n",
        "# This code is contributed by Ryuga \n"
      ],
      "execution_count": 0,
      "outputs": []
    },
    {
      "cell_type": "markdown",
      "metadata": {
        "id": "aUM1l5e7EjHc",
        "colab_type": "text"
      },
      "source": [
        "##Find k closest in unsorted array"
      ]
    },
    {
      "cell_type": "code",
      "metadata": {
        "id": "7Af13ZpfEmW6",
        "colab_type": "code",
        "colab": {}
      },
      "source": [
        "# use Heap Data Structure\n",
        "# 1) Make a max heap of differences with first k elements.\n",
        "# 2) For every element starting from (k+1)-th element, do following.\n",
        "# …..a) Find difference of current element with x.\n",
        "# …..b) If difference is more than root of heap, ignore current element.\n",
        "# …..c) Else insert the current element to the heap.\n",
        "# 3) Finally the heap has k closest elements.\n",
        "import math \n",
        "import sys \n",
        "from queue import PriorityQueue \n",
        "def printKclosest(arr,n,x,k): \n",
        "  \n",
        "    # Make a max heap of difference with  \n",
        "    # first k elements.  \n",
        "    pq = PriorityQueue() \n",
        "    for i in range(k): \n",
        "        pq.put((-abs(arr[i]-x),i)) \n",
        "  \n",
        "    # Now process remaining elements \n",
        "    for i in range(k,n): \n",
        "        diff = abs(arr[i]-x) \n",
        "        p,pi = pq.get() \n",
        "        curr = -p \n",
        "  \n",
        "        # If difference with current  \n",
        "        # element is more than root,  \n",
        "        # then put it back.  \n",
        "        if diff>curr: \n",
        "            pq.put((-curr,pi)) \n",
        "            continue\n",
        "        else: \n",
        "  \n",
        "            # Else remove root and insert \n",
        "            pq.put((-diff,i)) \n",
        "              \n",
        "    # Print contents of heap. \n",
        "    while(not pq.empty()): \n",
        "        p,q = pq.get() \n",
        "        print(\"{} \".format(arr[q]),end = \"\") \n"
      ],
      "execution_count": 0,
      "outputs": []
    },
    {
      "cell_type": "markdown",
      "metadata": {
        "id": "Xk3qO1cEFXbS",
        "colab_type": "text"
      },
      "source": [
        "##Sliding Window Maximum"
      ]
    },
    {
      "cell_type": "code",
      "metadata": {
        "id": "g3v8O_c4FcWF",
        "colab_type": "code",
        "colab": {}
      },
      "source": [
        "# Given an array and an integer k, find the maximum for each and every contiguous subarray of size k.\n",
        "\n",
        "# Use Max-Heap\n",
        "\n",
        "# Pick first k elements and create a max heap of size k.\n",
        "# Perform heapify and print the root element.\n",
        "# Store the next and last element from the array\n",
        "# Run a loop from k – 1 to n\n",
        "# Replace the value of element which is got out of the window with new element which came inside the window.\n",
        "# Perform heapify.\n",
        "# Print the root of the Heap.\n",
        "import heapq \n",
        "  \n",
        "# Method to find the maximum for each \n",
        "# and every contiguous subarray of s  \n",
        "# of size k \n",
        "def max_of_all_in_k(arr, n): \n",
        "    i = 0\n",
        "    j = k-1\n",
        "      \n",
        "    # Create the heap and heapify \n",
        "    heap = arr[i:j + 1] \n",
        "    heapq._heapify_max(heap) \n",
        "      \n",
        "    # Print the maximum element from  \n",
        "    # the first window of size k \n",
        "    print(heap[0], end =\" \") \n",
        "    last = arr[i] \n",
        "    i+= 1\n",
        "    j+= 1\n",
        "    nexts = arr[j] \n",
        "      \n",
        "    # For every remaining element \n",
        "    while j < n: \n",
        "          \n",
        "        # Add the next element of the window \n",
        "        heap[heap.index(last)] = nexts \n",
        "          \n",
        "        # Heapify to get the maximum  \n",
        "        # of the current window \n",
        "        heapq._heapify_max(heap) \n",
        "          \n",
        "        # Print the current maximum \n",
        "        print(heap[0], end =\" \") \n",
        "        last = arr[i] \n",
        "        i+= 1\n",
        "        j+= 1\n",
        "        if j < n: \n",
        "            nexts = arr[j] \n",
        "#             O((k + Log(k)) * n) i.e. O(n * k)"
      ],
      "execution_count": 0,
      "outputs": []
    },
    {
      "cell_type": "markdown",
      "metadata": {
        "id": "Y43YcNUDHI0H",
        "colab_type": "text"
      },
      "source": [
        "##Minimum number of bracket reversals needed to make an expression balanced"
      ]
    },
    {
      "cell_type": "code",
      "metadata": {
        "id": "tTe5PtF8HL0m",
        "colab_type": "code",
        "colab": {}
      },
      "source": [
        "# The idea is to first remove all balanced part of expression. For example, convert “}{{}}{{{” to “}{{{” by removing highlighted part. If we take a closer look, we can notice that, after removing balanced part, we always end up with an expression of the form }}…}{{…{, an expression that contains 0 or more number of closing brackets followed by 0 or more numbers of opening brackets.\n",
        "\n",
        "# How many minimum reversals are required for an expression of the form “}}..}{{..{” ?. Let m be the total number of closing brackets and n be the number of opening brackets. We need ⌈m/2⌉ + ⌈n/2⌉ reversals. For example }}}}{{ requires 2+1 reversals.\n",
        "def countMinReversals(expr):  \n",
        "  \n",
        "    lenn = len(expr)  \n",
        "  \n",
        "    # length of expression must be even  \n",
        "    # to make it balanced by using reversals.  \n",
        "    if (lenn % 2) : \n",
        "        return -1\n",
        "  \n",
        "    # After this loop, stack contains  \n",
        "    # unbalanced part of expression,   \n",
        "    # i.e., expression of the form \"....\"  \n",
        "    s = []  \n",
        "    for i in range(lenn): \n",
        "        if (expr[i] =='' and len(s)):  \n",
        "  \n",
        "            if (s[0] == '') : \n",
        "                s.pop(0)  \n",
        "            else: \n",
        "                s.insert(0, expr[i])  \n",
        "        else: \n",
        "            s.insert(0, expr[i])  \n",
        "      \n",
        "    # Length of the reduced expression  \n",
        "    # red_len = (m+n)  \n",
        "    red_len = len(s)  \n",
        "  \n",
        "    # count opening brackets at the  \n",
        "    # end of stack  \n",
        "    n = 0\n",
        "    while (len(s)and s[0] == '') : \n",
        "            s.pop(0)  \n",
        "            n += 1\n",
        "  \n",
        "    # return ceil(m/2) + ceil(n/2) which \n",
        "    # is actually equal to (m+n)/2 + n%2  \n",
        "    # when m+n is even.  \n",
        "    return (red_len // 2 + n % 2) "
      ],
      "execution_count": 0,
      "outputs": []
    },
    {
      "cell_type": "markdown",
      "metadata": {
        "id": "SBWOpA7zH1Gl",
        "colab_type": "text"
      },
      "source": [
        "##Find the smallest window in a string containing all characters of another string"
      ]
    },
    {
      "cell_type": "code",
      "metadata": {
        "id": "nSiLcKSqH42C",
        "colab_type": "code",
        "colab": {}
      },
      "source": [
        "# First check if the length of string is less than the length of the given pattern, if yes then “no such window can exist “.\n",
        "# Store the occurrence of characters of the given pattern in a hash_pat[].\n",
        "# Start matching the characters of pattern with the characters of string i.e. increment count if a character matches.\n",
        "# Check if (count == length of pattern ) this means a window is found.\n",
        "# If such window found, try to minimize it by removing extra characters from the beginning of the current window.\n",
        "# Update min_length.\n",
        "# Print the minimum length window.\n",
        "# Function to find smallest window  \n",
        "# containing all characters of 'pat'  \n",
        "def findSubString(string, pat):  \n",
        "  \n",
        "    len1 = len(string)  \n",
        "    len2 = len(pat)  \n",
        "  \n",
        "    # check if string's length is less than pattern's  \n",
        "    # length. If yes then no such window can exist  \n",
        "    if len1 < len2:  \n",
        "      \n",
        "        print(\"No such window exists\")  \n",
        "        return \"\"  \n",
        "  \n",
        "    hash_pat = [0] * no_of_chars \n",
        "    hash_str = [0] * no_of_chars  \n",
        "  \n",
        "    # store occurrence ofs characters of pattern  \n",
        "    for i in range(0, len2):  \n",
        "        hash_pat[ord(pat[i])] += 1\n",
        "  \n",
        "    start, start_index, min_len = 0, -1, float('inf')  \n",
        "  \n",
        "    # start traversing the string  \n",
        "    count = 0 # count of characters  \n",
        "    for j in range(0, len1):  \n",
        "      \n",
        "        # count occurrence of characters of string  \n",
        "        hash_str[ord(string[j])] += 1\n",
        "  \n",
        "        # If string's char matches with  \n",
        "        # pattern's char then increment count  \n",
        "        if (hash_pat[ord(string[j])] != 0 and\n",
        "            hash_str[ord(string[j])] <= \n",
        "            hash_pat[ord(string[j])]):  \n",
        "            count += 1\n",
        "  \n",
        "        # if all the characters are matched  \n",
        "        if count == len2:  \n",
        "          \n",
        "            # Try to minimize the window i.e., check if  \n",
        "            # any character is occurring more no. of times  \n",
        "            # than its occurrence in pattern, if yes  \n",
        "            # then remove it from starting and also remove  \n",
        "            # the useless characters.  \n",
        "            while (hash_str[ord(string[start])] >  \n",
        "                   hash_pat[ord(string[start])] or\n",
        "                   hash_pat[ord(string[start])] == 0):  \n",
        "              \n",
        "                if (hash_str[ord(string[start])] >  \n",
        "                    hash_pat[ord(string[start])]):  \n",
        "                    hash_str[ord(string[start])] -= 1\n",
        "                start += 1\n",
        "              \n",
        "            # update window size  \n",
        "            len_window = j - start + 1\n",
        "            if min_len > len_window:  \n",
        "              \n",
        "                min_len = len_window  \n",
        "                start_index = start  \n",
        "  \n",
        "    # If no window found  \n",
        "    if start_index == -1: \n",
        "        print(\"No such window exists\")  \n",
        "        return \"\"  \n",
        "      \n",
        "    # Return substring starting from  \n",
        "    # start_index and length min_len  \n",
        "    return string[start_index : start_index + min_len]  \n",
        " "
      ],
      "execution_count": 0,
      "outputs": []
    },
    {
      "cell_type": "markdown",
      "metadata": {
        "id": "QJ5daR4nJCzl",
        "colab_type": "text"
      },
      "source": [
        "##Minimum number of jumps to reach end"
      ]
    },
    {
      "cell_type": "code",
      "metadata": {
        "id": "RIgqCDC_JHSV",
        "colab_type": "code",
        "colab": {}
      },
      "source": [
        "# Given an array of integers where each element represents the max number of steps that can be made forward from that element. \n",
        "# Write a function to return the minimum number of jumps \n",
        "# to reach the end of the array (starting from the first element). If an element is 0, then \n",
        "# cannot move through that element.\n",
        "# Input: arr[] = {1, 3, 5, 8, 9, 2, 6, 7, 6, 8, 9}\n",
        "# Output: 3 (1-> 3 -> 8 ->9)\n",
        "# First element is 1, so can only go to 3. Second element is 3, so can make at most 3 steps eg to 5 or 8 or 9.\n",
        "# Returns minimum number of jumps \n",
        "# to reach arr[n-1] from arr[0] \n",
        "def minJumps(arr, n): \n",
        "    jumps = [0 for i in range(n)] \n",
        "  \n",
        "    if (n == 0) or (arr[0] == 0): \n",
        "        return float('inf') \n",
        "  \n",
        "    jumps[0] = 0\n",
        "  \n",
        "    # Find the minimum number of  \n",
        "    # jumps to reach arr[i] from  \n",
        "    # arr[0] and assign this  \n",
        "    # value to jumps[i] \n",
        "    for i in range(1, n): \n",
        "        jumps[i] = float('inf') \n",
        "        for j in range(i): \n",
        "            if (i <= j + arr[j]) and (jumps[j] != float('inf')): \n",
        "                jumps[i] = min(jumps[i], jumps[j] + 1) \n",
        "                break\n",
        "    return jumps[n-1]\n",
        "#   Time Complexity: O(n^2)\n",
        "\n",
        "# O(n) solution \n",
        "# https://www.geeksforgeeks.org/minimum-number-jumps-reach-endset-2on-solution/"
      ],
      "execution_count": 0,
      "outputs": []
    },
    {
      "cell_type": "markdown",
      "metadata": {
        "id": "fXSkfTw5KVvy",
        "colab_type": "text"
      },
      "source": [
        "##Sentence that contains all the given phrases"
      ]
    },
    {
      "cell_type": "code",
      "metadata": {
        "id": "LO1Hvi2qKYT_",
        "colab_type": "code",
        "colab": {}
      },
      "source": [
        "# Given a list of sentences and a list of phrases. The task is to find which sentence(s) contain all the words \n",
        "# in a phrase and for every phrase print the sentences number that contains the given phrase.\n",
        "\n",
        "# For each Phrase, we have to find the sentences which contain all the words of the phrase. So, for each word in the \n",
        "# given phrase, we check if a sentence contains it. We do this for each sentence. \n",
        "# This process of searching may become faster if the words in the sentence are stored in a set \n",
        "# instead of a list.\n",
        "\n",
        "def getRes(sent, ph): \n",
        "    sentHash = dict() \n",
        "  \n",
        "    # Loop for adding hased sentences to sentHash \n",
        "    for s in range(1, len(sent)+1): \n",
        "        sentHash[s] = set(sent[s-1].split()) \n",
        "          \n",
        "    # For Each Phrase \n",
        "    for p in range(0, len(ph)): \n",
        "        print(\"Phrase\"+str(p + 1)+\":\") \n",
        "  \n",
        "        # Get the list of Words \n",
        "        wordList = ph[p].split() \n",
        "        res = [] \n",
        "  \n",
        "        # Then Check in every Sentence \n",
        "        for s in range(1, len(sentHash)+1): \n",
        "            wCount = len(wordList) \n",
        "  \n",
        "            # Every word in the Phrase \n",
        "            for w in wordList: \n",
        "                if w in sentHash[s]: \n",
        "                    wCount -= 1\n",
        "  \n",
        "            # If every word in phrase matches \n",
        "            if wCount == 0: \n",
        "  \n",
        "            # add Sentence Index to result Array \n",
        "                res.append(s) \n",
        "        if(len(res) == 0): \n",
        "            print(\"NONE\") \n",
        "        else: \n",
        "            print('% s' % ' '.join(map(str, res)))"
      ],
      "execution_count": 0,
      "outputs": []
    },
    {
      "cell_type": "markdown",
      "metadata": {
        "id": "bpHCOHtYMAnq",
        "colab_type": "text"
      },
      "source": [
        "##Merge k sorted LL"
      ]
    },
    {
      "cell_type": "code",
      "metadata": {
        "id": "69N7uA75MEg1",
        "colab_type": "code",
        "colab": {}
      },
      "source": [
        "import java.util.PriorityQueue; \n",
        "import java.util.Comparator; \n",
        "public class MergeKLists { \n",
        "  \n",
        "    // function to merge k sorted linked lists \n",
        "    public static Node mergeKSortedLists(Node arr[], int k) \n",
        "    {  \n",
        "        Node head = null, last=null;  \n",
        "    \n",
        "        // priority_queue 'pq' implemeted as min heap with the  \n",
        "        // help of 'compare' function  \n",
        "        PriorityQueue<Node> pq=new PriorityQueue<>(new Comparator<Node>(){ \n",
        "            public int compare(Node a, Node b) \n",
        "            { \n",
        "                return a.data-b.data; \n",
        "            } \n",
        "        }); \n",
        "    \n",
        "        // push the head nodes of all the k lists in 'pq'  \n",
        "        for (int i = 0; i < k; i++)  \n",
        "            pq.add(arr[i]);  \n",
        "    \n",
        "        // loop till 'pq' is not empty  \n",
        "        while (!pq.isEmpty())  \n",
        "        {  \n",
        "            // get the top element of 'pq'  \n",
        "            Node top = pq.peek();  \n",
        "            pq.remove();  \n",
        "    \n",
        "            // check if there is a node next to the 'top' node  \n",
        "            // in the list of which 'top' node is a member  \n",
        "            if (top.next != null)  \n",
        "                // push the next node in 'pq'  \n",
        "                pq.add(top.next); \n",
        "    \n",
        "            // if final merged list is empty  \n",
        "            if (head == null) \n",
        "            { \n",
        "                head = top; \n",
        "                // points to the last node so far of  \n",
        "                // the final merged list  \n",
        "                last = top;  \n",
        "            }  \n",
        "            else \n",
        "            {  \n",
        "                // insert 'top' at the end of the merged list so far  \n",
        "                last.next = top;  \n",
        "                // update the 'last' pointer  \n",
        "                last = top;  \n",
        "            }  \n",
        "        }   \n",
        "        // head node of the required merged list  \n",
        "        return head;  \n",
        "    } \n",
        "  \n",
        "    // function to print the singly linked list  \n",
        "    public static void printList(Node head)  \n",
        "    {  \n",
        "        while (head != null) {  \n",
        "            System.out.print(head.data+\" \"); \n",
        "            head = head.next;  \n",
        "        }  \n",
        "    }  \n",
        "  \n",
        "    // Utility function to create a new node  \n",
        "    public Node push(int data) \n",
        "    { \n",
        "        Node newNode=new Node(data); \n",
        "        newNode.next=null; \n",
        "        return newNode; \n",
        "    }"
      ],
      "execution_count": 0,
      "outputs": []
    },
    {
      "cell_type": "markdown",
      "metadata": {
        "id": "F-n4yBeANZfO",
        "colab_type": "text"
      },
      "source": [
        "##Map with intersections"
      ]
    },
    {
      "cell_type": "code",
      "metadata": {
        "id": "Jd1CRe8ZNcvQ",
        "colab_type": "code",
        "colab": {}
      },
      "source": [
        "# Given a map with roads, all roads in the map are straight lines . These road may intersect with each other at any angle .  Calculate total distinct roads in the map . He was expecting to see how i represent the map as data structure, ask for questions on any ambiguity and devise an algorithm then code the solution on paper . I was able to give optimized solution on first try .Basically i used two dimensional array to represent the map . The array will have only 0’s or 1’s as elements . Continuous sequence of 1’s will represent a road.Do a depth first search on this array to find the total no of continuous 1’s.Tricky part was to determine roads in case we encounter an intersection.From intersection if we can move in same direction as the direction from which we came to the intersection we consider it as same road any road from the intersection to a different direction from which we came to intersection is considered as a different road."
      ],
      "execution_count": 0,
      "outputs": []
    },
    {
      "cell_type": "markdown",
      "metadata": {
        "id": "8PEOzTxAPB9N",
        "colab_type": "text"
      },
      "source": [
        "##Find subset with sum"
      ]
    },
    {
      "cell_type": "code",
      "metadata": {
        "id": "_f2bdu3yPESl",
        "colab_type": "code",
        "colab": {}
      },
      "source": [
        "def isSubsetSum(set,n,sum): \n",
        "      \n",
        "    # The value of subset[i][j] will be  \n",
        "    # true if there is a \n",
        "    # subset of set[0..j-1] with sum equal to i \n",
        "    subset=([[False for i in range(sum+1)]  \n",
        "            for i in range(n+1)]) \n",
        "      \n",
        "    # If sum is 0, then answer is true  \n",
        "    for i in range(n+1): \n",
        "        subset[i][0] = True\n",
        "          \n",
        "        # If sum is not 0 and set is empty,  \n",
        "        # then answer is false  \n",
        "        for i in range(1,sum+1): \n",
        "            subset[0][i]=False\n",
        "              \n",
        "        # Fill the subset table in botton up manner \n",
        "        for i in range(1,n+1): \n",
        "            for j in range(1,sum+1): \n",
        "                if j<set[i-1]: \n",
        "                    subset[i][j] = subset[i-1][j] \n",
        "                if j>=set[i-1]: \n",
        "                    subset[i][j] = (subset[i-1][j] or \n",
        "                                   subset[i - 1][j-set[i-1]]) \n",
        "      \n",
        "        # uncomment this code to print table  \n",
        "        # for i in range(n+1): \n",
        "        # for j in range(sum+1): \n",
        "        #     print (subset[i][j],end=\" \") \n",
        "        # print() \n",
        "    return subset[n][sum]"
      ],
      "execution_count": 0,
      "outputs": []
    },
    {
      "cell_type": "markdown",
      "metadata": {
        "id": "drtl0exHnb7t",
        "colab_type": "text"
      },
      "source": [
        "#Interviews"
      ]
    },
    {
      "cell_type": "markdown",
      "metadata": {
        "id": "tWZM6_U0PRbZ",
        "colab_type": "text"
      },
      "source": [
        "##['label', 'mabel', 'valel']  => [a, e, l, l]"
      ]
    },
    {
      "cell_type": "code",
      "metadata": {
        "id": "7Ne94i5K2kYv",
        "colab_type": "code",
        "outputId": "4b2188dc-517a-4b25-f02f-13d15975a724",
        "colab": {
          "base_uri": "https://localhost:8080/",
          "height": 107
        }
      },
      "source": [
        "# ['label', 'mabel', 'valel']  => [a, e, l, l]\n",
        "import numpy as np\n",
        "def count_occurences(arr):\n",
        "  if not arr:\n",
        "    return []\n",
        "  for i in range(len(arr)):\n",
        "    arr[i] = ''.join(sorted(arr[i]))\n",
        "  arr = sorted(arr)\n",
        "  indices = [0] * len(arr)\n",
        "  results = []\n",
        "  curr_idx = 0 \n",
        "  while indices[0] < len(arr[0]):\n",
        "    curr = arr[0][indices[0]] \n",
        "    found, end_all = True, False\n",
        "    indices[0] += 1\n",
        "    for i in range(1, len(arr)): \n",
        "      if arr[i][indices[i]] != curr:\n",
        "        found = False \n",
        "        while arr[i][indices[i]] < curr:\n",
        "          indices[i] += 1 \n",
        "      else:\n",
        "        indices[i] += 1\n",
        "      if indices[i] >= len(arr[i]):\n",
        "        end_all = True \n",
        "    if found:\n",
        "      results.append(curr)\n",
        "    if end_all:\n",
        "      break\n",
        "  return results\n",
        "\n",
        "print count_occurences(['labell', 'mabell', 'valel'])\n",
        "print count_occurences(['labell', 'mabell', ''])\n",
        "print count_occurences(['labell', 'mabell', 'arbakrasbelraiehkrwmdsfskdajldilirushbfflfhlsahfaubfr'])\n",
        "print count_occurences([])\n",
        "print count_occurences(['ldfadlfhslidnxzzzzpamziaxneac', 'zkqknqnznwnzoqnzz', 'zozioqwuoushwdiehnxmk'])"
      ],
      "execution_count": 0,
      "outputs": [
        {
          "output_type": "stream",
          "text": [
            "['a', 'e', 'l', 'l']\n",
            "[]\n",
            "['a', 'b', 'e', 'l', 'l']\n",
            "[]\n",
            "['n', 'z', 'z']\n"
          ],
          "name": "stdout"
        }
      ]
    },
    {
      "cell_type": "code",
      "metadata": {
        "id": "Gg8XxmPz-7oh",
        "colab_type": "code",
        "outputId": "ed254803-3681-4963-ac4f-92f71f5418a1",
        "colab": {
          "base_uri": "https://localhost:8080/",
          "height": 107
        }
      },
      "source": [
        "# ['label', 'mabel', 'valel']  => [a, e, l, l]\n",
        "def count_occurences2(arr):\n",
        "  if not arr:\n",
        "    return []\n",
        "  res = list(arr.pop())\n",
        "  while arr: \n",
        "    res = intersection(res, list(arr.pop())) \n",
        "  return res\n",
        "\n",
        "def intersection(l1, l2): \n",
        "  res = []\n",
        "  for value in l1:\n",
        "    if value in l2:\n",
        "      l2.remove(value)\n",
        "      res.append(value)\n",
        "  return res\n",
        "\n",
        "print count_occurences2(['labell', 'mabell', 'valel'])\n",
        "print count_occurences2(['labell', 'mabell', ''])\n",
        "print count_occurences2(['labell', 'mabell', 'arbakrasbelraiehkrwmdsfskdajldilirushbfflfhlsahfaubfr'])\n",
        "print count_occurences2([])\n",
        "print count_occurences2(['ldfadlfhslidnxzzzzpamziaxneac', 'zkqknqnznwnzoqnzz', 'zozioqwuoushwdiehnxmk'])"
      ],
      "execution_count": 0,
      "outputs": [
        {
          "output_type": "stream",
          "text": [
            "['a', 'l', 'e', 'l']\n",
            "[]\n",
            "['a', 'b', 'e', 'l', 'l']\n",
            "[]\n",
            "['z', 'z', 'n']\n"
          ],
          "name": "stdout"
        }
      ]
    },
    {
      "cell_type": "markdown",
      "metadata": {
        "id": "cwuOvEvgPZZg",
        "colab_type": "text"
      },
      "source": [
        "\n",
        "##Move all elt == target in arr to the end"
      ]
    },
    {
      "cell_type": "code",
      "metadata": {
        "id": "YAaGwyDg57rs",
        "colab_type": "code",
        "outputId": "f69aed33-81e3-4d13-dd2c-7352db42e273",
        "colab": {
          "base_uri": "https://localhost:8080/",
          "height": 35
        }
      },
      "source": [
        "#  move all target to the end of the array without changing the relative position of the other elts wrt \n",
        "# each other: target = 0; arr = [1, 9, 8, 4, 0, 0, 2, 7, 0, 6, 0], res = [1, 9, 8, 4, 2, 7, 6, 0, 0, 0, 0]\n",
        "\n",
        "def move(arr, target):\n",
        "  count, n = 0, len(arr)\n",
        "  for i in range(n):\n",
        "    if arr[i] != target:\n",
        "      arr[count] = arr[i]\n",
        "      count += 1 \n",
        "  while count < n:\n",
        "    arr[count] = target\n",
        "    count += 1\n",
        "  return arr\n",
        "\n",
        "print(move([4,4,5,5,5,5,9], 5))"
      ],
      "execution_count": 0,
      "outputs": [
        {
          "output_type": "stream",
          "text": [
            "[4, 4, 9, 5, 5, 5, 5]\n"
          ],
          "name": "stdout"
        }
      ]
    },
    {
      "cell_type": "markdown",
      "metadata": {
        "id": "NCq58nmewSfR",
        "colab_type": "text"
      },
      "source": [
        "#OOP"
      ]
    },
    {
      "cell_type": "markdown",
      "metadata": {
        "id": "FDZ7mbm98RTr",
        "colab_type": "text"
      },
      "source": [
        "##Deck of Cards"
      ]
    },
    {
      "cell_type": "code",
      "metadata": {
        "id": "WDbe5lELwaGf",
        "colab_type": "code",
        "colab": {}
      },
      "source": [
        "# Deck of Cards: Design the data structures for a generic deck of cards. Explain how you would\n",
        "# subclass the data structures to implement blackjack\n",
        "class Suit:\n",
        "  def __init__(self, value):\n",
        "    self.value = value\n",
        "    \n",
        "  def getValue(self):\n",
        "    return self.value\n",
        "  \n",
        "  def getSuitFromValue(self,value):\n",
        "    pass\n",
        "\n",
        "class Deck:\n",
        "  def __init__(self, cards):\n",
        "    self.cards, self.deltIndex = cards, 0\n",
        "    \n",
        "  def setDeckOfCards(self, deckOfCards):\n",
        "    self.cards = deckOfCards\n",
        "  \n",
        "  def shuffle(self):\n",
        "    pass\n",
        "  \n",
        "  def remainingCards(self):\n",
        "    return len(self.cards) - self.deltaIndex\n",
        "  \n",
        "  def dealHand(self, number):\n",
        "    pass\n",
        "  \n",
        "  def dealCard(self):\n",
        "    pass\n",
        "  \n",
        "from abc import ABC, abstractmethod\n",
        "# We have also implemented Card as an abstract class, since methods like value() \n",
        "# don't make much sense without a specific game attached to them.\n",
        "class card(ABC):\n",
        "  def __init__(self, c, s):\n",
        "    self.faceValue, self.suit, self.available = c, s, True\n",
        "    super().__init__()\n",
        "    \n",
        "  @abstractmethod\n",
        "  def value(self):\n",
        "    pass\n",
        "  \n",
        "  @abstractmethod\n",
        "  def suit(self):\n",
        "    return self.suit\n",
        "  \n",
        "  @abstractmethod\n",
        "  def isAvailable(self):\n",
        "    return self.available\n",
        "  \n",
        "  @abstractmethod\n",
        "  def markUnavailable(self):\n",
        "    self.available = False\n",
        "  \n",
        "  @abstractmethod\n",
        "  def markAvailable(self):\n",
        "    self.available = True\n",
        "    \n",
        "class Hand:\n",
        "  def __init__(self):\n",
        "    self.cards = []\n",
        "    \n",
        "  def score(self):\n",
        "    score = 0\n",
        "    for card in self.cards:\n",
        "      score += card.value()\n",
        "    return score\n",
        "  \n",
        "  def addCard(self, card):\n",
        "    self.cards.append(card)"
      ],
      "execution_count": 0,
      "outputs": []
    },
    {
      "cell_type": "code",
      "metadata": {
        "id": "bS8kO-EZ43nX",
        "colab_type": "code",
        "colab": {}
      },
      "source": [
        "# Let's say we're building a blackjack game, so we need to know the value of the cards. \n",
        "# Face cards are 10 and an ace is 11\n",
        "class BlackJackHand:\n",
        "  def __init__(self):\n",
        "    pass\n",
        "  \n",
        "  def score(self):\n",
        "    pass # to be implemented\n",
        "  \n",
        "  def isBlackJack(self):\n",
        "    pass # to be implemented\n",
        "  \n",
        "  def is21(self):\n",
        "    pass # to be implemented\n",
        "  \n",
        "class BlackJackCard(Card):\n",
        "  def __init__(self, c, s):\n",
        "    super().__init__(c,s)\n",
        "    \n",
        "  def value(self):\n",
        "    pass # to be implemented"
      ],
      "execution_count": 0,
      "outputs": []
    },
    {
      "cell_type": "markdown",
      "metadata": {
        "id": "Etz78QMk8ZlG",
        "colab_type": "text"
      },
      "source": [
        "##Call center"
      ]
    },
    {
      "cell_type": "code",
      "metadata": {
        "id": "xXtiuopi8ODB",
        "colab_type": "code",
        "colab": {}
      },
      "source": [
        "# Call Center: Imagine you have a call center with three levels of employees: respondent, manager,\n",
        "# and director. An incoming telephone call must be first allocated to a respondent who is free. If the\n",
        "# respondent can't handle the call, he or she must escalate the call to a manager. If the manager is not\n",
        "# free or not able to handle it, then the call should be escalated to a director. Design the classes and\n",
        "# data structures for this problem. Implement a method dispatchCall () which assigns a call to\n",
        "# the first available employee\n",
        "class CallHandler:\n",
        "  def __init__(self)\n",
        "    self.employeeLevels = [None]*3 # employeeLevels[0], employeeLevels[1], employeeLevels[2] = respondents, managers, directors\n",
        "    self.levels, self.num_respondents, self.num_directors = 10, 4, 2\n",
        "    self.callQueues = [] #  queues for each call's rank\n",
        "    \n",
        "  def getHandlerForCall(self, call):\n",
        "    pass # to be implemented\n",
        "  \n",
        "  def dispatchCall(self, caller):\n",
        "    call = Call(caller)\n",
        "    self.dispatchCallHelper(call)\n",
        "    \n",
        "  def dispatchCallHelper(self, call):\n",
        "    employee = self.getHandlerForCall(call)\n",
        "    if employee:\n",
        "      employee.receiveCall(call)\n",
        "      call.setHandler(employee)\n",
        "    else:\n",
        "      call.reply(\"Please wait for free employee to reply\")\n",
        "      callQueues.get(call.getRank().getValue()).add(call)\n",
        "      \n",
        "  def assignCall(self, employee):\n",
        "    pass # to be implemented"
      ],
      "execution_count": 0,
      "outputs": []
    },
    {
      "cell_type": "markdown",
      "metadata": {
        "id": "Q-DeiUs9BzXL",
        "colab_type": "text"
      },
      "source": [
        "##Juke Box"
      ]
    },
    {
      "cell_type": "code",
      "metadata": {
        "id": "VAe_pm2xB3oS",
        "colab_type": "code",
        "colab": {}
      },
      "source": [
        "# Jukebox: Design a musical jukebox using object-oriented principles. "
      ],
      "execution_count": 0,
      "outputs": []
    },
    {
      "cell_type": "markdown",
      "metadata": {
        "id": "mho6htOyB6VS",
        "colab_type": "text"
      },
      "source": [
        "##Parking Lot"
      ]
    },
    {
      "cell_type": "code",
      "metadata": {
        "id": "vvgDF6uTCC-q",
        "colab_type": "code",
        "colab": {}
      },
      "source": [
        "# Parking Lot: Design a parking lot using object-oriented principles."
      ],
      "execution_count": 0,
      "outputs": []
    },
    {
      "cell_type": "markdown",
      "metadata": {
        "id": "Ddx42Z4mCFru",
        "colab_type": "text"
      },
      "source": [
        "##Online Book Reader"
      ]
    },
    {
      "cell_type": "code",
      "metadata": {
        "id": "rtQi9aPjCL0c",
        "colab_type": "code",
        "colab": {}
      },
      "source": [
        "# Online Book Reader: Design the data structures for an online book reader system. "
      ],
      "execution_count": 0,
      "outputs": []
    },
    {
      "cell_type": "markdown",
      "metadata": {
        "id": "m3epGpZJCN8x",
        "colab_type": "text"
      },
      "source": [
        "##Jigsaw"
      ]
    },
    {
      "cell_type": "code",
      "metadata": {
        "id": "htFuHYOhCUco",
        "colab_type": "code",
        "colab": {}
      },
      "source": [
        "# Jigsaw: Implement an NxN jigsaw puzzle. Design the data structures and explain an algorithm to\n",
        "# solve the puzzle. You can assume that you have a fitsWith method which, when passed two\n",
        "# puzzle edges, returns true if the two edges belong together. "
      ],
      "execution_count": 0,
      "outputs": []
    },
    {
      "cell_type": "markdown",
      "metadata": {
        "id": "JBLnh90ACYEk",
        "colab_type": "text"
      },
      "source": [
        "##Chat server"
      ]
    },
    {
      "cell_type": "code",
      "metadata": {
        "id": "pE83bG6fChKM",
        "colab_type": "code",
        "colab": {}
      },
      "source": [
        "# Chat Server: Explain how you would design a chat server. In particular, provide details about the\n",
        "# various backend components, classes, and methods. What would be the hardest problems to solve?"
      ],
      "execution_count": 0,
      "outputs": []
    },
    {
      "cell_type": "markdown",
      "metadata": {
        "id": "WcYUhQ8SClJf",
        "colab_type": "text"
      },
      "source": [
        "##Othello"
      ]
    },
    {
      "cell_type": "code",
      "metadata": {
        "id": "SSXmjDwMCrc3",
        "colab_type": "code",
        "colab": {}
      },
      "source": [
        "# Othello: Othello is played as follows: Each Othello piece is white on one side and black on the other.\n",
        "# When a piece is surrounded by its opponents on both the left and right sides, or both the top and\n",
        "# bottom, it is said to be captured and its color is flipped. On your turn, you must capture at least one\n",
        "# of your opponent's pieces. The game ends when either user has no more valid moves. The win is\n",
        "# assigned to the person with the most pieces. Implement the object-oriented design for Othello. "
      ],
      "execution_count": 0,
      "outputs": []
    },
    {
      "cell_type": "markdown",
      "metadata": {
        "id": "SKNdky_5CuQ8",
        "colab_type": "text"
      },
      "source": [
        "##Circular Array"
      ]
    },
    {
      "cell_type": "code",
      "metadata": {
        "id": "usjht9GpC0ur",
        "colab_type": "code",
        "colab": {}
      },
      "source": [
        "# Circular Array: Implement a CircularArray class that supports an array-like data structure which\n",
        "# can be efficiently rotated. If possible, the class should use a generic type (also called a template), and\n",
        "# should support iteration via the standard for (Obj o : circularArray) notation. "
      ],
      "execution_count": 0,
      "outputs": []
    },
    {
      "cell_type": "markdown",
      "metadata": {
        "id": "YqfqKtJEC4cr",
        "colab_type": "text"
      },
      "source": [
        "##Minesweeper"
      ]
    },
    {
      "cell_type": "code",
      "metadata": {
        "id": "ynsqx5wIC_GQ",
        "colab_type": "code",
        "colab": {}
      },
      "source": [
        "# Minesweeper: Design and implement a text-based Minesweeper game. Minesweeper is the classic\n",
        "# single-player computer game where an NxN grid has B mines (or bombs) hidden across the grid. The\n",
        "# remaining cells are either blank or have a number behind them. The numbers reflect the number of\n",
        "# bombs in the surrounding eight cells. The user then uncovers a cell. If it is a bomb, the player loses.\n",
        "# If it is a number, the number is exposed. If it is a blank cell, this cell and all adjacent blank cells (up to\n",
        "# and including the surrounding numeric cells) are exposed. The player wins when all non-bomb cells\n",
        "# are exposed. The player can also flag certain places as potential bombs. This doesn't affect game\n",
        "# play, other than to block the user from accidentally clicking a cell that is thought to have a bomb. "
      ],
      "execution_count": 0,
      "outputs": []
    },
    {
      "cell_type": "markdown",
      "metadata": {
        "id": "JdPea3YTDCSn",
        "colab_type": "text"
      },
      "source": [
        "##File system"
      ]
    },
    {
      "cell_type": "code",
      "metadata": {
        "id": "1gq-LQfsDHkt",
        "colab_type": "code",
        "colab": {}
      },
      "source": [
        "# File System: Explain the data structures and algorithms that you would use to design an in-memory\n",
        "# file system. Illustrate with an example in code where possible"
      ],
      "execution_count": 0,
      "outputs": []
    },
    {
      "cell_type": "markdown",
      "metadata": {
        "id": "ayU6O72CDKK6",
        "colab_type": "text"
      },
      "source": [
        "##Hash Table"
      ]
    },
    {
      "cell_type": "code",
      "metadata": {
        "id": "TG4y_QolDQkq",
        "colab_type": "code",
        "colab": {}
      },
      "source": [
        "# Hash Table: Design and implement a hash table which uses chaining (linked lists) to handle\n",
        "# collisions. "
      ],
      "execution_count": 0,
      "outputs": []
    },
    {
      "cell_type": "markdown",
      "metadata": {
        "id": "XTjrua4HSdlF",
        "colab_type": "text"
      },
      "source": [
        "# Moderate"
      ]
    },
    {
      "cell_type": "markdown",
      "metadata": {
        "id": "zHcsZjW3LhCq",
        "colab_type": "text"
      },
      "source": [
        "##Swap(a,b) will turn a to b"
      ]
    },
    {
      "cell_type": "code",
      "metadata": {
        "id": "XNp1Hg6A9H5j",
        "colab_type": "code",
        "outputId": "8e4606e9-9a22-43bf-a53e-fe5e9e85072e",
        "colab": {
          "base_uri": "https://localhost:8080/",
          "height": 53
        }
      },
      "source": [
        "# Swap number in place : swap(a,b) will turn a to b\n",
        "def swap(a,b):\n",
        "  a = a - b\n",
        "  b = a + b\n",
        "  a = b - a\n",
        "  return a\n",
        "\n",
        "print swap(4,5)\n",
        "\n",
        "def swap2(a,b):\n",
        "  a = a ^ b\n",
        "  b = a ^ b\n",
        "  a = a ^ b\n",
        "  return a\n",
        "\n",
        "print swap2(6,3)"
      ],
      "execution_count": 0,
      "outputs": [
        {
          "output_type": "stream",
          "text": [
            "5\n",
            "3\n"
          ],
          "name": "stdout"
        }
      ]
    },
    {
      "cell_type": "markdown",
      "metadata": {
        "id": "TbFTWnqILqkQ",
        "colab_type": "text"
      },
      "source": [
        "##Find freq of any given work in a book"
      ]
    },
    {
      "cell_type": "code",
      "metadata": {
        "id": "cRysq7qoTqW0",
        "colab_type": "code",
        "colab": {}
      },
      "source": [
        "# find freq of any given word in a book\n",
        "\n",
        "#  if we only need to perform this once\n",
        "def getFreq(book, word):\n",
        "  word = word.strip().lower()\n",
        "  count = 0\n",
        "  for w in book:\n",
        "    if w.strip().lower() == word:\n",
        "      count += 1\n",
        "  return count\n",
        "\n",
        "# if we will perform this several times, use dict\n",
        "from collections import defaultdict\n",
        "def getFreq_helper(book): \n",
        "  d = defaultdict(int)\n",
        "  for word in book:\n",
        "    word = word.lower()\n",
        "    if word.strip() != '':\n",
        "      d[word] += 1\n",
        "  return d\n",
        "\n",
        "def getFreq2(word, table):\n",
        "  if not table or not word:\n",
        "    return -1\n",
        "  word = word.lower()\n",
        "  if word in table:\n",
        "    return table[word]\n",
        "  return 0"
      ],
      "execution_count": 0,
      "outputs": []
    },
    {
      "cell_type": "markdown",
      "metadata": {
        "id": "NjsJPk03LygT",
        "colab_type": "text"
      },
      "source": [
        "##Compute point of intersection of 2 lines"
      ]
    },
    {
      "cell_type": "code",
      "metadata": {
        "id": "J6RaCBa3Vrvm",
        "colab_type": "code",
        "colab": {}
      },
      "source": [
        "# Compute point of intersection"
      ],
      "execution_count": 0,
      "outputs": []
    },
    {
      "cell_type": "markdown",
      "metadata": {
        "id": "2iOTDyfrL5bq",
        "colab_type": "text"
      },
      "source": [
        "##Tic tac win"
      ]
    },
    {
      "cell_type": "code",
      "metadata": {
        "id": "lWFvpjJUV5fC",
        "colab_type": "code",
        "colab": {}
      },
      "source": [
        "# Tic tac win\n",
        "# if hasWon() will be called multiple times we want to add preprocessing\n",
        "# if it is called many times and our board is 3x3 or small enough, we can represent it as an int\n",
        "# 3^0 * v_0 + 3^1 * v_1 + 3^2 * v_2 + ... + 3^8 * v_8  => base 3 representation of the board \n",
        "def convertBoardToInt(board):\n",
        "  sum_ = 0\n",
        "  for i in range(len(board)):\n",
        "    for j in range(len(board[0])):\n",
        "      value = board[i][j]  # 0 for player 0 and 1 for player 1\n",
        "      sum_ *= 3 + value\n",
        "  return sum_\n",
        "\n",
        "def hasWon(board):\n",
        "  return winnerHashTable[board]  # pass in int representation of board\n",
        "\n",
        "# For NxN board  empty = -1, player 0 = 0; player 1 = 1\n",
        "def hasWon(board):\n",
        "  size = len(board)\n",
        "  if len(board[0]) != size:\n",
        "    return []\n",
        "#    check rows\n",
        "  for i in range(size):\n",
        "    first = board[i][0]\n",
        "    if first == -1:\n",
        "      continue\n",
        "    for j in range(1, size):\n",
        "      if board[i][j] != first:\n",
        "        break\n",
        "      elif j == size - 1:\n",
        "        return first\n",
        "      \n",
        "# check columns\n",
        "  for i in range(size):\n",
        "    first = board[0][i]\n",
        "    if first == -1:\n",
        "      continue\n",
        "    for j in range(1, size):\n",
        "      if board[j][i] != first:\n",
        "        break\n",
        "      elif j == size - 1:\n",
        "        return first\n",
        "      \n",
        "#       check first diag\n",
        "  first = board[0][0]\n",
        "  if first != -1:\n",
        "    for i in range(1,size):\n",
        "      if board[i][i] != first:\n",
        "        break\n",
        "      elif i == size - 1:\n",
        "        return first\n",
        "    \n",
        "#     check second diag\n",
        "  first = board[0][size-1]\n",
        "  if first != -1:\n",
        "    for i in range(1, size):\n",
        "      if board[i][size - i - 1] != first:\n",
        "        break\n",
        "      elif i == size - 1:\n",
        "        return first\n",
        "  return -1"
      ],
      "execution_count": 0,
      "outputs": []
    },
    {
      "cell_type": "markdown",
      "metadata": {
        "id": "DDCI8dJ4L-qF",
        "colab_type": "text"
      },
      "source": [
        "##Number of trailing zeros in n!"
      ]
    },
    {
      "cell_type": "code",
      "metadata": {
        "id": "PFHVslrFa6zk",
        "colab_type": "code",
        "outputId": "87c78d5f-3535-49ae-97d6-2fa6f02e17e0",
        "colab": {
          "base_uri": "https://localhost:8080/",
          "height": 35
        }
      },
      "source": [
        "# Factorial zeros: number of trailing zeros in n factorial (num !)\n",
        "# just count factors of 5 in each term from 2 to number since 0's are due to 5*2 products\n",
        "def factorsOf5(i):\n",
        "  count = 0\n",
        "  while i % 5 == 0:\n",
        "    count += 1\n",
        "    i /= 5\n",
        "  return count\n",
        "\n",
        "def count_trailing_zeros(num):\n",
        "  count = 0\n",
        "  for i in range(2, num+1):\n",
        "    count += factorsOf5(i)\n",
        "  return count\n",
        "\n",
        "print count_trailing_zeros(10)  # 10! = 3628800"
      ],
      "execution_count": 0,
      "outputs": [
        {
          "output_type": "stream",
          "text": [
            "2\n"
          ],
          "name": "stdout"
        }
      ]
    },
    {
      "cell_type": "markdown",
      "metadata": {
        "id": "hWishFTUMIYD",
        "colab_type": "text"
      },
      "source": [
        "##Find 2 elts in arr1 and arr2 with the smallest non negative difference"
      ]
    },
    {
      "cell_type": "code",
      "metadata": {
        "id": "8GmKbYIpcY-D",
        "colab_type": "code",
        "colab": {}
      },
      "source": [
        "# given arr1 and arr2, find the 2 elts with the smallest (non negative) difference\n",
        "#  [1, 3, 15, 11, 2], [23, 127, 235, 19, 8] => 11 and 8\n",
        "import sys\n",
        "def findSmallestDifference(arr1, arr2):\n",
        "  arr1.sort()\n",
        "  arr2.sort()\n",
        "  a,b = 0,0\n",
        "  diff = sys.maxint\n",
        "  while a < len(arr1) and b < len(arr2):\n",
        "    if abs(arr1[a] - arr2[b]) < diff:\n",
        "      diff = abs(arr1[a] - arr2[b])\n",
        "    if arr1[a] < arr2[b]:\n",
        "      a += 1\n",
        "    else:\n",
        "      b += 1\n",
        "  return diff\n",
        "\n",
        "print findSmallestDifference([1, 3, 15, 11, 2], [23, 127, 235, 19, 8])"
      ],
      "execution_count": 0,
      "outputs": []
    },
    {
      "cell_type": "markdown",
      "metadata": {
        "id": "Ows_EvzVMVwP",
        "colab_type": "text"
      },
      "source": [
        "##Find max(a,b) without using a comparator"
      ]
    },
    {
      "cell_type": "code",
      "metadata": {
        "id": "m3hTqIsnpAQT",
        "colab_type": "code",
        "outputId": "e5a61573-701e-42d7-9190-4a1bd50504a9",
        "colab": {
          "base_uri": "https://localhost:8080/",
          "height": 35
        }
      },
      "source": [
        "# Find max of 2 numbers\n",
        "def getMax(a, b):\n",
        "  c = a - b\n",
        "  sa = 1 if a > 0 else 0\n",
        "  sb = 1 if b > 0 else 0\n",
        "  sc = 1 if c > 0 else 0\n",
        "  use_sign_of_a = sa ^ sb\n",
        "  use_sign_of_c = flip(sa ^ sb)\n",
        "  k = use_sign_of_a * sa + use_sign_of_c * sc\n",
        "  q = flip(k)\n",
        "  return a * k + b * q\n",
        "\n",
        "def flip(bit):\n",
        "  return 1 ^ bit\n",
        "\n",
        "def sign(a):\n",
        "  return flip((a >> 31) & 0x1)\n",
        "\n",
        "print getMax(3,7)"
      ],
      "execution_count": 0,
      "outputs": [
        {
          "output_type": "stream",
          "text": [
            "7\n"
          ],
          "name": "stdout"
        }
      ]
    },
    {
      "cell_type": "code",
      "metadata": {
        "id": "soAxha-Sqg_8",
        "colab_type": "code",
        "outputId": "928f16ba-b3dd-4d09-ff16-5fb5798d53a1",
        "colab": {
          "base_uri": "https://localhost:8080/",
          "height": 35
        }
      },
      "source": [
        "# English int: english version of int\n",
        "smalls = [\"Zero\", \"One\", \"Two\", \"Three\", \"Four\", \"Five\", \"Six\", \"Seven\", \"Eight\", \"Nine\", \"Ten\", \"Eleven\", \"Twelve\", \"Thirteen\", \"Fourteen\", \"Fifteen\", \"Sixteen\", \"Seventeen\", \"Eighteen\", \"Nineteen\"]\n",
        "tens = [\"\", \"\", \"Twenty\", \"Thirty\", \"Forty\", \"Fifty\", \"Sixty\", \"Seventy\", \"Eighty\", \"Ninety\"]\n",
        "bigs =[\"\", \"Thousand\", \"Million\", \"Billion\"]\n",
        "hundred = \"Hundred\"\n",
        "negative = \"Negative\"\n",
        "\n",
        "def convert(num):\n",
        "  if num == 0:\n",
        "    return smalls[0]\n",
        "  elif num < 0:\n",
        "    return negative + ' ' + convert(-1 * num)\n",
        "  parts = []\n",
        "  chunkCount = 0\n",
        "  while num > 0:\n",
        "    if num % 1000 != 0:\n",
        "      chunk = convertChunk(num % 1000) + ' ' + bigs[chunkCount]\n",
        "#       parts.insert(0, chunk)\n",
        "      parts.append(chunk)\n",
        "    num /= 1000\n",
        "    chunkCount += 1\n",
        "  return listToString(parts)\n",
        "\n",
        "def convertChunk(n):\n",
        "  parts = []\n",
        "  \n",
        "#   convert 100s place\n",
        "  if n > 100:\n",
        "    parts.append(smalls[n / 100])\n",
        "    parts.insert(0, hundred)\n",
        "    n %= 100\n",
        "  \n",
        "#   convert 10s place\n",
        "  if 10 <= n <= 19:\n",
        "    parts.insert(0, smalls[n])\n",
        "  elif n >= 20:\n",
        "    parts.insert(0, tens[n / 10])\n",
        "    n %= 10\n",
        "  \n",
        "#   convert 1s place\n",
        "  if 1 <= n <= 9:\n",
        "    parts.insert(0, smalls[n])\n",
        "    \n",
        "  return listToString(parts)\n",
        "\n",
        "def listToString(parts):\n",
        "  s = ''\n",
        "  while len(parts) > 1:\n",
        "    s += parts.pop()\n",
        "    s += ' '\n",
        "  s += parts.pop()\n",
        "  return s\n",
        "\n",
        "print convert(1120)"
      ],
      "execution_count": 0,
      "outputs": [
        {
          "output_type": "stream",
          "text": [
            "One Thousand One Hundred Twenty \n"
          ],
          "name": "stdout"
        }
      ]
    },
    {
      "cell_type": "markdown",
      "metadata": {
        "id": "B0ZazGlKMikG",
        "colab_type": "text"
      },
      "source": [
        "##Implement mulitply/substract/divide using only +"
      ]
    },
    {
      "cell_type": "code",
      "metadata": {
        "id": "rrgAO_fgvotj",
        "colab_type": "code",
        "colab": {}
      },
      "source": [
        "# Write methods to implement the multiply, subtract, and divide operations for integers using only add (+)\n"
      ],
      "execution_count": 0,
      "outputs": []
    },
    {
      "cell_type": "markdown",
      "metadata": {
        "id": "dV_HDpYLMuXt",
        "colab_type": "text"
      },
      "source": [
        "##Return year with max living people"
      ]
    },
    {
      "cell_type": "code",
      "metadata": {
        "id": "1kKcKo3iwBI0",
        "colab_type": "code",
        "colab": {}
      },
      "source": [
        "# Living People: Given a list of people with their birth and death years, implement a method to\n",
        "# compute the year with the most number of people alive\n",
        "#  You may assume that all people were born between 1900 and 2000 (inclusive)\n",
        "#  Every birth adds a person and every death removes a person. \n",
        "# Since we don't actually need to match up the births and deaths, let's sort both. \n",
        "# birth: 01 10 10 12 13 20 23 75 83 90\n",
        "# death: 15 72 82 90 94 98 98 98 98 99 \n",
        "# we can track the number of people alive at each point.\n",
        "\n",
        "class Person:\n",
        "  def __init__(self, birhYear, deathYear):\n",
        "    self.birth = birthYear\n",
        "    self.death = deathYear\n",
        "    \n",
        "  def getBirth(self):\n",
        "    return self.birth\n",
        "  \n",
        "  def getDeath(self):\n",
        "    return self.death\n",
        "    \n",
        "def maxAliveYear(people, min_, max_):\n",
        "  birth = getSortedYears(people, True)\n",
        "  death = getSortedYears(people, False)\n",
        "  birthindex, deathindex, currentlyAlive, maxAlive, maxAliveYear = 0,0,0,0,min_\n",
        "  while birthIndex < len(births):\n",
        "    if births[birthIndex] <= deaths[deathIndex]:\n",
        "      currentlyAlive += 1\n",
        "      if currentlyAlive > maxAlive:\n",
        "        maxAlive = currentlyAlive\n",
        "        maxAliveYear = births[birthIndex]\n",
        "      birthIndex += 1\n",
        "    elif births[birthIndex] > death[deathIndex]:\n",
        "      currentlyAlive -= 1\n",
        "      deathIndex += 1\n",
        "  return maxAliveYear"
      ],
      "execution_count": 0,
      "outputs": []
    },
    {
      "cell_type": "markdown",
      "metadata": {
        "id": "uQa_52gxM6Vq",
        "colab_type": "text"
      },
      "source": [
        "##Compute all possible lengths from shorter & longer planks if only k planks can be used to generate each length"
      ]
    },
    {
      "cell_type": "code",
      "metadata": {
        "id": "hM-xj1CMcNjv",
        "colab_type": "code",
        "outputId": "866c65fb-fa79-478f-b057-414707b548a2",
        "colab": {
          "base_uri": "https://localhost:8080/",
          "height": 35
        }
      },
      "source": [
        "# Diving Board: You are building a diving board by placing a bunch of planks of wood end-to-end.\n",
        "# There are two types of planks, one of length shorter and one of length longer. You must use\n",
        "# exactly K planks of wood. Write a method to generate all possible lengths for the diving board. \n",
        "\n",
        "def alllengths(k,shorter,longer):\n",
        "  lengths = []\n",
        "  for nShorter in range(k+1):\n",
        "    nLonger = k - nShorter\n",
        "    length = nShorter * shorter + nLonger * longer\n",
        "    lengths.append(length)\n",
        "  return lengths\n",
        "\n",
        "\n",
        "\n",
        "print alllengths(2, 2,4)"
      ],
      "execution_count": 0,
      "outputs": [
        {
          "output_type": "stream",
          "text": [
            "[8, 6, 4]\n"
          ],
          "name": "stdout"
        }
      ]
    },
    {
      "cell_type": "markdown",
      "metadata": {
        "id": "y_qBdjO1NUoL",
        "colab_type": "text"
      },
      "source": [
        "##XML encoding"
      ]
    },
    {
      "cell_type": "code",
      "metadata": {
        "id": "tYzqtw2K2kj5",
        "colab_type": "code",
        "colab": {}
      },
      "source": [
        "# XML encoding"
      ],
      "execution_count": 0,
      "outputs": []
    },
    {
      "cell_type": "markdown",
      "metadata": {
        "id": "soH_RZqDNaS7",
        "colab_type": "text"
      },
      "source": [
        "##Bisect 2 squares with one line"
      ]
    },
    {
      "cell_type": "code",
      "metadata": {
        "id": "Hp--pUdv3BuS",
        "colab_type": "code",
        "colab": {}
      },
      "source": [
        "#  Bisect Squares: Given two squares on a two-dimensional plane, find a line that would cut these two\n",
        "# squares in half. Assume that the top and the bottom sides of the square run parallel to the x-axis. "
      ],
      "execution_count": 0,
      "outputs": []
    },
    {
      "cell_type": "markdown",
      "metadata": {
        "id": "QakfcZ1HNhtd",
        "colab_type": "text"
      },
      "source": [
        "##Best line fit"
      ]
    },
    {
      "cell_type": "code",
      "metadata": {
        "id": "GoWuYLyo3HWf",
        "colab_type": "code",
        "colab": {}
      },
      "source": [
        "# Best Line: Given a two-dimensional graph with points on it, find a line which passes the most\n",
        "# number of points. "
      ],
      "execution_count": 0,
      "outputs": []
    },
    {
      "cell_type": "markdown",
      "metadata": {
        "id": "sIkI5axLNlw7",
        "colab_type": "text"
      },
      "source": [
        "##Master mind"
      ]
    },
    {
      "cell_type": "code",
      "metadata": {
        "id": "eJoh_VAF3NH_",
        "colab_type": "code",
        "colab": {}
      },
      "source": [
        "#  Master Mind: The computer has four slots, and each slot will contain a ball that is red (R), yellow (Y), green (G) or\n",
        "# blue (B). For example, the computer might have RGGB \n",
        "# a user is trying to guess the solution. for example, guess YRGB.\n",
        "# When you guess the correct color for the correct slot, you get a \"hit:' If you guess a color that exists\n",
        "# but is in the wrong slot, you get a \"pseudo-hit:'\n",
        "#  given a guess and a solution, returns the number of hits and pseudo-hits\n"
      ],
      "execution_count": 0,
      "outputs": []
    },
    {
      "cell_type": "markdown",
      "metadata": {
        "id": "0c3OIfJcNrYv",
        "colab_type": "text"
      },
      "source": [
        "##Sub sort: find end on left seq ..."
      ]
    },
    {
      "cell_type": "code",
      "metadata": {
        "id": "hE4K6hI032Q1",
        "colab_type": "code",
        "outputId": "ef7ecbb7-8fc5-46b6-aa95-ae172320aea5",
        "colab": {
          "base_uri": "https://localhost:8080/",
          "height": 35
        }
      },
      "source": [
        "# Sub Sort: Given an array of integers, write a method to find indices m and n such that if you sorted\n",
        "# elements m through n, the entire array would be sorted. Minimize n - m\n",
        "# Input: 1, 2, 4, 7, 10, 11, 7, 12, 6, 7, 16, 18, 19\n",
        "# Output: (3, 9)\n",
        "def findUnsortedSequence(arr):\n",
        "  end_left = findEndOfLeftSubsequence(arr)\n",
        "  if end_left >= len(arr) - 1:\n",
        "    return\n",
        "  start_right = findStartOfRightSubsequence(arr)\n",
        "  max_idx = end_left\n",
        "  min_idx = start_right\n",
        "  for i in range(end_left+1, start_right):\n",
        "    if arr[i] < arr[min_idx]:\n",
        "      min_idx = i\n",
        "    if arr[i] > arr[max_idx]:\n",
        "      max_idx = i\n",
        "  left_idx = shrinkLeft(arr, min_idx, end_left)\n",
        "  right_idx = shrinkRight(arr, max_idx, start_right)\n",
        "  return left_idx, right_idx\n",
        "\n",
        "def findEndOfLeftSubsequence(arr):\n",
        "  for i in range(1, len(arr)):\n",
        "    if arr[i] < arr[i - 1]:\n",
        "      return i-1\n",
        "  return len(arr) - 1\n",
        "\n",
        "def findStartOfRightSubsequence(arr):\n",
        "  for i in range(len(arr) - 2, -1, -1):\n",
        "    if arr[i] > arr[i+1]:\n",
        "      return i+1\n",
        "  return 0\n",
        "\n",
        "def shrinkLeft(arr, min_idx, start):\n",
        "  comp = arr[min_idx]\n",
        "  for i in range(start - 1, -1, -1):\n",
        "    if arr[i] <= comp:\n",
        "      return i+1\n",
        "  return 0\n",
        "\n",
        "def shrinkRight(arr, max_idx, start):\n",
        "  comp = arr[max_idx]\n",
        "  for i in range(start, len(arr)):\n",
        "    if arr[i] >= comp:\n",
        "      return i-1\n",
        "  return len(arr) - 1\n",
        "\n",
        "\n",
        "print findUnsortedSequence([1, 2, 4, 7, 10, 11, 7, 12, 6, 7, 16, 18, 19])"
      ],
      "execution_count": 0,
      "outputs": [
        {
          "output_type": "stream",
          "text": [
            "(3, 9)\n"
          ],
          "name": "stdout"
        }
      ]
    },
    {
      "cell_type": "markdown",
      "metadata": {
        "id": "XT-VMsRVN4BT",
        "colab_type": "text"
      },
      "source": [
        "##Contiguous seq with largest sum"
      ]
    },
    {
      "cell_type": "code",
      "metadata": {
        "id": "ZVHwwinB8MZW",
        "colab_type": "code",
        "outputId": "057abdca-6f26-442a-ca13-13bd66000d00",
        "colab": {
          "base_uri": "https://localhost:8080/",
          "height": 35
        }
      },
      "source": [
        "# Contiguous Sequence: You are given an array of integers (both positive and negative). Find the\n",
        "# contiguous sequence with the largest sum. Return the sum. \n",
        "# Input: 2, -8, 3, -2, 4, -10\n",
        "# Output: 5 ( i. e , { 3, -2, 4} ) \n",
        "def getMaxSum(a):\n",
        "  maxSum, sum_ = 0, 0\n",
        "  for e in a:\n",
        "    sum_ += e\n",
        "    if maxSum < sum_:\n",
        "      maxSum = sum_\n",
        "    elif sum_ < 0:\n",
        "      sum_ = 0\n",
        "  return maxSum\n",
        "\n",
        "print getMaxSum([2, -8, 3, -2, 4, -10])"
      ],
      "execution_count": 0,
      "outputs": [
        {
          "output_type": "stream",
          "text": [
            "5\n"
          ],
          "name": "stdout"
        }
      ]
    },
    {
      "cell_type": "markdown",
      "metadata": {
        "id": "4QAX1pQSN-q5",
        "colab_type": "text"
      },
      "source": [
        "##Pattern matching"
      ]
    },
    {
      "cell_type": "code",
      "metadata": {
        "id": "8zlxX8ha83jC",
        "colab_type": "code",
        "outputId": "05d1a567-10e1-4469-87f0-8bc14694e701",
        "colab": {
          "base_uri": "https://localhost:8080/",
          "height": 35
        }
      },
      "source": [
        "# Pattern Matching: You are given two strings, pattern and value. The pattern string consists of\n",
        "# just the letters a and b, describing a pattern within a string\n",
        "# Write a method to determine if value matches pattern\n",
        "def doesMatch(pattern, value):\n",
        "  if len(pattern) == 0:\n",
        "    return len(value) == 0\n",
        "  \n",
        "  mainChar = pattern[0]\n",
        "  altChar = 'b' if mainChar == 'a' else 'a'\n",
        "  size = len(value)\n",
        "  \n",
        "  countOfMain = countOf(pattern, mainChar)\n",
        "  countOfAlt = len(pattern) - countOfMain\n",
        "  firstAlt = pattern.index(altChar)\n",
        "  maxMainSize = size / countOfMain\n",
        "  \n",
        "  for mainSize in range(maxMainSize):\n",
        "    remainingLength = size - mainSize * countOfMain\n",
        "    first = value[:mainSize]\n",
        "    if countOfAlt == 0 or remainingLength % countOfAlt == 0:\n",
        "      altIndex = firstAlt * mainSize\n",
        "      altSize = remainingLength / countOfAlt if countOfAlt != 0 else 0\n",
        "      second = value[altIndex:altIndex + altSize] if countOfAlt != 0 else ''\n",
        "      cand = buildFromPattern(pattern, first, second)\n",
        "      if cand == value:\n",
        "        return True\n",
        "  return False\n",
        "  \n",
        "  \n",
        "def countOf(pattern, ch):\n",
        "  count = 0\n",
        "  for elt in pattern:\n",
        "    if elt == ch:\n",
        "      count += 1\n",
        "  return count\n",
        "\n",
        "def buildFromPattern(pattern, main, alt):\n",
        "  first, s = pattern[0], ''\n",
        "  for c in pattern:\n",
        "    if c == first:\n",
        "      s += main\n",
        "    else:\n",
        "      s += alt\n",
        "  return s\n",
        "  \n",
        "  \n",
        "print doesMatch('aabab','catcatgocatgo')"
      ],
      "execution_count": 0,
      "outputs": [
        {
          "output_type": "stream",
          "text": [
            "True\n"
          ],
          "name": "stdout"
        }
      ]
    },
    {
      "cell_type": "markdown",
      "metadata": {
        "id": "8rHd18bkOFCI",
        "colab_type": "text"
      },
      "source": [
        "##Pond sizes"
      ]
    },
    {
      "cell_type": "code",
      "metadata": {
        "id": "S-AmYShFBOoa",
        "colab_type": "code",
        "outputId": "56005123-9b4c-4e6b-cbd4-6941a8f333fc",
        "colab": {
          "base_uri": "https://localhost:8080/",
          "height": 53
        }
      },
      "source": [
        "# Pond Sizes: A value of zero indicates water. A pond is a region of water\n",
        "# connected vertically, horizontally, or diagonally. The size of the pond is the total number of\n",
        "# connected water cells. Write a method to compute the sizes of all ponds in the matrix. \n",
        "# Input:\n",
        "# 0 2 1 0\n",
        "# 0 1 0 1\n",
        "# 1 1 0 1\n",
        "# 0 1 0 1\n",
        "# Output: 2, 4, 1 (in any order)\n",
        "\n",
        "def computePondSizes(land): \n",
        "  pondSizes = []\n",
        "  for r in range(len(land)):\n",
        "    for c in range(len(land[r])):\n",
        "      if land[r][c] == 0:\n",
        "#       print 'from ({},{})'.format(r,c)\n",
        "        size = computeSize(land,r, c)\n",
        "#       print 'found ',size\n",
        "        pondSizes.append(size)\n",
        "  return pondSizes\n",
        "\n",
        "def computeSize(land, row, col):\n",
        "#   out of bounds or already visited\n",
        "  if row < 0 or col < 0 or row >= len(land) or col >= len(land[row]) or land[row][col] != 0:\n",
        "    return 0  \n",
        "  sz = 1\n",
        "  land[row][col] = -1\n",
        "  for dr in [-1,0,1]:\n",
        "    for dc in [-1,0,1]:\n",
        "      sz += computeSize(land,row+dr, col+dc)\n",
        "#   print sz\n",
        "  return sz\n",
        "\n",
        "\n",
        "### WITH VISITED (BUGGOUS)\n",
        "# def computePondSizes(land):\n",
        "#   f = [False] * len(land[0])\n",
        "#   visited, pondSizes = [f] * len(land), [] \n",
        "#   for r in range(len(land)):\n",
        "#     for c in range(len(land[r])):\n",
        "# #       print 'from ({},{})'.format(r,c)\n",
        "#       size = computeSize(land, visited, r, c)\n",
        "# #       print 'found ',size\n",
        "#       if size > 0:\n",
        "#         pondSizes.append(size)\n",
        "#   return pondSizes\n",
        "\n",
        "# def computeSize(land, visit, row, col):\n",
        "# #   out of bounds or already visited\n",
        "#   if row < 0 or col < 0 or row >= len(land) or col >= len(land[row]) or visit[row][col] or land[row][col] != 0:\n",
        "#     return 0  \n",
        "#   sz = 1\n",
        "#   visit[row][col] = True\n",
        "#   for dr in [-1,0,1]:\n",
        "#     for dc in [-1,0,1]:\n",
        "#       sz += computeSize(land, visit, row+dr, col+dc)\n",
        "# #   print sz\n",
        "#   return sz\n",
        "\n",
        "print computePondSizes([[0, 2, 1, 0],[0, 1, 0, 1], [1, 1, 0, 1], [0, 1, 0, 1]])\n",
        "print computePondSizes([[0,0,1,0],[2,1,1,1],[1,0,0,0],[0,1,1,1]])"
      ],
      "execution_count": 0,
      "outputs": [
        {
          "output_type": "stream",
          "text": [
            "[2, 4, 1]\n",
            "[2, 1, 4]\n"
          ],
          "name": "stdout"
        }
      ]
    },
    {
      "cell_type": "markdown",
      "metadata": {
        "id": "piNva8LUON-c",
        "colab_type": "text"
      },
      "source": [
        "##All possible words from number using old cell phones"
      ]
    },
    {
      "cell_type": "code",
      "metadata": {
        "id": "LzWwiwblL2kt",
        "colab_type": "code",
        "colab": {}
      },
      "source": [
        "# T9: On old cell phones\n",
        "# Input: 8733\n",
        "# Output: tree, used\n",
        "t9Letters = [None, None, ['a', 'b', 'c'], ['d', 'e', 'f'],['g', 'h', 'i'],['t', 'u', 'v'],['j', 'k', 'l'], ['m','n', 'o'],['p', 'q', 'r', 's'],['t','u','v'],['w', 'x', 'y', 'z']]\n",
        "\n",
        "def getValidT9Words(numbers, dictionary):\n",
        "  return dictionary[numbers]\n",
        "\n",
        "# precomputation\n",
        "def initializeDictionary(words):\n",
        "#   map from a letter to the digit\n",
        "  letterToNumberMap = createletterToNumberMap()\n",
        "#   map words to numbers\n",
        "  wordsToNumbers = {}\n",
        "  for word in words:\n",
        "    numbers = convertToT9(word, letterToNumberMap); \n",
        "    wordsToNumbers[numbers] = word\n",
        "  return wordsToNumbers\n",
        "\n",
        "# go from number->letters to letter->number\n",
        "def createletterToNumberMap():\n",
        "  letterToNumberMap = {}\n",
        "  for let, idx in enumerate(t9Letters):\n",
        "    letters = let\n",
        "    if not letters:\n",
        "      for letter in letters:\n",
        "        letterToNumberMap[letter] = idx\n",
        "  return letterToNumberMap\n",
        "\n",
        "# from a string to its T9 representation\n",
        "def convertToT9(word, letterToNumberMap):\n",
        "  s = ''\n",
        "  for ch in word:\n",
        "    if ch in letterToNumberMap:\n",
        "      digit = letterToNumberMap[ch]\n",
        "      s += str(digit)\n",
        "  return s"
      ],
      "execution_count": 0,
      "outputs": []
    },
    {
      "cell_type": "markdown",
      "metadata": {
        "id": "vedwxQ4EOYhP",
        "colab_type": "text"
      },
      "source": [
        "##Find 2 numbers one from each array st sum(arr1) = sum(arr2)"
      ]
    },
    {
      "cell_type": "code",
      "metadata": {
        "id": "gwk7aodQQ_YF",
        "colab_type": "code",
        "outputId": "52723c41-2daf-4120-9aad-fb488dc58ffb",
        "colab": {
          "base_uri": "https://localhost:8080/",
          "height": 35
        }
      },
      "source": [
        "# Sum Swap: Given two arrays of integers, find a pair of values (one value from each array) that you\n",
        "# can swap to give the two arrays the same sum. \n",
        "# lnput:[4, 1, 2, 1, 1, 2] and [3, 6, 3, 3]\n",
        "# Output: [1, 3]\n",
        "\n",
        "def findSwapValues(arr1, arr2):\n",
        "  target= getTarget(arr1, arr2)\n",
        "  if target == None:\n",
        "    return None\n",
        "  return findDifference(arr1, arr2, target)\n",
        "\n",
        "def findDifference(arr1, arr2, target):\n",
        "  contents2 = getContents(arr2)\n",
        "  all_pairs = set()\n",
        "  for one in arr1:\n",
        "    two = one - target\n",
        "    if two in contents2: \n",
        "      all_pairs.add((one,two))\n",
        "  return all_pairs\n",
        "\n",
        "def getContents(arr):\n",
        "  st = {}\n",
        "  for a in arr:\n",
        "    st[a] = True\n",
        "  return st\n",
        "\n",
        "def getTarget(arr1, arr2):\n",
        "  sum1 = sum(arr1)\n",
        "  sum2 = sum(arr2)\n",
        "  if (sum1 - sum2) % 2 != 0:\n",
        "    return None\n",
        "  res = (sum1 - sum2) / 2\n",
        "  return res\n",
        "  \n",
        "print findSwapValues([4, 1, 2, 1, 1, 2] ,[3, 6, 3, 3])"
      ],
      "execution_count": 0,
      "outputs": [
        {
          "output_type": "stream",
          "text": [
            "set([(1, 3), (4, 6)])\n"
          ],
          "name": "stdout"
        }
      ]
    },
    {
      "cell_type": "markdown",
      "metadata": {
        "id": "MLZeUyyvOmWF",
        "colab_type": "text"
      },
      "source": [
        "##Langton's Ant"
      ]
    },
    {
      "cell_type": "code",
      "metadata": {
        "id": "YQFLXvE2XCtU",
        "colab_type": "code",
        "colab": {}
      },
      "source": [
        "# Langton's Ant:"
      ],
      "execution_count": 0,
      "outputs": []
    },
    {
      "cell_type": "markdown",
      "metadata": {
        "id": "vmXN4g6mOpHO",
        "colab_type": "text"
      },
      "source": [
        "##Rand7 from Rand5"
      ]
    },
    {
      "cell_type": "code",
      "metadata": {
        "id": "tgbnFt3oXIi2",
        "colab_type": "code",
        "colab": {}
      },
      "source": [
        "# Rand7 from Rand5"
      ],
      "execution_count": 0,
      "outputs": []
    },
    {
      "cell_type": "markdown",
      "metadata": {
        "id": "SFLOWJS3Ox-1",
        "colab_type": "text"
      },
      "source": [
        "##Find all pairs within arr that sum to target"
      ]
    },
    {
      "cell_type": "code",
      "metadata": {
        "id": "vOPmhHuHXS4F",
        "colab_type": "code",
        "outputId": "6302385d-df0e-4385-b8e4-fecea86ae41e",
        "colab": {
          "base_uri": "https://localhost:8080/",
          "height": 35
        }
      },
      "source": [
        "# Pairs with Sum: Design an algorithm to find all pairs of integers within an array which sum to a\n",
        "# specified value\n",
        "def printPairSums(arr, sum_):\n",
        "  arr.sort() \n",
        "  first, last = 0, len(arr) - 1\n",
        "  res = []\n",
        "  while first < last:\n",
        "    s = arr[first] + arr[last] \n",
        "    if s == sum_:\n",
        "      res.append((arr[first], arr[last]))\n",
        "      first += 1\n",
        "      last -= 1\n",
        "    elif s < sum_:\n",
        "      first += 1\n",
        "    elif s > sum_:\n",
        "      last -= 1\n",
        "  return res\n",
        "\n",
        "print printPairSums([-2, -1, 0, 3, 5, 6, 7, 9, 13, 14], 9)"
      ],
      "execution_count": 0,
      "outputs": [
        {
          "output_type": "stream",
          "text": [
            "[(0, 9), (3, 6)]\n"
          ],
          "name": "stdout"
        }
      ]
    },
    {
      "cell_type": "markdown",
      "metadata": {
        "id": "T9Li6k1gO7Cj",
        "colab_type": "text"
      },
      "source": [
        "##LRU cache"
      ]
    },
    {
      "cell_type": "code",
      "metadata": {
        "id": "GG8pETGRXfys",
        "colab_type": "code",
        "colab": {}
      },
      "source": [
        "#  LRU Cache"
      ],
      "execution_count": 0,
      "outputs": []
    },
    {
      "cell_type": "markdown",
      "metadata": {
        "id": "QgbA3G9RPAhJ",
        "colab_type": "text"
      },
      "source": [
        "##Calculator: operatorStack(), ..."
      ]
    },
    {
      "cell_type": "code",
      "metadata": {
        "id": "wQESsX4xXgza",
        "colab_type": "code",
        "outputId": "6d67ed74-6dc5-4377-d86b-caedf5e603ef",
        "colab": {
          "base_uri": "https://localhost:8080/",
          "height": 35
        }
      },
      "source": [
        "# Calculator: Given an arithmetic equation consisting of positive integers,+,-,* and/ (no parentheses),\n",
        "# compute the result. \n",
        "# Input: 2*3+5/6*3+15\n",
        "# Output: 23.5 \n",
        "def compute(seq):\n",
        "  numberStack, operatorStack = [], []\n",
        "  for i in range(0, len(seq),2):\n",
        "    try:\n",
        "      value = parseNextNumber(seq, i)\n",
        "      numberStack.append(float(value))\n",
        "      i += len(str(value))\n",
        "      if i >= len(seq):\n",
        "        break\n",
        "      op = parseNextOperator(seq, i)\n",
        "      collapseTop(op, numberStack, operatorStack)\n",
        "      operatorStack.append(op)\n",
        "    except ValueError:\n",
        "      return -sys.maxint\n",
        "  collapseTop('BLANK', numberStack, operatorStack)\n",
        "  if len(numberStack) == 1 and len(operatorStack) == 0:\n",
        "    return numberStack.pop()\n",
        "  \n",
        "  \n",
        "def collapseTop(futureTop, numberStack, operatorStack):\n",
        "  while len(operatorStack) >= 1 and len(numberStack) >= 2:\n",
        "    if priorityOfOperator(futureTop) <= priorityOfOperator(operatorStack[-1]):\n",
        "      second = numberStack.pop()\n",
        "      first = numberStack.pop()\n",
        "      op = operatorStack.pop()\n",
        "      collapsed = applyOp(first, op, second)\n",
        "      numberStack.append(collapsed)\n",
        "    else:\n",
        "      break\n",
        "      \n",
        "def priorityOfOperator(op):\n",
        "  if op == 'ADD' or op == 'SUBSTRACT':\n",
        "    return 1 \n",
        "  elif op == 'MULTIPLY' or op == 'DIVIDE':\n",
        "    return 2\n",
        "  elif op == 'BLANK':\n",
        "    return 0\n",
        "  return 0\n",
        "\n",
        "def applyOp(left, op, right):\n",
        "  if op == 'ADD':\n",
        "    return left + right\n",
        "  elif op == 'SUBSTRACT':\n",
        "    return left - right\n",
        "  elif op == 'MULTIPLY':\n",
        "    return left * right\n",
        "  elif op == 'DIVIDE':\n",
        "    return left / right\n",
        "  else:\n",
        "    return right\n",
        "  \n",
        "def parseNextNumber(seq, offset):\n",
        "  s = ''\n",
        "  while offset < len(seq) and seq[offset].isdigit():\n",
        "    s += seq[offset]\n",
        "    offset += 1\n",
        "  return int(s)\n",
        "    \n",
        "def parseNextOperator(seq, offset):\n",
        "  if offset < len(seq):\n",
        "    op = seq[offset]\n",
        "    if op == '+':\n",
        "      return 'ADD'\n",
        "    elif op == '-':\n",
        "      return 'SUBSTRACT'\n",
        "    elif op == '*':\n",
        "      return 'MULTIPLY'\n",
        "    elif op == '/':\n",
        "      return 'DIVIDE'\n",
        "    else:\n",
        "      return 'BLANK'\n",
        "    \n",
        "print compute('2*3+5/6*3+15')"
      ],
      "execution_count": 0,
      "outputs": [
        {
          "output_type": "stream",
          "text": [
            "23.5\n"
          ],
          "name": "stdout"
        }
      ]
    },
    {
      "cell_type": "markdown",
      "metadata": {
        "id": "aQNfOBi-eXud",
        "colab_type": "text"
      },
      "source": [
        "# Hard"
      ]
    },
    {
      "cell_type": "markdown",
      "metadata": {
        "id": "6n2qaL0sGjPZ",
        "colab_type": "text"
      },
      "source": [
        "##Add without +"
      ]
    },
    {
      "cell_type": "code",
      "metadata": {
        "id": "f5HjiAQPeZaH",
        "colab_type": "code",
        "colab": {}
      },
      "source": [
        "# Add Without Plus: Write a function that adds two numbers. You should not use+ or any arithmetic\n",
        "# operators"
      ],
      "execution_count": 0,
      "outputs": []
    },
    {
      "cell_type": "markdown",
      "metadata": {
        "id": "Hsz2_oLWGqw8",
        "colab_type": "text"
      },
      "source": [
        "##Shuffle array of cards"
      ]
    },
    {
      "cell_type": "code",
      "metadata": {
        "id": "4c-3h_VHneMV",
        "colab_type": "code",
        "outputId": "7c81ba6f-1be3-41ca-c8f8-425a95b4e5fa",
        "colab": {
          "base_uri": "https://localhost:8080/",
          "height": 35
        }
      },
      "source": [
        "# Shuffle: Write a method to shuffle a deck of cards. It must be a perfect shuffle-in other words, each\n",
        "# of the 52! permutations of the deck has to be equally likely. Assume that you are given a random\n",
        "# number generator which is perfect.\n",
        "from random import randint\n",
        "def shuffleArrayiteratively(cards):\n",
        "  for i in range(len(cards)):\n",
        "    k = randint(0, i)\n",
        "    cards[i], cards[k] = cards[k], cards[i]\n",
        "  return cards\n",
        "\n",
        "print shuffleArrayiteratively([1,2,3,4,5,6])"
      ],
      "execution_count": 0,
      "outputs": [
        {
          "output_type": "stream",
          "text": [
            "[3, 2, 1, 4, 6, 5]\n"
          ],
          "name": "stdout"
        }
      ]
    },
    {
      "cell_type": "markdown",
      "metadata": {
        "id": "S2aG1GfiGxPt",
        "colab_type": "text"
      },
      "source": [
        "##Randomly pick subset of m from array of cards"
      ]
    },
    {
      "cell_type": "code",
      "metadata": {
        "id": "9-kehRp5nVYp",
        "colab_type": "code",
        "outputId": "b09393b4-ca29-4239-ce33-227afa64e7c1",
        "colab": {
          "base_uri": "https://localhost:8080/",
          "height": 35
        }
      },
      "source": [
        "# Random Set: Write a method to randomly generate a set of m integers from an array of size n. Each\n",
        "# element must have equal probability of being chosen\n",
        "def pickMiteratively(cards, m):\n",
        "  n = len(cards)\n",
        "  if m <= n:\n",
        "    subset = cards[:m]\n",
        "    for i in range(m, n):\n",
        "      k = randint(0, i)\n",
        "      if k < m:\n",
        "        subset[k] = cards[i]\n",
        "  return subset\n",
        "\n",
        "print pickMiteratively([1,2,3,4,5,6], 3)"
      ],
      "execution_count": 0,
      "outputs": [
        {
          "output_type": "stream",
          "text": [
            "[1, 4, 5]\n"
          ],
          "name": "stdout"
        }
      ]
    },
    {
      "cell_type": "markdown",
      "metadata": {
        "id": "bd6YY7uBG5t-",
        "colab_type": "text"
      },
      "source": [
        "##Missing number (binary)"
      ]
    },
    {
      "cell_type": "code",
      "metadata": {
        "id": "IIGSFlBtpaNT",
        "colab_type": "code",
        "colab": {}
      },
      "source": [
        "# Missing Number: An array A contains all the integers from O to n, except for one number which\n",
        "# is missing. "
      ],
      "execution_count": 0,
      "outputs": []
    },
    {
      "cell_type": "markdown",
      "metadata": {
        "id": "jTuam8KhHBoO",
        "colab_type": "text"
      },
      "source": [
        "##Longest subarray with equal number of letters and numbers"
      ]
    },
    {
      "cell_type": "code",
      "metadata": {
        "id": "s7WxhfHh-XfN",
        "colab_type": "code",
        "outputId": "bb8837e5-d2ed-4394-efda-f799a708e941",
        "colab": {
          "base_uri": "https://localhost:8080/",
          "height": 35
        }
      },
      "source": [
        "# Letters and Numbers: Given an array filled with letters and numbers, find the longest subarray with\n",
        "# an equal number of letters and numbers\n",
        "# Suppose we inserted an equal subarray (like a11a1a) after an array like a1aaa1. How\n",
        "# would that impact the counts? \n",
        "#  Since they've added the same number of letters and numbers, they should maintain the same difference\n",
        "def findLongestSubarray(array):\n",
        "#   Compute deltas between count of numbers and count of letters.\n",
        "  deltas = computeDeltaArray(array)\n",
        "#   Find pair in deltas with matching values and largest span\n",
        "  match = findlongestMatch(deltas)\n",
        "#    Return the subarray. Note that it starts one *after* the initial occurence of this delta\n",
        "  return array[match[0]+1: match[1]+1]\n",
        "\n",
        "def computeDeltaArray(arr):\n",
        "  deltas, delta = [], 0\n",
        "  for ch in arr:\n",
        "    if not ch.isdigit():\n",
        "      delta += 1\n",
        "    else:\n",
        "      delta -= 1\n",
        "    deltas.append(delta)\n",
        "  return deltas\n",
        "\n",
        "def findlongestMatch(deltas):\n",
        "  map_ = {}\n",
        "  map_[0], max_ = -1, [0,0]\n",
        "  for i, delta in enumerate(deltas):\n",
        "    if delta not in map_:\n",
        "      map_[delta] = i\n",
        "    else:\n",
        "      match = map_[delta]\n",
        "      distance = i - match\n",
        "      longest = max_[1] - max_[0]\n",
        "      if distance > longest:\n",
        "        max_ = [match, i]\n",
        "  return max_\n",
        "\n",
        "print findLongestSubarray(['a', 'a', 'a', 'a', '1', '1', 'a', '1', '1', 'a', 'a', '1', 'a', 'a', '1', 'a', 'a', 'a', 'a', 'a'])"
      ],
      "execution_count": 0,
      "outputs": [
        {
          "output_type": "stream",
          "text": [
            "['a', '1', '1', 'a', '1', '1', 'a', 'a', '1', 'a', 'a', '1']\n"
          ],
          "name": "stdout"
        }
      ]
    },
    {
      "cell_type": "markdown",
      "metadata": {
        "id": "DKUdXulLHKdp",
        "colab_type": "text"
      },
      "source": [
        "##Count number of 2s between 0 and n"
      ]
    },
    {
      "cell_type": "code",
      "metadata": {
        "id": "KWeCvvTTDTqj",
        "colab_type": "code",
        "outputId": "513af9b9-38ba-44c5-c024-e2445c2e995f",
        "colab": {
          "base_uri": "https://localhost:8080/",
          "height": 35
        }
      },
      "source": [
        "# Count of 2s: Write a method to count the number of 2s between O and n\n",
        "def numberOf2sinRange(n):\n",
        "  count = 0\n",
        "  for i in range(2,n+1):\n",
        "    count += numberOf2s(i)\n",
        "  return count\n",
        "\n",
        "def numberOf2s(val):\n",
        "  count = 0\n",
        "  while val > 0:\n",
        "    if val % 10 == 2:\n",
        "      count += 1\n",
        "    val /= 10\n",
        "  return count\n",
        "\n",
        "print numberOf2sinRange(20)"
      ],
      "execution_count": 0,
      "outputs": [
        {
          "output_type": "stream",
          "text": [
            "3\n"
          ],
          "name": "stdout"
        }
      ]
    },
    {
      "cell_type": "markdown",
      "metadata": {
        "id": "Qpz6R-IeHRAF",
        "colab_type": "text"
      },
      "source": [
        "##Get truly most popular baby name"
      ]
    },
    {
      "cell_type": "code",
      "metadata": {
        "id": "CsWKiPLEFHT6",
        "colab_type": "code",
        "outputId": "77bf14e2-4a61-4ad4-f277-764dbae24412",
        "colab": {
          "base_uri": "https://localhost:8080/",
          "height": 35
        }
      },
      "source": [
        "# Baby Names: u have a list of most common baby names and their frequencies, some names are equivalent. \n",
        "# Put all equivalent names together and recompute the frequency of each name\n",
        "# Input:\n",
        "#       Names: John (15), Jon (12), Chris (13), Kris (4), Christopher (19)\n",
        "#       Synonyms: (Jon, John), (John, Johnny), (Chris, Kris), (Chris, Christopher)\n",
        "# Output: John (27), Kris (36) \n",
        "\n",
        "# the total time of the algorithm is 0( B + P).\n",
        "\n",
        "from collections import defaultdict\n",
        "\n",
        "def trulyMostPopular(names, synonyms):\n",
        "#   Create data\n",
        "  graph = constructGraph(names)\n",
        "  graph = connectEdges(synonyms, graph)  \n",
        "#   Find components\n",
        "  rootNames = getTrueFrequencies(graph)\n",
        "  return rootNames\n",
        "\n",
        "def constructGraph(names):\n",
        "  graph = Graph()\n",
        "  for tupl in names:\n",
        "    name, freq = tupl \n",
        "    graph.createNode(name, freq)\n",
        "  return graph\n",
        "\n",
        "def connectEdges(synonyms, graph): \n",
        "  for tupl in synonyms:\n",
        "    name1, name2 = tupl[0], tupl[1] \n",
        "    graph.addEdge(name1,name2)\n",
        "  return graph\n",
        "\n",
        "def getTrueFrequencies(graph):\n",
        "  rootNames = {}\n",
        "  for node in graph.getNodes():\n",
        "    if not node.isVisited():\n",
        "      frequency = getComponentFrequency(node)\n",
        "      rootNames[node.getName()] = frequency\n",
        "  return rootNames\n",
        "\n",
        "def getComponentFrequency(node):\n",
        "  if node.isVisited():\n",
        "    return 0\n",
        "  node.setIsVisited(True)\n",
        "  sum_ = node.getFrequency()\n",
        "  for child in node.getNeighbors():\n",
        "    sum_ += getComponentFrequency(child)\n",
        "  return sum_\n",
        "\n",
        "class Graph:\n",
        "  def __init__(self):\n",
        "    self.nodes, self.all_nodes = {}, []\n",
        "    \n",
        "  def createNode(self, n, f):\n",
        "    if n not in self.nodes:\n",
        "      node = Node(n, f)\n",
        "      self.nodes[n] = node\n",
        "      self.all_nodes.append(node)\n",
        "    return self.nodes[n]\n",
        "  \n",
        "  def addEdge(self, n1, n2):\n",
        "    start, end = self.createNode(n1, 0), self.createNode(n2, 0)\n",
        "    start.addNeighbor(end)\n",
        "    end.addNeighbor(start)\n",
        "    \n",
        "  def getNodes(self):\n",
        "    return self.all_nodes\n",
        "  \n",
        "  def getNode(self, name):\n",
        "    return self.nodes[name]\n",
        "  \n",
        "class Node:\n",
        "  def __init__(self, n, f):\n",
        "    self.name, self.freq, self.visited, self.neighbors, self.map = n, f, False, [], {}\n",
        "    \n",
        "  def setIsVisited(self, val):\n",
        "    self.visited = val\n",
        "    \n",
        "  def isVisited(self):\n",
        "    return self.visited\n",
        "    \n",
        "  def getName(self):\n",
        "    return self.name\n",
        "  \n",
        "  def getFrequency(self):\n",
        "    return self.freq\n",
        "  \n",
        "  def addNeighbor(self, n):\n",
        "    if n.getName() not in self.map:\n",
        "      self.neighbors.append(n)\n",
        "      self.neighbors.extend(n.getNeighbors())\n",
        "      self.map[n.getName()] = n\n",
        "    \n",
        "  def getNeighbors(self):\n",
        "    return self.neighbors\n",
        "\n",
        "print trulyMostPopular([('John', 15), ('Jon', 12), ('Chris', 13), ('Kris', 4), ('Christopher', 19)],\n",
        "                       [('Jon', 'John'), ('John', 'Johnny'), ('Chris', 'Kris'), ('Chris', 'Christopher')]\n",
        "                      )\n",
        "\n"
      ],
      "execution_count": 0,
      "outputs": [
        {
          "output_type": "stream",
          "text": [
            "{'Chris': 36, 'John': 27}\n"
          ],
          "name": "stdout"
        }
      ]
    },
    {
      "cell_type": "markdown",
      "metadata": {
        "id": "GOtkgxjpHZ3M",
        "colab_type": "text"
      },
      "source": [
        "##MaxHeight of circus tower(people standing on top of one another)"
      ]
    },
    {
      "cell_type": "code",
      "metadata": {
        "id": "RgKov0SbYrW8",
        "colab_type": "code",
        "outputId": "b207091a-7a56-4837-f816-66e115932547",
        "colab": {
          "base_uri": "https://localhost:8080/",
          "height": 35
        }
      },
      "source": [
        "# Circus Tower: A circus is designing a tower routine consisting of people standing atop one another's\n",
        "# shoulders. For practical and aesthetic reasons, each person must be both shorter and lighter than\n",
        "# the person below him or her. Given the heights and weights of each person in the circus, write a\n",
        "# method to compute the largest possible number of people in such a tower. \n",
        "# Imagine we had the longest subsequence that terminates with each element, A[0] through A[3].\n",
        "# We can use this to find the longest subsequence that terminates with A [4]\n",
        "# We just append A[4] on to the longest subsequence that it can be appended to\n",
        "\n",
        "def longestincreasingSeq(arr):\n",
        "  arr.sort(key= lambda x: x[0])  # sort wrt weight\n",
        "  solutions, bestSequence = [], None\n",
        "  for i in range(len(arr)):\n",
        "    longuestAtIndex = bestSeqAtindex(arr, solutions, i)\n",
        "    solutions.append(longuestAtIndex)\n",
        "    bestSequence = my_max(bestSequence, longuestAtIndex)\n",
        "  return bestSequence\n",
        "\n",
        "def bestSeqAtindex(arr, solutions, idx):\n",
        "  value, bestSequence = arr[idx], []\n",
        "  for i in range(idx):\n",
        "    solution = solutions[i]\n",
        "    if canAppend(solution, value):\n",
        "      bestSequence = my_max(solution, bestSequence)\n",
        "  return bestSequence + [value]\n",
        "\n",
        "def my_max(seq1, seq2):\n",
        "  if not seq1:\n",
        "    return seq2\n",
        "  if not seq2:\n",
        "    return seq1\n",
        "  return seq1 if len(seq1) > len(seq2) else seq2\n",
        "\n",
        "def canAppend(solution, val):\n",
        "  if solution == None:\n",
        "    return False\n",
        "  if len(solution) == 0:\n",
        "    return True\n",
        "  last = solution[-1]\n",
        "  return True if (last[0] < val[0] and last[1]) < last[1] else False\n",
        "   \n",
        "print longestincreasingSeq([(2,3), (4,2), (7,2), (4, 9)])"
      ],
      "execution_count": 0,
      "outputs": [
        {
          "output_type": "stream",
          "text": [
            "[(4, 2), (4, 9)]\n"
          ],
          "name": "stdout"
        }
      ]
    },
    {
      "cell_type": "markdown",
      "metadata": {
        "id": "GcB6CqAsHtAm",
        "colab_type": "text"
      },
      "source": [
        "##Kth Multiple"
      ]
    },
    {
      "cell_type": "code",
      "metadata": {
        "id": "nM0xTjIQR4FC",
        "colab_type": "code",
        "outputId": "66096d2f-8387-4c21-f31f-5a227d2cc7e7",
        "colab": {
          "base_uri": "https://localhost:8080/",
          "height": 35
        }
      },
      "source": [
        "# Kth Multiple: Design an algorithm to find the kth number such that the only prime factors are 3, 5,\n",
        "# and 7. Note that 3, 5, and 7 do not have to be factors, but it should not have any other prime factors.\n",
        "# For example, the first several multiples would be (in order) 1, 3, 5, 7, 9, 15, 21\n",
        "import sys\n",
        "\n",
        "def getKthMagicNumber(k):\n",
        "  if k < 0:\n",
        "    return 0\n",
        "  val = 0\n",
        "  queue3, queue5, queue7 = [], [], []\n",
        "  queue3.append(1)\n",
        "  for i in range(k+1):\n",
        "    v3 = queue3[0] if len(queue3) > 0 else sys.maxint\n",
        "    v5 = queue5[0] if len(queue5) > 0 else sys.maxint\n",
        "    v7 = queue7[0] if len(queue7) > 0 else sys.maxint\n",
        "    val = min(v3, min(v5, v7))\n",
        "    if val == v3:\n",
        "      queue3.pop(0)\n",
        "      queue3.append(3 * val)\n",
        "      queue5.append(5 * val)\n",
        "    elif val == v5:\n",
        "      queue5.pop(0)\n",
        "      queue5.append(5 * val)\n",
        "    elif val == v7:\n",
        "      queue7.pop(0)\n",
        "    queue7.append(7 * val)\n",
        "  return val\n",
        "\n",
        "print getKthMagicNumber(10)"
      ],
      "execution_count": 0,
      "outputs": [
        {
          "output_type": "stream",
          "text": [
            "45\n"
          ],
          "name": "stdout"
        }
      ]
    },
    {
      "cell_type": "markdown",
      "metadata": {
        "id": "7pFiqDYiH0k1",
        "colab_type": "text"
      },
      "source": [
        "##Majority element"
      ]
    },
    {
      "cell_type": "code",
      "metadata": {
        "id": "ZZPpIBX6gioq",
        "colab_type": "code",
        "outputId": "173c4d95-ee7e-4631-fbc6-90ab8386d6db",
        "colab": {
          "base_uri": "https://localhost:8080/",
          "height": 35
        }
      },
      "source": [
        "# Majority Element: A majority element is an element that makes up more than half of the items in\n",
        "# an array. Given a positive integers array, find the majority element. If there is no majority element,\n",
        "# return -1. Do this in O(N) time and 0(1) space.\n",
        "# Input: 1 2 5 9 5 9 5 5 5\n",
        "# Output: 5 \n",
        "def findMajorityElement(arr):\n",
        "  candidate = getCandidate(arr)\n",
        "  return candidate if validate(arr, candidate) else -1 \n",
        "\n",
        "def getCandidate(arr):\n",
        "  majority, count = 0, 0\n",
        "  for n in arr:\n",
        "    if count == 0:\n",
        "      majority = n\n",
        "    if n == majority:\n",
        "      count += 1\n",
        "    else:\n",
        "      count -= 1\n",
        "  return majority\n",
        "\n",
        "def validate(arr, candidate):\n",
        "  count = 0\n",
        "  for n in arr:\n",
        "    if n == candidate:\n",
        "      count += 1\n",
        "  return count > len(arr) / 2\n",
        "\n",
        "print findMajorityElement([1, 2, 5, 9, 5, 9, 5, 5, 5])"
      ],
      "execution_count": 0,
      "outputs": [
        {
          "output_type": "stream",
          "text": [
            "5\n"
          ],
          "name": "stdout"
        }
      ]
    },
    {
      "cell_type": "markdown",
      "metadata": {
        "id": "Mc6TQ1gcH7pZ",
        "colab_type": "text"
      },
      "source": [
        "##Word distance"
      ]
    },
    {
      "cell_type": "code",
      "metadata": {
        "id": "Xj9ARI-6hgjy",
        "colab_type": "code",
        "outputId": "854087b1-e7fb-41fc-bffd-ab34f8198f2d",
        "colab": {
          "base_uri": "https://localhost:8080/",
          "height": 71
        }
      },
      "source": [
        "# Word Distance: You have a large text file containing words. Given any two words, find the shortest\n",
        "# distance (in terms of number of words) between them in the file. If the operation will be repeated\n",
        "# many times for the same file (but different pairs of words), can you optimize your solution? \n",
        "import sys\n",
        "def getMinLocations(word1, word2, book):\n",
        "  arr1, arr2 = getWordsPositions(word1, word2, book)\n",
        "  n1, n2 = len(arr1), len(arr2)\n",
        "  if arr1 == None or arr2 == None or n1 == 0 or n2 == 0:\n",
        "    return None\n",
        "  pos1, pos2, best_pos1, best_pos2 = 0, 0, 0, 0\n",
        "  minDistance = sys.maxint\n",
        "  while pos1 < n1 and pos2 < n2:\n",
        "    distance = abs(arr1[pos1] - arr2[pos2]) \n",
        "    if distance < minDistance:\n",
        "      minDistance = distance\n",
        "      best_pos1, best_pos2 = pos1, pos2\n",
        "    if arr1[pos1] < arr2[pos2]:\n",
        "      pos1 += 1\n",
        "    else:\n",
        "      pos2 += 1\n",
        "  return best_pos1, best_pos2, minDistance\n",
        "\n",
        "def getWordsPositions(word1, word2, book):\n",
        "  words = book.split()\n",
        "  words = [word.strip().lower() for word in words if word.strip()]\n",
        "  arr1, arr2 = [], []\n",
        "  for idx, word in enumerate(words):\n",
        "    if word == word1:\n",
        "      arr1.append(idx)\n",
        "    elif word == word2:\n",
        "      arr2.append(idx)\n",
        "  print arr1\n",
        "  print arr2\n",
        "  return arr1, arr2\n",
        "  \n",
        "print getMinLocations('love', 'hate','Love is for love what hate is not for love and what hate can be for love')"
      ],
      "execution_count": 0,
      "outputs": [
        {
          "output_type": "stream",
          "text": [
            "[0, 3, 9, 16]\n",
            "[5, 12]\n",
            "(1, 0, 2)\n"
          ],
          "name": "stdout"
        }
      ]
    },
    {
      "cell_type": "markdown",
      "metadata": {
        "id": "bYvxVj9HICIi",
        "colab_type": "text"
      },
      "source": [
        "##Convert BST to doubly LL"
      ]
    },
    {
      "cell_type": "code",
      "metadata": {
        "id": "mq0sNS6_wD9p",
        "colab_type": "code",
        "colab": {}
      },
      "source": [
        "# Implement a method to convert a binary search tree (implemented with BiNode)\n",
        "# into a doubly linked list. The values should be kept in order and the operation should be performed in place \n",
        "# Picture a simple binary search tree\n",
        "# The convert method should transform it into the below doubly linked list:\n",
        "# 0 <-> 1 <-> 2 <-> 3 <-> 4 <-> 5 <-> 6 starting from the bottom left node through to the bottom right node\n",
        "def convert(root):\n",
        "  if not root:\n",
        "    return None\n",
        "  part1 = convert(root.left)\n",
        "  part2 = convert(root.right)\n",
        "  if not part1:\n",
        "    concat(getTail(part1), root)\n",
        "  if not part2:\n",
        "    concat(root, part2)\n",
        "  return root if not part1 else part1\n",
        "\n",
        "def getTail(node):\n",
        "  if not node:\n",
        "    return None\n",
        "  while not node.node2():\n",
        "    node = node.node2()\n",
        "  return node\n",
        "\n",
        "def concat(x, y):\n",
        "  x.node2 = y\n",
        "  y.node1 = x\n",
        "  \n",
        "class NodePair:\n",
        "  def __init(self, h, t):\n",
        "    self.head, self.tail = h, t"
      ],
      "execution_count": 0,
      "outputs": []
    },
    {
      "cell_type": "markdown",
      "metadata": {
        "id": "e8yiDoifIKxU",
        "colab_type": "text"
      },
      "source": [
        "##Re-space "
      ]
    },
    {
      "cell_type": "code",
      "metadata": {
        "id": "GyE4cYbpy2mf",
        "colab_type": "code",
        "outputId": "d0cb4ec8-aada-48df-88fd-d5dccb57457d",
        "colab": {
          "base_uri": "https://localhost:8080/",
          "height": 35
        }
      },
      "source": [
        "# Re-Space: All spaces of a text have been removed,  Most of the words are in a dictionary but\n",
        "# a few are not. Unconcatenate the document minimizing the number of unrecognized characters\n",
        "# Input jesslookedjustliketimherbrother\n",
        "# Output: jess looked just like tim her brother (7 unrecognized characters: jess + tim)\n",
        "import sys\n",
        "def bestSplit(dico, doc):\n",
        "  memo = [None] * len(doc)\n",
        "  r = split(dico, doc, 0, memo)\n",
        "  return None if not r else (r.invalid, r.parsed)\n",
        "\n",
        "def split(dico, doc, start, memo):\n",
        "  if start >= len(doc):\n",
        "    return ParsedResult(0, '')\n",
        "  if memo[start] != None: \n",
        "    return memo[start]\n",
        "  bestInvalid, bestParsing, partial, index = sys.maxint, None, '', start\n",
        "  while index < len(doc):\n",
        "    ch = doc[index]\n",
        "    partial += ch\n",
        "    invalid = 0 if partial in dico else len(partial)\n",
        "    if invalid < bestInvalid:\n",
        "      result = split(dico, doc, index+1, memo)\n",
        "    if invalid + result.invalid < bestInvalid:\n",
        "      bestInvalid = invalid + result.invalid\n",
        "      bestParsing = partial + ' ' + result.parsed\n",
        "      if bestInvalid == 0:\n",
        "        break\n",
        "    index += 1\n",
        "  memo[start] = ParsedResult(bestInvalid, bestParsing)\n",
        "  return memo[start]\n",
        "\n",
        "class ParsedResult:\n",
        "  def __init__(self, invalid, parsed):\n",
        "    self.invalid, self.parsed = invalid, parsed\n",
        "\n",
        "print bestSplit(frozenset(['looked', 'just', 'like', 'her', 'brother']), 'jesslookedjustliketimherbrother')   \n",
        "  "
      ],
      "execution_count": 0,
      "outputs": [
        {
          "output_type": "stream",
          "text": [
            "(7, 'j e s s looked just like t i m her brother ')\n"
          ],
          "name": "stdout"
        }
      ]
    },
    {
      "cell_type": "markdown",
      "metadata": {
        "id": "Jo1F3-NqIP9M",
        "colab_type": "text"
      },
      "source": [
        "##Smallest k numbers in arr"
      ]
    },
    {
      "cell_type": "code",
      "metadata": {
        "id": "S4QPkdli3zqs",
        "colab_type": "code",
        "outputId": "5bf04cb3-37bb-4316-8a8a-9df897179476",
        "colab": {
          "base_uri": "https://localhost:8080/",
          "height": 35
        }
      },
      "source": [
        "# Smallest K: Design an algorithm to find the smallest K numbers in an array\n",
        "import heapq\n",
        "def findSmallestK(arr, k):\n",
        "  return heapq.nlargest(k, arr)\n",
        "\n",
        "print findSmallestK([2,1,4,3,5,7], 3)\n",
        "\n",
        "# other options: selectionRank()"
      ],
      "execution_count": 0,
      "outputs": [
        {
          "output_type": "stream",
          "text": [
            "[7, 5, 4]\n"
          ],
          "name": "stdout"
        }
      ]
    },
    {
      "cell_type": "markdown",
      "metadata": {
        "id": "IaLVhFqXIW4J",
        "colab_type": "text"
      },
      "source": [
        "##Longest word made up of others"
      ]
    },
    {
      "cell_type": "code",
      "metadata": {
        "id": "UsXb9i3h7kxA",
        "colab_type": "code",
        "outputId": "15394bd3-4dd6-411e-e6c9-d876e246832b",
        "colab": {
          "base_uri": "https://localhost:8080/",
          "height": 35
        }
      },
      "source": [
        "# Longest Word: Given a list of words, write a program to find the longest word made of other words in the list\n",
        "def printLongestWord(arr):\n",
        "  map_ = {}\n",
        "  for word in arr:\n",
        "    map_[word] = True\n",
        "  arr.sort(key = lambda x: -len(x))\n",
        "  for word in arr:\n",
        "    if canBuildWord(word, True, map_):\n",
        "      return word\n",
        "  return ''\n",
        "\n",
        "def canBuildWord(word, isOriginalWord, map_):\n",
        "  if word in map_ and not isOriginalWord:\n",
        "    return map_[word]\n",
        "  for i in range(1, len(word)):\n",
        "    left, right = word[:i], word[i:]\n",
        "    if left in map_ and map_[left] and canBuildWord(right, False, map_):\n",
        "      return True\n",
        "  map_[word]= False\n",
        "  return map_[word]\n",
        "\n",
        "print printLongestWord(['test', 'testing', 'testingtestor', 'tester', 'testtester'])"
      ],
      "execution_count": 0,
      "outputs": [
        {
          "output_type": "stream",
          "text": [
            "testtester\n"
          ],
          "name": "stdout"
        }
      ]
    },
    {
      "cell_type": "markdown",
      "metadata": {
        "id": "MjAsdRifIc8Z",
        "colab_type": "text"
      },
      "source": [
        "##The Masseuse"
      ]
    },
    {
      "cell_type": "code",
      "metadata": {
        "id": "wfA6E4Hh-dld",
        "colab_type": "code",
        "outputId": "35803039-aec9-4d46-9a9b-18adcd66a20f",
        "colab": {
          "base_uri": "https://localhost:8080/",
          "height": 35
        }
      },
      "source": [
        "# The Masseuse: A popular masseuse receives a sequence of back-to-back appointment requests\n",
        "# She needs a 15-minute break between appointments. , find the optimal\n",
        "# (highest total booked minutes) set the masseuse can honor. Return the number of minutes\n",
        "# Input: [30, 15, 60, 75, 45, 15, 15, 45]\n",
        "# Output: 180 minutes ([30, 60, 45, 45])\n",
        "def maxMinutes(massages):\n",
        "  oneAway, twoAway = 0, 0\n",
        "  for i in range(len(massages)-1, -1, -1):\n",
        "    bestWith = massages[i] + twoAway\n",
        "    bestWithout = oneAway\n",
        "    current = max(bestWith, bestWithout)\n",
        "    twoAway, oneAway = oneAway, current\n",
        "  return oneAway\n",
        "\n",
        "print maxMinutes([30, 15, 60, 75, 45, 15, 15, 45])"
      ],
      "execution_count": 0,
      "outputs": [
        {
          "output_type": "stream",
          "text": [
            "180\n"
          ],
          "name": "stdout"
        }
      ]
    },
    {
      "cell_type": "markdown",
      "metadata": {
        "id": "_ElNxa1UIjFb",
        "colab_type": "text"
      },
      "source": [
        "##Search all smaller strings in big string"
      ]
    },
    {
      "cell_type": "code",
      "metadata": {
        "id": "EtW3SpdI__ga",
        "colab_type": "code",
        "outputId": "408ff00a-7c2e-46a1-9268-4b4137d66701",
        "colab": {
          "base_uri": "https://localhost:8080/",
          "height": 35
        }
      },
      "source": [
        "# Multi Search: Given a string b and an array of smaller strings T, design a method to search b for\n",
        "# each small string in T. \n",
        "from collections import defaultdict\n",
        "def searchAll(big, smalls):\n",
        "  lookup, maxLen = defaultdict(list), len(big)\n",
        "  # Insert each string into a trie\n",
        "  root = createTrieFromStrings(smalls, maxLen).getRoot()\n",
        "  for i in range(maxLen):\n",
        "    strings = findStringsAtLoc(root, big, i) \n",
        "    for string in strings:\n",
        "      lookup[string].append(i)\n",
        "  return lookup\n",
        "\n",
        "def createTrieFromStrings(smalls, maxLen):\n",
        "  trie = Trie('')\n",
        "  for s in smalls:\n",
        "    if len(s) <= maxLen:\n",
        "      trie.insertString(s, 0)\n",
        "  return trie\n",
        "\n",
        "def findStringsAtLoc(root, big, start):\n",
        "  strings, index = [], start\n",
        "  while index < len(big):\n",
        "    root = root.getChild(big[index])\n",
        "    if not root:\n",
        "      break\n",
        "    if root.terminates():\n",
        "      strings.append(big[start:index+1])\n",
        "    index += 1\n",
        "  return strings\n",
        "\n",
        "class Trie:\n",
        "  def __init__(self, s):\n",
        "    self.root = TrieNode()\n",
        "    if s != None:\n",
        "      self.insertString(s, 0)\n",
        "    \n",
        "  def search(self, s):\n",
        "    self.root.search(s)\n",
        "    \n",
        "  def insertString(self, s, location): \n",
        "    self.root.insertString(s, location)\n",
        "    \n",
        "  def getRoot(self):\n",
        "    return self.root\n",
        "  \n",
        "class TrieNode:\n",
        "  def __init__(self):\n",
        "    self.children, self.indices, self.value = {}, [], None\n",
        "    \n",
        "  def insertString(self, s, idx):\n",
        "    self.indices.append(idx)\n",
        "    if s != None and len(s) > 0:\n",
        "      self.value = s[0]\n",
        "      child = None\n",
        "      if self.value in self.children:\n",
        "        child = self.children[self.value]\n",
        "      else:\n",
        "        child = TrieNode()\n",
        "        self.children[self.value] = child\n",
        "      remainder = s[1:]\n",
        "      child.insertString(remainder, idx+1)\n",
        "    else:\n",
        "      self.children['*'] = None  # terminating character\n",
        "  \n",
        "  def search(self, s):\n",
        "    if s == None or len(s) == 0:\n",
        "      return self.indices\n",
        "    else:\n",
        "      first = s[0]\n",
        "      if first in self.children:\n",
        "        remainder = s[1:]\n",
        "        return self.children[first].search(remainder)\n",
        "    return None\n",
        "  \n",
        "  def terminates(self):\n",
        "    return '*' in self.children\n",
        "  \n",
        "  def getChild(self, ch): \n",
        "    if ch in self.children:\n",
        "      return self.children[ch]\n",
        "  \n",
        "print searchAll('mississippi', ['i', 'is', 'pp', 'ms'])"
      ],
      "execution_count": 0,
      "outputs": [
        {
          "output_type": "stream",
          "text": [
            "defaultdict(<type 'list'>, {'i': [1, 4, 7, 10], 'is': [1, 4], 'pp': [8]})\n"
          ],
          "name": "stdout"
        }
      ]
    },
    {
      "cell_type": "markdown",
      "metadata": {
        "id": "7xDk4BCgItx5",
        "colab_type": "text"
      },
      "source": [
        "##Shortest supersequence"
      ]
    },
    {
      "cell_type": "code",
      "metadata": {
        "id": "5FIJj_RrPo7A",
        "colab_type": "code",
        "outputId": "8556b928-8ffa-4477-a1f9-833c74f67bf6",
        "colab": {
          "base_uri": "https://localhost:8080/",
          "height": 35
        }
      },
      "source": [
        "# Shortest Supersequence: You are given two arrays, one shorter (with all distinct elements) and one\n",
        "# longer. Find the shortest subarray in the longer array that contains all the elements in the shorter\n",
        "# array. The items can appear in any order\n",
        "# Input:\n",
        "#        [1, 5, 9]\n",
        "#        [7, 5, 9, 0, 2, 1, 3, 5, 7, 9, 1, 1, 5, 8, 8, 9, 7]\n",
        "# Output:[7, 10]\n",
        "\n",
        "def shortestSupersequence(bigs, smalls):\n",
        "  closures = getClosures(bigs, smalls)  # Get closure for each index\n",
        "  return getShortestClosure( closures)\n",
        "\n",
        "def getClosures(bigs, smalls):\n",
        "  closures = [0] * len(bigs)\n",
        "  for small in smalls:\n",
        "    closures = sweepForClosure(bigs, closures, small)\n",
        "  return closures\n",
        "\n",
        "# Do backwards sweep and update the closures list with the next occurrence of \n",
        "# value, if it's later than the current closure\n",
        "def sweepForClosure(bigs, closures, small):\n",
        "  next_ = -1\n",
        "  for i in range(len(bigs)-1, -1, -1):\n",
        "    if bigs[i] == small:\n",
        "      next_ = i\n",
        "    if (next_ == -1 or closures[i] < next_) and (closures[i] != -1):\n",
        "      closures[i] = next_\n",
        "  return closures\n",
        "\n",
        "def getShortestClosure(closures):\n",
        "  shortest = Range(0, closures[0])\n",
        "  for i, closure in enumerate(closures):\n",
        "    if closure == -1:\n",
        "      break\n",
        "    range_ = Range(i, closure)\n",
        "    if not shortest.shorterThan(range_):\n",
        "      shortest = range_\n",
        "  return  '[{}, {}] with length {}'.format(shortest.start, shortest.end, shortest.length())\n",
        "\n",
        "class Range:\n",
        "  def __init__(self, start, end):\n",
        "    self.start, self.end = start, end\n",
        "    \n",
        "  def length(self):\n",
        "    return self.end - self.start + 1\n",
        "  \n",
        "  def getStart(self):\n",
        "    return self.start\n",
        "  \n",
        "  def getEnd(self):\n",
        "    return self.end\n",
        "  \n",
        "  def shorterThan(self, other):\n",
        "    return self.length() < other.length()\n",
        "  \n",
        "print shortestSupersequence([7, 5, 9, 0, 2, 1, 3, 5, 7, 9, 1, 1, 5, 8, 8, 9, 7], [1, 5, 9])"
      ],
      "execution_count": 0,
      "outputs": [
        {
          "output_type": "stream",
          "text": [
            "[9, 12] with length 4\n"
          ],
          "name": "stdout"
        }
      ]
    },
    {
      "cell_type": "markdown",
      "metadata": {
        "id": "FSINqVU4I0lM",
        "colab_type": "text"
      },
      "source": [
        "##Missing 2 numbers in array of numbers from 1 to N"
      ]
    },
    {
      "cell_type": "code",
      "metadata": {
        "id": "uCyF-qa-U4qJ",
        "colab_type": "code",
        "outputId": "66f95068-1464-4fd8-b586-c9ef44101e87",
        "colab": {
          "base_uri": "https://localhost:8080/",
          "height": 35
        }
      },
      "source": [
        "# Missing Two: You are given an array with all the numbers from 1 to N appearing exactly once,\n",
        "# except for one number that is missing. How can you find the missing number in O(N) time and\n",
        "# 0(1) space? What if there were two numbers missing?\n",
        "import math\n",
        "def missingTwo(arr):\n",
        "  max_value = len(arr) + 2\n",
        "  rem_square = squareSumToN(max_value, 2)\n",
        "  rem_one = max_value * (max_value + 1) / 2\n",
        "  for num in arr:\n",
        "    rem_square -= num**2\n",
        "    rem_one -= num \n",
        "  return solveEquation(rem_one, rem_square)\n",
        "\n",
        "def squareSumToN(n, power):\n",
        "  sum_ = 0 \n",
        "  for i in range(n+1):\n",
        "    sum_ += int(math.pow(i, power)) \n",
        "  return sum_\n",
        "\n",
        "def solveEquation(r1, r2):\n",
        "#   x = [-b + sqrt(b^2 - 4ac)] / 2a; in our case\n",
        "  a, b, c = 2, -2 * r1, r1 * r1 - r2\n",
        "  part1, part2, part3 = -1*b, math.sqrt(b**2 - 4*a*c), 2*a\n",
        "  solutionX = int((part1 + part2) / part3)\n",
        "  solutionY = r1 - solutionX\n",
        "  return solutionX, solutionY\n",
        "\n",
        "print missingTwo([1,2,3,4,6,7,8,10])"
      ],
      "execution_count": 0,
      "outputs": [
        {
          "output_type": "stream",
          "text": [
            "(9, 5)\n"
          ],
          "name": "stdout"
        }
      ]
    },
    {
      "cell_type": "markdown",
      "metadata": {
        "id": "AL1K0ZGNI8vD",
        "colab_type": "text"
      },
      "source": [
        "##Continuous Median"
      ]
    },
    {
      "cell_type": "code",
      "metadata": {
        "id": "op8ApuGWY20-",
        "colab_type": "code",
        "outputId": "089e9ab9-b0af-422d-bab8-cfdde149c87c",
        "colab": {
          "base_uri": "https://localhost:8080/",
          "height": 198
        }
      },
      "source": [
        "# Continuous Median: Numbers are randomly generated and passed to a method. Write a program\n",
        "# to find and maintain the median value as new values are generated\n",
        "from heapq import heappush\n",
        "def addNewNumber(randomNumber, maxHeap=[], minHeap=[]):\n",
        "#   maintains the condition: len(maxHeap) >= len(minHeap)\n",
        "  if len(maxHeap) == len(minHeap):\n",
        "    if minHeap and randomNumber > minHeap[0]:\n",
        "      heappush(maxHeap, minHeap.pop(0))  # maxHeap.push(minHeap.pop())\n",
        "      heappush(minHeap, randomNumber)    # minHeap.push(randomNumber)\n",
        "    else:\n",
        "      heappush(maxHeap, randomNumber)\n",
        "  else:\n",
        "    if randomNumber < maxHeap[-1]:\n",
        "      heappush(minHeap, maxHeap.pop())\n",
        "      heappush(maxHeap, randomNumber)\n",
        "    else:\n",
        "      heappush(minHeap, randomNumber)\n",
        "      \n",
        "  return getMedian(maxHeap, minHeap)\n",
        "      \n",
        "def getMedian(maxHeap, minHeap):\n",
        "  if not maxHeap:\n",
        "    return 0\n",
        "  if len(maxHeap) == len(minHeap):\n",
        "    return (float(minHeap[0]) + maxHeap[-1]) / 2\n",
        "  else:\n",
        "    return maxHeap[-1]\n",
        "  \n",
        "\n",
        "print addNewNumber(1)\n",
        "print addNewNumber(7)\n",
        "print addNewNumber(2)\n",
        "print addNewNumber(8)\n",
        "print addNewNumber(3)\n",
        "print addNewNumber(9)\n",
        "print addNewNumber(4)\n",
        "print addNewNumber(10)\n",
        "print addNewNumber(5)\n",
        "print addNewNumber(6)"
      ],
      "execution_count": 0,
      "outputs": [
        {
          "output_type": "stream",
          "text": [
            "1\n",
            "4.0\n",
            "2\n",
            "4.5\n",
            "3\n",
            "5.0\n",
            "4\n",
            "5.5\n",
            "5\n",
            "5.5\n"
          ],
          "name": "stdout"
        }
      ]
    },
    {
      "cell_type": "markdown",
      "metadata": {
        "id": "TuR5hD8ZJCfw",
        "colab_type": "text"
      },
      "source": [
        "##Compute Histogram Volume"
      ]
    },
    {
      "cell_type": "code",
      "metadata": {
        "id": "tqJfOXjQcz8Q",
        "colab_type": "code",
        "outputId": "ba80facc-7be0-4cf7-ad48-70e9995f3f4b",
        "colab": {
          "base_uri": "https://localhost:8080/",
          "height": 35
        }
      },
      "source": [
        "# Volume of Histogram: Imagine a histogram (bar graph). Design an algorithm to compute the\n",
        "# volume of water it could hold if someone poured water across the top. You can assume that each\n",
        "# histogram bar has width 1.\n",
        "def computeHistogramVolume(histo):\n",
        "#    Get left max\n",
        "  leftMaxes = [0] * len(histo)\n",
        "  leftMax = histo[0]\n",
        "  for i in range(len(histo)):\n",
        "    leftMax = max(leftMax, histo[i])\n",
        "    leftMaxes[i] = leftMax \n",
        "  sum_ = 0\n",
        "#   Get right max \n",
        "  rightMax = histo[-1]\n",
        "  for i in range(len(histo)-1, -1, -1):\n",
        "    rightMax = max(rightMax, histo[i])\n",
        "    secondTallest = min(rightMax, leftMaxes[i])\n",
        "# If there are taller things on the left and right side, then there is water \n",
        "# above this bar. Compute the volume and add to the sum. \n",
        "    if secondTallest > histo[i]:\n",
        "      sum_ += secondTallest - histo[i]\n",
        "  return sum_\n",
        "\n",
        "print computeHistogramVolume([0,0,4,0,0,6,0,0,3,0,8,0,2,0,5,2,0,3,0,0])"
      ],
      "execution_count": 0,
      "outputs": [
        {
          "output_type": "stream",
          "text": [
            "46\n"
          ],
          "name": "stdout"
        }
      ]
    },
    {
      "cell_type": "markdown",
      "metadata": {
        "id": "t2x1C5LEJH60",
        "colab_type": "text"
      },
      "source": [
        "##Word Transformer"
      ]
    },
    {
      "cell_type": "code",
      "metadata": {
        "id": "PMTzlw81l8vg",
        "colab_type": "code",
        "outputId": "6e02a711-6914-4e9b-8a7b-871f7f7c51b1",
        "colab": {
          "base_uri": "https://localhost:8080/",
          "height": 35
        }
      },
      "source": [
        "# Word Transformer: Given two words of equal length that are in a dictionary, write a method to\n",
        "# transform one word into another word by changing only one letter at a time. The new word you get\n",
        "# in each step must be in the dictionary. \n",
        "# Input:  DAMP, LIKE\n",
        "# Output: DAMP-> LAMP-> LIMP-> LIME-> LIKE\n",
        "from collections import defaultdict\n",
        "def transform(startWord, stopWord, words):\n",
        "  wildcardToWordList = getWildcardToWordlist(words) \n",
        "  sourceData = BFSData(startWord)\n",
        "  destData = BFSData(stopWord)\n",
        "  while (not sourceData.isFinished()) and (not destData.isFinished()):\n",
        "#    Search out from source\n",
        "     collision, sourceData, destData = searchLevel(wildcardToWordList, sourceData, destData)\n",
        "     if collision != None: \n",
        "        return mergePaths(sourceData, destData, collision) \n",
        "#    Search out from destination\n",
        "     collision, destData, sourceData = searchLevel(wildcardToWordList, destData, sourceData)\n",
        "     if collision != None: \n",
        "        return mergePaths(sourceData, destData, collision)\n",
        "  return None\n",
        "\n",
        "def searchLevel(wildcardToWordList, primary, secondary):\n",
        "  count = len(primary.toVisit)\n",
        "  for i in range(count):\n",
        "    pathNode = primary.toVisit.pop()\n",
        "    word = pathNode.getWord() \n",
        "    if word in secondary.visited:\n",
        "      return word, primary, secondary\n",
        "#    Add friends to queue\n",
        "  words = getValidLinkedWords(word, wildcardToWordList) \n",
        "  for word in words:\n",
        "    if word not in primary.visited:\n",
        "      next_ = PathNode(word, pathNode)\n",
        "      primary.visited[word] = next_\n",
        "      primary.toVisit.append(next_)\n",
        "  return None, primary, secondary\n",
        "\n",
        "def getWildcardToWordlist(words):\n",
        "  wildcardToWords = defaultdict(list)\n",
        "  for word in words:\n",
        "    linked = getWildcardRoots(word)\n",
        "    for linkedWord in linked:\n",
        "      wildcardToWords[linkedWord].append(word)\n",
        "  return wildcardToWords\n",
        "\n",
        "def getWildcardRoots(word):\n",
        "  words = []\n",
        "  for i in range(len(word)):\n",
        "    w = word[:i] + '_' + word[i+1:]\n",
        "    words.append(w)\n",
        "  return words\n",
        "\n",
        "def getValidLinkedWords(word, wildcardToWords):\n",
        "  wildcards = getWildcardRoots(word) \n",
        "  linkedWords = []\n",
        "  for wildcard in wildcards:\n",
        "    words = wildcardToWords[wildcard]  \n",
        "    for linkedWord in words:\n",
        "      if linkedWord != word: \n",
        "        linkedWords.append(linkedWord)\n",
        "  return linkedWords\n",
        "\n",
        "def mergePaths(bfs1, bfs2, connection):\n",
        "  end1 = bfs1.visited[connection]\n",
        "  end2 = bfs2.visited[connection]\n",
        "  pathOne = end1.collapse(False)\n",
        "  pathTwo = end2.collapse(True)\n",
        "  if pathTwo:\n",
        "    pathTwo.pop(0)\n",
        "    pathOne.extend(pathTwo)\n",
        "  return pathOne\n",
        "\n",
        "class BFSData:\n",
        "  def __init__(self, root):\n",
        "    self.sourcePath, self.toVisit, self.visited = PathNode(root, None), [], {}\n",
        "    self.toVisit.append(self.sourcePath)\n",
        "    self.visited[root] = self.sourcePath\n",
        "    \n",
        "  def isFinished(self):\n",
        "    return not self.toVisit\n",
        "  \n",
        "class PathNode:\n",
        "  def __init__(self, word, previous):\n",
        "    self.word, self.previous = word, previous\n",
        "    \n",
        "  def getWord(self):\n",
        "    return self.word\n",
        "  \n",
        "  def getPrevious(self):\n",
        "    return self.previous\n",
        "  \n",
        "  def collapse(self, startsWithRoot):\n",
        "    path = []\n",
        "    node = self\n",
        "    while node != None:\n",
        "      if startsWithRoot:\n",
        "        path.append(node.getWord())\n",
        "      else:\n",
        "        path.insert(0, node.getWord())\n",
        "      node = node.getPrevious()\n",
        "    return path\n",
        "  \n",
        "print transform('DAMP', 'LIKE', frozenset(['LIME', 'BARE', 'DAMP', 'SALI', 'BART', 'LIMP','LAMP', 'LIKE']))"
      ],
      "execution_count": 0,
      "outputs": [
        {
          "output_type": "stream",
          "text": [
            "['DAMP', 'LAMP', 'LIMP', 'LIME', 'LIKE']\n"
          ],
          "name": "stdout"
        }
      ]
    },
    {
      "cell_type": "markdown",
      "metadata": {
        "id": "i1vwrT4CJPHl",
        "colab_type": "text"
      },
      "source": [
        "##Find max subSquare with all 4 borders filled with black pixels"
      ]
    },
    {
      "cell_type": "code",
      "metadata": {
        "id": "k_YInJIP9208",
        "colab_type": "code",
        "colab": {}
      },
      "source": [
        "# Max Square Matrix: Imagine you have a square matrix, where each cell (pixel) is either black or\n",
        "# white. Design an algorithm to find the maximum subsquare such that all four borders are filled with\n",
        "# black pixels. \n",
        "def findsquare(mat):\n",
        "  processed = processSquare(mat)\n",
        "  for i in range(len(mat), -1, -1):\n",
        "    square = findSquareWithSize(processed, i)\n",
        "    if square != None:\n",
        "      return square\n",
        "  return None\n",
        "\n",
        "def findSquareWithSize(mat, size):\n",
        "#   On an edge of length N, there are (N - sz + 1) squares of length sz\n",
        "  count = len(mat) - size + 1\n",
        "  for row in range(count):\n",
        "    for col in range(count):\n",
        "      if isSquare(mat, row, col, size):\n",
        "        return Subsquare(row, col, size)\n",
        "  return None\n",
        "\n",
        "def isSquare(mat, row, col, size):\n",
        "#   Check top and bottom border\n",
        "  for i in range(size):\n",
        "    if mat[row][col+i] == 1:\n",
        "      return False\n",
        "    if mat[row+size-1][col+i] == 1:\n",
        "      return False\n",
        "#   Check left and right border\n",
        "  for i in range(size):\n",
        "    if mat[row+i][col] == 1:\n",
        "      return False\n",
        "    if mat[row+i][col+size-1] == 1:\n",
        "      return False\n",
        "  return True\n",
        "\n",
        "class Subsquare:\n",
        "  def __init__(self, r, c, sz):\n",
        "    self.row, self.col, self.size = r, c, sz\n",
        "\n",
        "# def isSquare(mat, row, col, size):\n",
        "#   topLeft = mat[row][col]\n",
        "#   topRight = mat[row][col+size-1]\n",
        "#   bottomLeft = mat[row+size-1][col]\n",
        "# # Check top, left, right, and bottom edges, respectively\n",
        "#   if topLeft.zerosRight < size or topLeft.zerosBelow < size or \\\n",
        "#       topRight.zerosBelow < size or bottomLeft.zerosRight < size:\n",
        "#     return False\n",
        "#   return True"
      ],
      "execution_count": 0,
      "outputs": []
    },
    {
      "cell_type": "markdown",
      "metadata": {
        "id": "7KFtD5qMJm86",
        "colab_type": "text"
      },
      "source": [
        "##Find submatrix with largest possible sum"
      ]
    },
    {
      "cell_type": "code",
      "metadata": {
        "id": "lKshpowkEDer",
        "colab_type": "code",
        "colab": {}
      },
      "source": [
        "# Max Submatrix: Given an NxN matrix of positive and negative integers, write code to find the\n",
        "# submatrix with the largest possible sum. \n",
        "def getMaxMatrix(mat):\n",
        "  best, rowCount, columnCount = None, len(mat), len(mat[0])\n",
        "  sumThrough = precomputeSums(mat)\n",
        "  for row1 in range(rowCount):\n",
        "    for row2 in range(row1, rowCount):\n",
        "      for col1 in range(columnCount):\n",
        "        for col2 in range(col1, columnCount):\n",
        "          sum_ = getSum(sumThrough, row1, row2, col1, col2)\n",
        "          if best == None or best.getSum() < sum_:\n",
        "            best = SubMatrix(row1, col1, row2, col2, sum_)\n",
        "  return best\n",
        "\n",
        "def precomputeSums(mat):\n",
        "  row, col = len(mat), len(mat[0])\n",
        "  sumThrough = [[0] * col] * row\n",
        "  for r in range(row):\n",
        "    for c in range(col):\n",
        "      left = sumThrough[r][c-1] if c > 0 else 0\n",
        "      top = sumThrough[r-1][c] if r > 0 else 0\n",
        "      overLap = sumThrough[r-1][c-1] if r > 0 and c > 0 else 0\n",
        "      sumThrough[r][c] = left + top - overlap + mat[r][c]\n",
        "  return sumThrough\n",
        "\n",
        "def getSum(sumThrough, r1, c1, r2, c2):\n",
        "  topAndLeft = sumThrough[r1-1][c1-1] if r1 > 0 and c1 > 0 else 0\n",
        "  left = sumThrough[r2][c1-1] if c1 > 0 else 0\n",
        "  top = sumThrough[r1-1][c2] if r1 > 0 else 0\n",
        "  full = sumThrough[r2][c2]\n",
        "  return full - top - left + topAndLeft\n",
        "\n",
        "class SubMatrix:\n",
        "  def __init__(self, r1, c1, r2, c2, s):\n",
        "    self.row1, self.col1, self.row2, self.col2, self.sum = r1, c1, r2, c2, s\n",
        "    \n",
        "  def getSum(self):\n",
        "    return self.sum\n",
        "          "
      ],
      "execution_count": 0,
      "outputs": []
    },
    {
      "cell_type": "markdown",
      "metadata": {
        "id": "ReUkgef3JwyW",
        "colab_type": "text"
      },
      "source": [
        "##Word rectangle"
      ]
    },
    {
      "cell_type": "code",
      "metadata": {
        "id": "jeEx-eNBGApt",
        "colab_type": "code",
        "colab": {}
      },
      "source": [
        "# Word Rectangle: Given a list of millions of words, design an algorithm to create the largest possible\n",
        "# rectangle of letters such that every row forms a word (reading left to right) and every column forms\n",
        "# a word (reading top to bottom). The words need not be chosen consecutively from the list, but all\n",
        "# rows must be the same length and all columns must be the same height. \n"
      ],
      "execution_count": 0,
      "outputs": []
    },
    {
      "cell_type": "markdown",
      "metadata": {
        "id": "pjFuEGpIJ7U3",
        "colab_type": "text"
      },
      "source": [
        "##Compute docs similarities(intersection/union)"
      ]
    },
    {
      "cell_type": "code",
      "metadata": {
        "id": "sSVGEXS-JXKH",
        "colab_type": "code",
        "outputId": "aa7cd998-8461-4b67-8c37-f147c5492b0e",
        "colab": {
          "base_uri": "https://localhost:8080/",
          "height": 55
        }
      },
      "source": [
        "# We have a long list of documents (with distinct values and each with an associated ID) where the\n",
        "# similarity is believed to be \"sparse:'That is, any two arbitrarily selected documents are very likely to\n",
        "# have similarity O. Design an algorithm that returns a list of pairs of document IDs and the associated\n",
        "# similarity. Print only the pairs with similarity greater than 0. \n",
        "# each document is represented as an array of distinct integers\n",
        "# Input:\n",
        "#         13: [14, 15, 100, 9, 3]\n",
        "#         16: [32, 1, 9, 3, 5]\n",
        "#         19: [15, 29, 2, 6, 8, 7]\n",
        "#         24: [7, 10]\n",
        "# Output:\n",
        "#         ID1, ID2, SIMILARITY\n",
        "#         13, 19,   0.1\n",
        "#         13, 16,   0.25\n",
        "#         19, 24,   0.14285714285714285\n",
        "from collections import defaultdict\n",
        "def computeSimilarities(documents, dico):\n",
        "    wordToDocs = groupWords(documents)\n",
        "    similarities = computeintersections(wordToDocs)\n",
        "    similarities = adjustToSimilarities(dico, similarities)\n",
        "    return similarities\n",
        "  \n",
        "def groupWords(docs):\n",
        "  wordToDocs = defaultdict(list)\n",
        "  for doc in docs:\n",
        "    words = doc.getWords()\n",
        "    for word in words:\n",
        "      wordToDocs[word].append(doc.getId())\n",
        "  return wordToDocs\n",
        "\n",
        "def computeintersections(wordToDocs):\n",
        "  similarities = defaultdict(float)\n",
        "  words = wordToDocs.keys()\n",
        "  for word in words:\n",
        "    docs = wordToDocs[word] \n",
        "    docs.sort()\n",
        "    for i in range(len(docs)):\n",
        "      for j in range(i+1, len(docs)):\n",
        "        pair1, pair2 = (docs[i], docs[j]), (docs[j], docs[i])\n",
        "        similarities[pair1] += 1\n",
        "        similarities[pair2] += 1\n",
        "  return similarities\n",
        "\n",
        "def adjustToSimilarities(documents, similarities):\n",
        "  for pair, intersection in similarities.iteritems(): \n",
        "    doc1, doc2 = documents[pair[0]], documents[pair[1]]\n",
        "    union = doc1.size() + doc2.size() - intersection\n",
        "    similarities[pair] = intersection / union\n",
        "  return similarities\n",
        "\n",
        "class Document:\n",
        "  def __init__(self, id_, words):\n",
        "    self.docId, self.words = id_, words\n",
        "    \n",
        "  def getWords(self):\n",
        "    return self.words\n",
        "  \n",
        "  def getId(self):\n",
        "    return self.docId\n",
        "  \n",
        "  def size(self):\n",
        "    return 0 if not self.words else len(self.words) \n",
        "        \n",
        "    \n",
        "doc1, doc2, doc3, doc4 = Document(13, [14, 15, 100, 9, 3]), Document(16, [32, 1, 9, 3, 5]), Document(19, [15, 29, 2, 6, 8, 7]), Document(24, [7, 10])\n",
        "print computeSimilarities(docs, {13: doc1, 16: doc2, 19: doc3, 24: doc4})        \n"
      ],
      "execution_count": 0,
      "outputs": [
        {
          "output_type": "stream",
          "text": [
            "defaultdict(<type 'float'>, {(24, 19): 0.14285714285714285, (13, 19): 0.1, (13, 16): 0.25, (19, 24): 0.14285714285714285, (19, 13): 0.1, (16, 13): 0.25})\n"
          ],
          "name": "stdout"
        }
      ]
    },
    {
      "cell_type": "markdown",
      "metadata": {
        "id": "-3J-4_-cSxSS",
        "colab_type": "text"
      },
      "source": [
        "#Sorting and Searching"
      ]
    },
    {
      "cell_type": "markdown",
      "metadata": {
        "id": "ETENzaaNFcwT",
        "colab_type": "text"
      },
      "source": [
        "##Sorted Merge"
      ]
    },
    {
      "cell_type": "code",
      "metadata": {
        "id": "dN6OSSNdS6ll",
        "colab_type": "code",
        "outputId": "10f0e544-9a7d-458f-ee47-4cfd210c152b",
        "colab": {
          "base_uri": "https://localhost:8080/",
          "height": 35
        }
      },
      "source": [
        "# Sorted Merge: You are given two sorted arrays, A and B, where A has a large enough buffer at the\n",
        "# end to hold B. Write a method to merge B into A in sorted order\n",
        "def merge(a, b, lastA, lastB):\n",
        "  indexA, indexB, indexMerged = lastA - 1, lastB - 1, lastB + lastA - 1\n",
        "  while indexB >= 0:\n",
        "    if indexA >= 0 and a[indexA] > b[indexB]:\n",
        "      a[indexMerged] = a[indexA]\n",
        "      indexA -= 1\n",
        "    else:\n",
        "      a[indexMerged] = b[indexB]\n",
        "      indexB -= 1\n",
        "    indexMerged -= 1\n",
        "  return a\n",
        "    \n",
        "A = [1,2,3] + [None]*3\n",
        "B = [4,8,7]\n",
        "print merge(A, B, 3, 3)  "
      ],
      "execution_count": 0,
      "outputs": [
        {
          "output_type": "stream",
          "text": [
            "[1, 2, 3, 4, 8, 7]\n"
          ],
          "name": "stdout"
        }
      ]
    },
    {
      "cell_type": "markdown",
      "metadata": {
        "id": "mMmk0YcEFiPI",
        "colab_type": "text"
      },
      "source": [
        "##Group Anagrams"
      ]
    },
    {
      "cell_type": "code",
      "metadata": {
        "id": "A-4GULMPU6Z7",
        "colab_type": "code",
        "colab": {}
      },
      "source": [
        "# Group Anagrams: Write a method to sort an array ot strings so that all tne anagrnms are next to\n",
        "# each other"
      ],
      "execution_count": 0,
      "outputs": []
    },
    {
      "cell_type": "markdown",
      "metadata": {
        "id": "smOS1mAXFmjc",
        "colab_type": "text"
      },
      "source": [
        "##Search in Rotated array"
      ]
    },
    {
      "cell_type": "code",
      "metadata": {
        "id": "8XG8Tbt1VK9J",
        "colab_type": "code",
        "outputId": "6a05b4e1-2541-42c6-d6e2-ad5e45182974",
        "colab": {
          "base_uri": "https://localhost:8080/",
          "height": 35
        }
      },
      "source": [
        "# Search in Rotated Array: Given a sorted array of n integers that has been rotated an unknown\n",
        "# number of times, write code to find an element in the array. You may assume that the array was\n",
        "# originally sorted in increasing order. \n",
        "# Input:find 5 in [15, 16, 19, 20, 25, 1, 3, 4, 5, 7, 10, 14]\n",
        "# Output: 8 (the index of 5 in the array)\n",
        "\n",
        "# This code will run in O(log n) if all the elements are unique. \n",
        "# However, with many duplicates, the algorithm is actually O( n)\n",
        "\n",
        "def search(a, left, right, x):\n",
        "  mid = (left + right)/2\n",
        "  if x == a[mid]:\n",
        "    return mid\n",
        "  if right < left:\n",
        "    return -1\n",
        "  if a[left] < a[mid]: # left is normally ordered\n",
        "    if x >= a[left] and x < a[mid]:\n",
        "      return search(a, left, mid-1, x)\n",
        "    else:\n",
        "      return search(a, mid+1, right, x)\n",
        "  elif a[mid] < a[right]: # right is normally ordered\n",
        "    if x > a[mid] and x <= a[right]:\n",
        "      return search(a, mid+1, right, x)\n",
        "    else: \n",
        "      return search(a, left, mid-1, x)\n",
        "  elif a[mid] == a[left]:\n",
        "    if a[mid] != a[right]:\n",
        "      return search(a, mid+1, right, x)\n",
        "    else:\n",
        "      left_search = search(a, left, mid-1, x)\n",
        "      if left_search == -1:\n",
        "        return search(a, right, mid+1, x)\n",
        "      else:\n",
        "        return left_search\n",
        "  return -1\n",
        "\n",
        "print search([15, 16, 19, 20, 25, 1, 3, 4, 5, 7, 10, 14], 0, 11, 5)"
      ],
      "execution_count": 0,
      "outputs": [
        {
          "output_type": "stream",
          "text": [
            "8\n"
          ],
          "name": "stdout"
        }
      ]
    },
    {
      "cell_type": "markdown",
      "metadata": {
        "id": "YAZvrka9FvLT",
        "colab_type": "text"
      },
      "source": [
        "##Sorted search, No size"
      ]
    },
    {
      "cell_type": "code",
      "metadata": {
        "id": "S_i6xc7uXV8Z",
        "colab_type": "code",
        "colab": {}
      },
      "source": [
        "# Sorted Search, No Size: You are given an array-like data structure Listy which lacks a size\n",
        "# method. It does, however, have an elementAt (i) method that returns the element at index i in\n",
        "# 0(1) time. If i is beyond the bounds of the data structure, it returns -1. (For this reason, the data\n",
        "# structure only supports positive integers.) Given a List y which contains sorted, positive integers,\n",
        "# find the index at which an element x occurs. If x occurs multiple times, you may return any index\n",
        "def search(lst, value):\n",
        "  index = 1\n",
        "  while list.elementAt(index) != -1 and list.elementAt(index) < value:\n",
        "    index *= 2\n",
        "  return binarySearch(lst, value, index/2, index)\n",
        "\n",
        "def binarySearch(lst, value, low, high):\n",
        "  while low < high:\n",
        "    mid = (low+high)/2\n",
        "    midVal = lst.elementAt(mid)\n",
        "    if midVal > value or midVal == -1:\n",
        "      high = mid - 1\n",
        "    elif midVal < value:\n",
        "      low = mid+1\n",
        "    else:\n",
        "      return mid\n",
        "  return -1"
      ],
      "execution_count": 0,
      "outputs": []
    },
    {
      "cell_type": "markdown",
      "metadata": {
        "id": "rlBgHRyTF1T9",
        "colab_type": "text"
      },
      "source": [
        "##Sparse search"
      ]
    },
    {
      "cell_type": "code",
      "metadata": {
        "id": "uWEw3f_SZUmw",
        "colab_type": "code",
        "outputId": "9a2f73e2-b2a0-496c-f309-0de5baa55ec4",
        "colab": {
          "base_uri": "https://localhost:8080/",
          "height": 35
        }
      },
      "source": [
        "# Sparse Search: Given a sorted array of strings that is interspersed with empty strings, write a\n",
        "# method to find the location of a given string\n",
        "# Input: ball, [\"at\", \"\", \"\", \"\", \"ball\", \"\", \"\", \"car\", \"\", \"\", \"dad\", \"\", \"\"]\n",
        "# Output: 4\n",
        "def search(strings, s, first, last):\n",
        "  if first > last:\n",
        "    return -1\n",
        "  mid = (first + last)/2\n",
        "  if strings[mid] == \"\":\n",
        "    left = mid - 1\n",
        "    right = mid + 1\n",
        "    while True:\n",
        "      if left < first and right > last:\n",
        "        return -1\n",
        "      elif right <= last and strings[right] != \"\":\n",
        "        mid = right\n",
        "        break\n",
        "      elif left >= first and strings[left] != \"\":\n",
        "        mid = left\n",
        "        break\n",
        "      left -= 1\n",
        "      right += 1\n",
        "      \n",
        "  if s == strings[mid]:\n",
        "    return mid\n",
        "  elif strings[mid] < s:\n",
        "    return search(strings, s, mid+1, last)\n",
        "  else:\n",
        "    return search(strings, s, first, mid-1)\n",
        "  \n",
        "def search_sparse(strings, s):\n",
        "  if not strings or s == None or s == \"\":\n",
        "    return -1\n",
        "  return search(strings, s, 0, len(strings)-1)\n",
        "\n",
        "print search_sparse([\"at\", \"\", \"\", \"\", \"ball\", \"\", \"\", \"car\", \"\", \"\", \"dad\", \"\", \"\"], \"ball\")\n",
        "        "
      ],
      "execution_count": 0,
      "outputs": [
        {
          "output_type": "stream",
          "text": [
            "4\n"
          ],
          "name": "stdout"
        }
      ]
    },
    {
      "cell_type": "markdown",
      "metadata": {
        "id": "tDEcp7GUF6hC",
        "colab_type": "text"
      },
      "source": [
        "##External sort"
      ]
    },
    {
      "cell_type": "code",
      "metadata": {
        "id": "0rnsacuzcPQV",
        "colab_type": "code",
        "colab": {}
      },
      "source": [
        "# Sort Big File: Imagine you have a 20 GB file with one string per line. Explain how you would sort\n",
        "# the file. \n",
        "\n",
        "#  We only bring part of the data into memory\n",
        "# We'll divide the file into chunks, which are x megabytes each, where x is the amount of memory we have\n",
        "# available. Each chunk is sorted separately and then saved back to the file system\n",
        "# Once all the chunks are sorted, we merge the chunks, one by one. At the end, we have a fully sorted file.\n",
        "# This algorithm is known as external sort. "
      ],
      "execution_count": 0,
      "outputs": []
    },
    {
      "cell_type": "markdown",
      "metadata": {
        "id": "0eD5d03fF_HA",
        "colab_type": "text"
      },
      "source": [
        "##Missing Int"
      ]
    },
    {
      "cell_type": "code",
      "metadata": {
        "id": "F3JNZ_Pkck2S",
        "colab_type": "code",
        "colab": {}
      },
      "source": [
        "# Missing Int: Given an input file with four billion non-negative integers, provide an algorithm to\n",
        "# generate an integer that is not contained in the file. Assume you have 1 GB of memory available for\n",
        "# this task.\n",
        "# FOLLOW UP\n",
        "# What if you have only 1 O MB of memory? Assume that all the values are distinct and we now have\n",
        "# no more than one billion non-negative integers. "
      ],
      "execution_count": 0,
      "outputs": []
    },
    {
      "cell_type": "markdown",
      "metadata": {
        "id": "84A4OQ-IGHkw",
        "colab_type": "text"
      },
      "source": [
        "##Find dups with only 4 kilobytes of memory"
      ]
    },
    {
      "cell_type": "code",
      "metadata": {
        "id": "YfBdCyM6cwn8",
        "colab_type": "code",
        "colab": {}
      },
      "source": [
        "# Find Duplicates: You have an array with all the numbers from 1 to N, where N is at most 32,000. The\n",
        "# array may have duplicate entries and you do not know what N is. With only 4 kilobytes of memory\n",
        "# available, how would you print all duplicate elements in the array"
      ],
      "execution_count": 0,
      "outputs": []
    },
    {
      "cell_type": "markdown",
      "metadata": {
        "id": "VSla8-25GPIG",
        "colab_type": "text"
      },
      "source": [
        "##Find elt in sorted matrix"
      ]
    },
    {
      "cell_type": "code",
      "metadata": {
        "id": "yTY5kCOldCQT",
        "colab_type": "code",
        "outputId": "6bd66354-e44f-445e-bf16-2d498d311b86",
        "colab": {
          "base_uri": "https://localhost:8080/",
          "height": 53
        }
      },
      "source": [
        "# Sorted Matrix Search: Given an M x N matrix in which each row and each column is sorted in\n",
        "# ascending order, write a method to find an element. \n",
        "def findElement(mat, origin, dest, x):\n",
        "  if not origin.inbounds(mat) or not dest.inbounds(mat):\n",
        "    return None\n",
        "  if mat[origin.row][origin.column] == x:\n",
        "    return origin.row, origin.column\n",
        "  elif not origin.isBefore(dest):\n",
        "    return None\n",
        "  start = origin.clone()\n",
        "  diagDist = min(dest.row - origin.row, dest.column - origin.column)\n",
        "  end = Coordinate(start.row + diagDist, start.column + diagDist)\n",
        "  p = Coordinate(0, 0)\n",
        "  while start.isBefore(end):\n",
        "    p.setToAverage(start, end)\n",
        "    if x > mat[p.row][p.column]:\n",
        "      start.row = p.row + 1\n",
        "      start.column = p.column + 1\n",
        "    else:\n",
        "      end.row = p.row - 1\n",
        "      end.column = p.column - 1\n",
        "#   Split the grid into quadrants. Search the bottom left and the top right.\n",
        "  return partitionAndSearch(mat, origin, dest, start, x)\n",
        "\n",
        "def partitionAndSearch(mat, origin, dest, pivot, x):\n",
        "  lowerLeftOrigin = Coordinate(pivot.row, origin.column)\n",
        "  lowerLeftDest = Coordinate(dest.row, pivot.column-1)\n",
        "  upperRightOrigin = Coordinate(origin.row, pivot.column)\n",
        "  upperRightDest = Coordinate(pivot.row-1, dest.column)\n",
        "  lowerLeft = findElement(mat, lowerLeftOrigin, lowerLeftDest, x)\n",
        "  if lowerLeft == None:\n",
        "    return findElement(mat, upperRightOrigin, upperRightDest, x)\n",
        "  return lowerLeft\n",
        "\n",
        "def findElementX(mat, x):\n",
        "  origin = Coordinate(0, 0)\n",
        "  dest = Coordinate(len(mat)-1, len(mat[0])-1)\n",
        "  return findElement(mat, origin, dest, x)\n",
        "\n",
        "class Coordinate:\n",
        "  def __init__(self, r, c):\n",
        "    self.row, self.column = r, c\n",
        "  \n",
        "  def inbounds(self, mat):\n",
        "    return 0 <= self.row < len(mat) and 0 <= self.column < len(mat[0])\n",
        "  \n",
        "  def isBefore(self, p):\n",
        "    return self.row <= p.row and self.column <= p.column\n",
        "  \n",
        "  def clone(self):\n",
        "    return Coordinate(self.row, self.column)\n",
        "  \n",
        "  def setToAverage(self, min_, max_):\n",
        "    self.row = (min_.row + max_.row)/2\n",
        "    self.column = (min_.column + max_.column)/2\n",
        "    \n",
        "m = [[15,20,70,85],[25,35,80,90],[30,55,95,105],[40,80,120,120]]\n",
        "print findElementX(m, 95)\n",
        "print findElementX(m, 80)"
      ],
      "execution_count": 0,
      "outputs": [
        {
          "output_type": "stream",
          "text": [
            "(2, 2)\n",
            "(3, 1)\n"
          ],
          "name": "stdout"
        }
      ]
    },
    {
      "cell_type": "markdown",
      "metadata": {
        "id": "l6aibAe2GVDs",
        "colab_type": "text"
      },
      "source": [
        "##Rank from stream"
      ]
    },
    {
      "cell_type": "code",
      "metadata": {
        "id": "dAVnmX55iyGT",
        "colab_type": "code",
        "outputId": "b35028fa-5c43-4ace-b855-3a48dbebe8b5",
        "colab": {
          "base_uri": "https://localhost:8080/",
          "height": 71
        }
      },
      "source": [
        "# Rank from Stream: Imagine you are reading in a stream of integers. Periodically, you wish\n",
        "# to be able to look up the rank of a number x (the number of values less than or equal to x).\n",
        "# Implement the data structures and algorithms to support these operations. That is, implement\n",
        "# the method track(int x), which is called when each number is generated, and the method\n",
        "# getRankOfNumber(int x), which returns the number of values less than or equal to x (not\n",
        "# including x itself).\n",
        "# EXAMPLE\n",
        "# Stream(in order of appearance):5, 1, 4, 4, 5, 9, 7, 13, 3\n",
        "# getRankOfNumber(1) 0\n",
        "# getRankOfNumber(3) 1\n",
        "# getRankOfNumber(4) 3 \n",
        "\n",
        "def track(root, number):\n",
        "  if not root:\n",
        "    root = RankNode(number)\n",
        "  else:\n",
        "    root.insert(number)\n",
        "  return root\n",
        "    \n",
        "def getRankOfNumber(root, number):\n",
        "  return root.getRank(number)\n",
        "\n",
        "class RankNode:\n",
        "#   The track method and the getRankOfNumber method will both operate in O(log N) on a balanced\n",
        "#   tree and O(N) on an unbalanced tree\n",
        "  def __init__(self, data=0):\n",
        "    self.data, self.left_size, self.left, self.right = data, 0, None, None\n",
        "\n",
        "  def insert(self, d):\n",
        "    if d <= self.data:\n",
        "      if self.left != None:\n",
        "        self.left.insert(d)\n",
        "      else:\n",
        "        self.left = RankNode(d)\n",
        "      self.left_size += 1\n",
        "    else:\n",
        "      if self.right != None:\n",
        "        self.right.insert(d)\n",
        "      else:\n",
        "        self.right = RankNode(d)\n",
        "        \n",
        "  def getRank(self, d):\n",
        "    if d == self.data:\n",
        "      return self.left_size\n",
        "    elif d < self.data:\n",
        "      if self.left == None:\n",
        "        return -1\n",
        "      return self.left.getRank(d)\n",
        "    else:\n",
        "      rightRank = -1 if self.right == None else self.right.getRank(d) \n",
        "      if rightRank == -1:\n",
        "        return -1\n",
        "      return self.left_size + 1 + rightRank\n",
        "    \n",
        "# 5, 1, 4, 4, 5, 9, 7, 13, 3\n",
        "root = None\n",
        "root = track(root, 5)\n",
        "root = track(root, 1)\n",
        "root = track(root, 4)\n",
        "root = track(root, 4)\n",
        "root = track(root, 5)\n",
        "root = track(root, 9)\n",
        "root = track(root, 7)\n",
        "root = track(root, 13)\n",
        "root = track(root, 3)\n",
        "print getRankOfNumber(root, 1)\n",
        "print getRankOfNumber(root, 3)\n",
        "print getRankOfNumber(root, 4)"
      ],
      "execution_count": 0,
      "outputs": [
        {
          "output_type": "stream",
          "text": [
            "0\n",
            "1\n",
            "3\n"
          ],
          "name": "stdout"
        }
      ]
    },
    {
      "cell_type": "markdown",
      "metadata": {
        "id": "uOAQy1UbGaPn",
        "colab_type": "text"
      },
      "source": [
        "##Arrange in peaks and valleys"
      ]
    },
    {
      "cell_type": "code",
      "metadata": {
        "id": "kLxSQXQ3jIFd",
        "colab_type": "code",
        "outputId": "dc488261-0968-40a9-8104-1fb753c491e0",
        "colab": {
          "base_uri": "https://localhost:8080/",
          "height": 35
        }
      },
      "source": [
        "# Peaks and Valleys: In an array of integers, a \"peak\" is an element which is greater than or equal\n",
        "# to the adjacent integers and a \"valley\" is an element which is less than or equal to the adjacent\n",
        "# integers. For example, in the array {5, 8, 6, 2, 3, 4, 6}, {8, 6} are peaks and {5, 2} are valleys. Given an\n",
        "# array of integers, sort the array into an alternating sequence of peaks and valleys.\n",
        "# EXAMPLE\n",
        "# Input: [5, 3, 1, 2, 3]\n",
        "# Output: [5, 1, 3, 2, 3]\n",
        "import sys\n",
        "def sortValleyPeak(arr):\n",
        "  for i in range(0,len(arr),2):\n",
        "    biggestindex = maxindex(arr, i-1, i, i+1)\n",
        "    if i != biggestindex:\n",
        "      arr[i], arr[biggestindex] = arr[biggestindex], arr[i]\n",
        "  return arr\n",
        "\n",
        "def maxindex(arr, a, b, c):\n",
        "  n = len(arr)\n",
        "  aValue = arr[a] if 0 <= a < n else -sys.maxint \n",
        "  bValue = arr[b] if 0 <= b < n else -sys.maxint\n",
        "  cValue = arr[c] if 0 <= c < n else -sys.maxint\n",
        "  \n",
        "  max_ = max(aValue, max(bValue, cValue))\n",
        "  if aValue == max_:\n",
        "    return a\n",
        "  elif bValue == max_:\n",
        "    return b\n",
        "  else:\n",
        "    return c\n",
        "  \n",
        "print sortValleyPeak([5, 3, 1, 2, 3])"
      ],
      "execution_count": 0,
      "outputs": [
        {
          "output_type": "stream",
          "text": [
            "[5, 1, 3, 2, 3]\n"
          ],
          "name": "stdout"
        }
      ]
    },
    {
      "cell_type": "markdown",
      "metadata": {
        "id": "xcCR9K7ZpQA2",
        "colab_type": "text"
      },
      "source": [
        "#Recursion and Dynamic Programming"
      ]
    },
    {
      "cell_type": "markdown",
      "metadata": {
        "id": "uA5Z52qaEB3J",
        "colab_type": "text"
      },
      "source": [
        "##Triple step"
      ]
    },
    {
      "cell_type": "code",
      "metadata": {
        "id": "OSDsUq3jpOoC",
        "colab_type": "code",
        "outputId": "bfcced0b-d4be-4934-f686-cb995c76b27e",
        "colab": {
          "base_uri": "https://localhost:8080/",
          "height": 53
        }
      },
      "source": [
        "# Triple Step: A child is running up a staircase with n steps and can hop either 1 step, 2 steps, or 3\n",
        "# steps at a time. Implement a method to count how many possible ways the child can run up the\n",
        "# stairs\n",
        "def countWays(n):\n",
        "  memo = [-1]*(n+1)\n",
        "  return countWaysHelper(n, memo)\n",
        "\n",
        "# Regardless of whether or not you use memoization, note that the number of ways will quickly overflow the\n",
        "# bounds of an integer. By the time you get to just n 37, the result has already overflowed\n",
        "# Using special classes like BigInteger might help\n",
        "def countWaysHelper(n, memo):\n",
        "  if n < 0:\n",
        "    return 0\n",
        "  elif n == 0:\n",
        "    return 1\n",
        "  elif memo[n] > -1:\n",
        "    return memo[n]\n",
        "  else:\n",
        "    memo[n] = countWaysHelper(n-1, memo) + countWaysHelper(n-2, memo) + countWaysHelper(n-3, memo)\n",
        "    return memo[n]\n",
        "  \n",
        "print countWays(4)\n",
        "print countWays(37)"
      ],
      "execution_count": 0,
      "outputs": [
        {
          "output_type": "stream",
          "text": [
            "7\n",
            "3831006429\n"
          ],
          "name": "stdout"
        }
      ]
    },
    {
      "cell_type": "markdown",
      "metadata": {
        "id": "E8Oak13aEGpV",
        "colab_type": "text"
      },
      "source": [
        "##Robot in a Grid"
      ]
    },
    {
      "cell_type": "code",
      "metadata": {
        "id": "gOnvNK1_qrlo",
        "colab_type": "code",
        "colab": {}
      },
      "source": [
        "# Robot in a Grid: Imagine a robot sitting on the upper left corner of grid with r rows and c columns.\n",
        "# The robot can only move in two directions, right and down, but certain cells are \"off limits\" such that\n",
        "# the robot cannot step on them. Design an algorithm to find a path for the robot from the top left to\n",
        "# the bottom right.\n",
        "# The algorithm will now take O(XY) time\n",
        "def getPath(maze):\n",
        "  if maze == None or len(maze) == 0:\n",
        "    return None\n",
        "  path, failedPoints = [], {}\n",
        "  if getPathHelper(maze, len(maze)-1, len(maze[0])-1, path, failedPoints):\n",
        "    return path\n",
        "  return None\n",
        "\n",
        "def getPathHelper(maze, row, col, path, failedPoints):\n",
        "  if col < 0 or row < 0 or not maze[row][col]:\n",
        "    return False\n",
        "  p = Point(row, col)\n",
        "  if p in failedPoints:\n",
        "    return False\n",
        "  isAtOrigin = (row == 0) and (col == 0)\n",
        "  if isAtOrigin or getPathHelper(maze, row, col-1, path, failedPoints) or\n",
        "      getPathHelper(maze, row-1, col, path, failedPoints):\n",
        "    path.append(p)\n",
        "    return True\n",
        "  failedPoints.append(p)\n",
        "  return False\n",
        "\n",
        "print getPath()"
      ],
      "execution_count": 0,
      "outputs": []
    },
    {
      "cell_type": "code",
      "metadata": {
        "id": "itf63hxmgYSF",
        "colab_type": "code",
        "outputId": "a4097106-9a0b-42c5-9ff8-2161603319bc",
        "colab": {
          "base_uri": "https://localhost:8080/",
          "height": 35
        }
      },
      "source": [
        "# Magic Index: A magic index in an array A[ 1 ... n-1] is defined to be an index such that A[i] = i\n",
        "# Given a sorted array of distinct integers, write a method to find a magic index, if one exists, in\n",
        "# array A.\n",
        "# FOLLOW UP\n",
        "# What if the values are not distinct? \n",
        "def magicFast(arr):\n",
        "  return magicFastHelper(arr, 0, len(arr)-1)\n",
        "\n",
        "def magicFastHelper(arr, start, end):\n",
        "  if end < start:\n",
        "    return -1\n",
        "  midIndex = (start + end)/2\n",
        "  midValue = arr[midIndex]\n",
        "  if midValue == midIndex:\n",
        "    return midIndex\n",
        "#   Search left\n",
        "  leftIndex = min(midIndex-1, midValue)\n",
        "  left = magicFastHelper(arr, start, leftIndex)\n",
        "  if left >= 0:\n",
        "    return left\n",
        "  rightIndex = max(midIndex+1, midValue)\n",
        "  right = magicFastHelper(arr, rightIndex, end)\n",
        "  return right\n",
        "\n",
        "print magicFast([-10,-5,2,2,2,3,4,7,9])"
      ],
      "execution_count": 0,
      "outputs": [
        {
          "output_type": "stream",
          "text": [
            "2\n"
          ],
          "name": "stdout"
        }
      ]
    },
    {
      "cell_type": "markdown",
      "metadata": {
        "id": "hjoj1ItbEPyD",
        "colab_type": "text"
      },
      "source": [
        "##Power set"
      ]
    },
    {
      "cell_type": "code",
      "metadata": {
        "id": "NnAwaACljiwZ",
        "colab_type": "code",
        "outputId": "29f8ac49-57fb-4965-ee1a-8be1a2748855",
        "colab": {
          "base_uri": "https://localhost:8080/",
          "height": 35
        }
      },
      "source": [
        "# Power Set: Write a method to return all subsets of a set. \n",
        "def getSubsets(st):\n",
        "  allsubsets = []\n",
        "  max_ = 1 << len(st)\n",
        "  for k in range(max_):\n",
        "    subset = convertintToSet(k, st)\n",
        "    allsubsets.append(subset)\n",
        "  return allsubsets\n",
        "\n",
        "def convertintToSet(x, st):\n",
        "  subset, index, k = [], 0, x \n",
        "  while k < 0:\n",
        "    if (k & 1) == 1:\n",
        "      subset.append(st[index])\n",
        "    index += 1\n",
        "    k >>= 1\n",
        "  return subset\n",
        "\n",
        "print getSubsets([1,2,3])\n",
        "  "
      ],
      "execution_count": 0,
      "outputs": [
        {
          "output_type": "stream",
          "text": [
            "[[], [], [], [], [], [], [], []]\n"
          ],
          "name": "stdout"
        }
      ]
    },
    {
      "cell_type": "markdown",
      "metadata": {
        "id": "t2jmc8YKEW_k",
        "colab_type": "text"
      },
      "source": [
        "##Recursive multiply"
      ]
    },
    {
      "cell_type": "code",
      "metadata": {
        "id": "sBR4uF0vmTFA",
        "colab_type": "code",
        "outputId": "715cbeeb-8f08-4318-dd17-4d90f8dbfa22",
        "colab": {
          "base_uri": "https://localhost:8080/",
          "height": 35
        }
      },
      "source": [
        "# Recursive Multiply: Write a recursive function to multiply two positive integers without using\n",
        "# the * operator (or / operator). You can use addition, subtraction, and bit shifting, but you should\n",
        "# minimize the number of those operations.\n",
        "# Time: O(log (smaller))\n",
        "def minProduct(a, b):\n",
        "  bigger = b if a < b else a\n",
        "  smaller = a if b == bigger else b\n",
        "  return minProductHelper(smaller, bigger)\n",
        "\n",
        "def minProductHelper(smaller, bigger):\n",
        "  if smaller == 0:\n",
        "    return 0\n",
        "  elif smaller == 1:\n",
        "    return bigger\n",
        "  s = smaller >> 1\n",
        "  halfProd = minProductHelper(s, bigger)\n",
        "  if smaller % 2 == 0:\n",
        "    return halfProd + halfProd\n",
        "  else:\n",
        "    return halfProd + halfProd + bigger\n",
        "  \n",
        "print minProduct(3, 6)"
      ],
      "execution_count": 0,
      "outputs": [
        {
          "output_type": "stream",
          "text": [
            "18\n"
          ],
          "name": "stdout"
        }
      ]
    },
    {
      "cell_type": "markdown",
      "metadata": {
        "id": "08kYeGOGEchc",
        "colab_type": "text"
      },
      "source": [
        "##Towers of Hanoi"
      ]
    },
    {
      "cell_type": "code",
      "metadata": {
        "id": "m-G2ty4Cn9BS",
        "colab_type": "code",
        "outputId": "6e372e83-5c33-4ee8-f798-811945a2a890",
        "colab": {
          "base_uri": "https://localhost:8080/",
          "height": 53
        }
      },
      "source": [
        "# Towers of Hanoi: In the classic problem of the Towers of Hanoi, you have 3 towers and N disks of\n",
        "# different sizes which can slide onto any tower. The puzzle starts with disks sorted in ascending order\n",
        "# of size from top to bottom (i.e., each disk sits on top of an even larger one). You have the following\n",
        "# constraints:\n",
        "# (1) Only one disk can be moved at a time.\n",
        "# (2) A disk is slid off the top of one tower onto another tower.\n",
        "# (3) A disk cannot be placed on top of a smaller disk.\n",
        "# Write a program to move the disks from the first tower to the last using Stacks. \n",
        "\n",
        "class Tower:\n",
        "  def __init__(self, i):\n",
        "    self.disks, self.index = [], i \n",
        "    \n",
        "  def index(self):\n",
        "    return self.index\n",
        "  \n",
        "  def add(self, d):\n",
        "    if self.disks != [] and self.disks[-1] <= d:\n",
        "      return 'Error placing disk ', d\n",
        "    else:\n",
        "      self.disks.append(d)\n",
        "\n",
        "  def moveTopTo(self, t):\n",
        "    top = self.disks.pop()\n",
        "    t.add(top) \n",
        "  \n",
        "  def moveDisks(self, n, destination, buffer):\n",
        "    if n > 0: \n",
        "      self.moveDisks(n-1, buffer, destination)\n",
        "      self.moveTopTo(destination)\n",
        "      buffer.moveDisks(n-1, destination, self) \n",
        "    \n",
        "n, towers = 3, []\n",
        "for i in range(3):\n",
        "  towers.append(Tower(i))\n",
        "  \n",
        "for i in range(n-1, -1, -1):\n",
        "  towers[0].add(i)\n",
        "  \n",
        "print 'Before: Origin {} Buffer {} Destination {}'.format(towers[0].disks, towers[1].disks, towers[2].disks)   \n",
        "towers[0].moveDisks(n, towers[2], towers[1])\n",
        "print 'After: Origin {} Buffer {} Destination {}'.format(towers[0].disks, towers[1].disks, towers[2].disks) "
      ],
      "execution_count": 0,
      "outputs": [
        {
          "output_type": "stream",
          "text": [
            "Before: Origin [2, 1, 0] Buffer [] Destination []\n",
            "After: Origin [] Buffer [] Destination [2, 1, 0]\n"
          ],
          "name": "stdout"
        }
      ]
    },
    {
      "cell_type": "markdown",
      "metadata": {
        "id": "2_wVhzoIEhbd",
        "colab_type": "text"
      },
      "source": [
        "##Permutation without Dups"
      ]
    },
    {
      "cell_type": "code",
      "metadata": {
        "id": "KGX6pV9CvlZr",
        "colab_type": "code",
        "outputId": "18d11f2f-f738-4711-d89c-8e9125d22bd2",
        "colab": {
          "base_uri": "https://localhost:8080/",
          "height": 35
        }
      },
      "source": [
        "# Permutations without Dups: Write a method to compute all permutations of a string of unique characters\n",
        "def getPerms(remainder):\n",
        "  n, result = len(remainder), []\n",
        "  if n == 0:\n",
        "    result.append('')\n",
        "    return result\n",
        "  for i in range(n):\n",
        "    before, after = remainder[:i], remainder[i+1:]\n",
        "    partials = getPerms(before+after)\n",
        "    for s in partials:\n",
        "      result.append(remainder[i]+s)\n",
        "  return result\n",
        "\n",
        "print getPerms('abc')\n",
        "  "
      ],
      "execution_count": 0,
      "outputs": [
        {
          "output_type": "stream",
          "text": [
            "['abc', 'acb', 'bac', 'bca', 'cab', 'cba']\n"
          ],
          "name": "stdout"
        }
      ]
    },
    {
      "cell_type": "markdown",
      "metadata": {
        "id": "tNbACGWiEln6",
        "colab_type": "text"
      },
      "source": [
        "##Permutation with Dups"
      ]
    },
    {
      "cell_type": "code",
      "metadata": {
        "id": "HjHcMqfzxcCn",
        "colab_type": "code",
        "outputId": "9f67f29f-3898-4944-96e4-1b15dcd3cfc7",
        "colab": {
          "base_uri": "https://localhost:8080/",
          "height": 35
        }
      },
      "source": [
        "# Permutations with Duplicates: Write a method to compute all permutations of a string whose\n",
        "# characters are not necessarily unique. The list of permutations should not have duplicates\n",
        "# Permutations without Dups: Write a method to compute all permutations of a string of unique characters\n",
        "# In situations where the string has many duplicates, \n",
        "# this algorithm will run a lot faster than the earlier algorithm\n",
        "from collections import defaultdict\n",
        "\n",
        "def getPermsWithDups(s):\n",
        "  map_ = buildFreqTable(s)\n",
        "  return getPermsHelper(map_, '', len(s), [])\n",
        "\n",
        "def buildFreqTable(s):\n",
        "  map_ = defaultdict(int)\n",
        "  for ch in s:\n",
        "    map_[ch] += 1\n",
        "  return map_\n",
        "      \n",
        "def getPermsHelper(map_, prefix, remaining, result):\n",
        "  if remaining == 0:\n",
        "    result.append(prefix)\n",
        "    return result\n",
        "  for ch in map_.keys():\n",
        "    count = map_[ch]\n",
        "    if count > 0:\n",
        "      map_[ch] -= 1\n",
        "      result = getPermsHelper(map_, prefix+ch, remaining-1, result)\n",
        "      map_[ch] += 1\n",
        "  return result \n",
        "\n",
        "print getPermsWithDups('aabc') "
      ],
      "execution_count": 0,
      "outputs": [
        {
          "output_type": "stream",
          "text": [
            "['aacb', 'aabc', 'acab', 'acba', 'abac', 'abca', 'caab', 'caba', 'cbaa', 'baac', 'baca', 'bcaa']\n"
          ],
          "name": "stdout"
        }
      ]
    },
    {
      "cell_type": "markdown",
      "metadata": {
        "id": "TtNvK8ijEq4O",
        "colab_type": "text"
      },
      "source": [
        "##Parens"
      ]
    },
    {
      "cell_type": "code",
      "metadata": {
        "id": "ANmhB0Lm0a0x",
        "colab_type": "code",
        "outputId": "097c2261-0220-444d-940d-9a5441f1d177",
        "colab": {
          "base_uri": "https://localhost:8080/",
          "height": 71
        }
      },
      "source": [
        "# Parens: Implement an algorithm to print all valid (i.e., properly opened and closed) combinations\n",
        "# of n pairs of parentheses.\n",
        "# EXAMPLE\n",
        "# Input: 3\n",
        "# Output: (( () ) ) , ( () () ) , ( () ) () , () ( () ) , () () ()\n",
        "def generateParens(count):\n",
        "  s = ''\n",
        "  lst = []\n",
        "  return addParen(lst, count, count, s, 0)\n",
        "\n",
        "def addParen(lst, leftRem, rightRem, s, index):\n",
        "  if leftRem < 0 or rightRem < leftRem:\n",
        "    return lst\n",
        "  if leftRem == 0 and rightRem == 0:\n",
        "    lst.append(s)\n",
        "  else:\n",
        "    ss = s + '('\n",
        "    lst = addParen(lst, leftRem-1, rightRem, ss, index+1)\n",
        "    ss = s + ')'\n",
        "    lst = addParen(lst, leftRem, rightRem-1, ss, index+1)\n",
        "  return lst\n",
        "\n",
        "print generateParens(1)\n",
        "print generateParens(2)\n",
        "print generateParens(3)\n"
      ],
      "execution_count": 0,
      "outputs": [
        {
          "output_type": "stream",
          "text": [
            "['()']\n",
            "['(())', '()()']\n",
            "['((()))', '(()())', '(())()', '()(())', '()()()']\n"
          ],
          "name": "stdout"
        }
      ]
    },
    {
      "cell_type": "markdown",
      "metadata": {
        "id": "vT4y92aBEy48",
        "colab_type": "text"
      },
      "source": [
        "##Paint Fill"
      ]
    },
    {
      "cell_type": "code",
      "metadata": {
        "id": "clLbjyzqzf71",
        "colab_type": "code",
        "colab": {}
      },
      "source": [
        "# Paint Fill: Implement the\"paint fill\"function that one might see on many image editing programs.\n",
        "# That is, given a screen (represented by a two-dimensional array of colors), a point, and a new color,\n",
        "# fill in the surrounding area until the color changes from the original color\n",
        "def PaintFill(screen, r, c, ncolor):\n",
        "  if screen[r][c] == ncolor:\n",
        "    return False\n",
        "  return PaintFillHelper(screen, r, c, screen[r][c], ncolor)\n",
        "\n",
        "def PaintFillHelper(screen, r, c, ocolor, ncolor):\n",
        "  if 0 > r >= len(screen) or 0 > c >= len(screen[0]):\n",
        "    return False\n",
        "  if screen[r][c] == ocolor:\n",
        "    screen[r][c] = ncolor\n",
        "    for dr in [-1,0,1]:\n",
        "      for dc in [-1,0,1]:\n",
        "        PaintFillHelper(screen, r+dr, c+dc, ocolor, ncolor)\n",
        "  return True"
      ],
      "execution_count": 0,
      "outputs": []
    },
    {
      "cell_type": "markdown",
      "metadata": {
        "id": "c4htyqfRE3Lk",
        "colab_type": "text"
      },
      "source": [
        "##MakeChange with coins"
      ]
    },
    {
      "cell_type": "code",
      "metadata": {
        "id": "Ear67wD06NF7",
        "colab_type": "code",
        "outputId": "54b35a15-9e49-42b4-bfe9-76da87a4612b",
        "colab": {
          "base_uri": "https://localhost:8080/",
          "height": 35
        }
      },
      "source": [
        "# Coins: Given an infinite number of quarters (25 cents), dimes (1O cents), nickels(5 cents), and\n",
        "# pennies (1 cent), write code to calculate the number of ways of representing n cents. \n",
        "def makeChange(n):\n",
        "  denoms = [2, 4]\n",
        "  map_ = [[0] * len(denoms)]*(n+1)\n",
        "  return makeChangeHelper(n, denoms, 0, map_)\n",
        "\n",
        "def makeChangeHelper(amt, denoms, idx, map_):\n",
        "  if map_[amt][idx] > 0:\n",
        "    return map_[amt][idx]\n",
        "  if idx >= len(denoms)-1:\n",
        "    return 1\n",
        "  denomAmount = denoms[idx]\n",
        "  ways = 0\n",
        "  for i in range(amt):\n",
        "    if i*denomAmount > amt:\n",
        "      break\n",
        "    amtRemaining = amt - i *denomAmount\n",
        "    ways += makeChangeHelper(amtRemaining, denoms, idx+1, map_)\n",
        "  map_[amt][idx] = ways\n",
        "  return ways\n",
        "\n",
        "print makeChange(6)"
      ],
      "execution_count": 0,
      "outputs": [
        {
          "output_type": "stream",
          "text": [
            "4\n"
          ],
          "name": "stdout"
        }
      ]
    },
    {
      "cell_type": "code",
      "metadata": {
        "id": "5YgGZtXF3FcX",
        "colab_type": "code",
        "outputId": "ee82c1cc-0fe2-4e86-9584-6173a41fdb8b",
        "colab": {
          "base_uri": "https://localhost:8080/",
          "height": 35
        }
      },
      "source": [
        "def count(S, m, n ): \n",
        "  \n",
        "    # If n is 0 then there is 1 \n",
        "    # solution (do not include any coin) \n",
        "    if (n == 0): \n",
        "        return 1\n",
        "  \n",
        "    # If n is less than 0 then no \n",
        "    # solution exists \n",
        "    if (n < 0): \n",
        "        return 0; \n",
        "  \n",
        "    # If there are no coins and n \n",
        "    # is greater than 0, then no \n",
        "    # solution exist \n",
        "    if (m <=0 and n >= 1): \n",
        "        return 0\n",
        "  \n",
        "    # count is sum of solutions (i)  \n",
        "    # including S[m-1] (ii) excluding S[m-1] \n",
        "    return count( S, m - 1, n ) + count( S, m, n-S[m-1] ); \n",
        "  \n",
        "# Driver program to test above function \n",
        "arr = [2, 4] \n",
        "m = len(arr) \n",
        "print(count(arr, m, 6))"
      ],
      "execution_count": 0,
      "outputs": [
        {
          "output_type": "stream",
          "text": [
            "2\n"
          ],
          "name": "stdout"
        }
      ]
    },
    {
      "cell_type": "markdown",
      "metadata": {
        "id": "beVep2tBE-37",
        "colab_type": "text"
      },
      "source": [
        "##Eight Queens"
      ]
    },
    {
      "cell_type": "code",
      "metadata": {
        "id": "xj8IdqkOARLS",
        "colab_type": "code",
        "outputId": "2f4b8404-4614-445e-fb86-3690a899bc97",
        "colab": {
          "base_uri": "https://localhost:8080/",
          "height": 35
        }
      },
      "source": [
        "# Eight Queens: Write an algorithm to print all ways of arranging eight queens on an 8x8 chess board\n",
        "# so that none of them share the same row, column, or diagonal. In this case, \"diagonal\" means all\n",
        "# diagonals, not just the two that bisect the board\n",
        "GRID_SIZE = 8\n",
        "def placeQueens(row, columns, results):\n",
        "  if row == GRID_SIZE:\n",
        "    results.append(columns)\n",
        "    return results\n",
        "  else:\n",
        "    for i in range(GRID_SIZE):\n",
        "      if checkValid(columns, row, col):\n",
        "        columns[row] = col\n",
        "        results = placeQueens(row+1, columns, results)\n",
        "  return results\n",
        "\n",
        "def checkValid(columns, row1, column1):\n",
        "  for row2 in range(row1):\n",
        "    column2 = column[row2]\n",
        "    if column1 == column2:\n",
        "      return False\n",
        "    columnDistance = abs(column2 - column1)\n",
        "    rowDistance = row1 - row2\n",
        "    if columnDistance == rowDistance:\n",
        "      return False\n",
        "  return True\n",
        "\n",
        "print placeQueens(8, 8, [])"
      ],
      "execution_count": 0,
      "outputs": [
        {
          "output_type": "stream",
          "text": [
            "[8]\n"
          ],
          "name": "stdout"
        }
      ]
    },
    {
      "cell_type": "markdown",
      "metadata": {
        "id": "zUIVdTQSFFVw",
        "colab_type": "text"
      },
      "source": [
        "##Stack of boxes"
      ]
    },
    {
      "cell_type": "code",
      "metadata": {
        "id": "zYwWPwpDAcEr",
        "colab_type": "code",
        "colab": {}
      },
      "source": [
        "# Stack of Boxes: You have a stack of n boxes, with widths wi, heights hi and depths di. The boxes\n",
        "# cannot be rotated and can only be stacked on top of one another if each box in the stack is strictly\n",
        "# larger than the box above it in width, height, and depth. Implement a method to compute the\n",
        "# height of the tallest possible stack. The height of a stack is the sum of the heights of each box.\n",
        "def createStack(boxes):\n",
        "  boxes.sort(key = lambda x: -x[1])\n",
        "  stackMap = []\n",
        "  return createStackHelper(boxes, None, 0, stackMap)\n",
        "\n",
        "def createStackHelper(boxes, bottom, offset, stackMap):\n",
        "  if offset >= len(boxes):\n",
        "    return 0\n",
        "  newBottom = boxes[offset]\n",
        "  heightWithBottom = 0\n",
        "  if bottom == None or canBeAbove(newBottom, bottom):\n",
        "    if stackMap[offset] == 0:\n",
        "      stackMap[offset] = createStackHelper(boxes, newBottom, offset+1, stackMap)\n",
        "      stackMap[offset] += newBottom[1]\n",
        "    heightWithBottom = stackMap[offset]\n",
        "    heightWithoutBottom = createStackHelper(boxes, bottom, offset+1, stackMap)\n",
        "  return max(heightWithBottom, heightWithoutBottom)\n",
        "\n",
        "def canBeAbove(b1, b2):\n",
        "  return b1[0] < b2[0] and b1[1] < b2[1]\n"
      ],
      "execution_count": 0,
      "outputs": []
    },
    {
      "cell_type": "code",
      "metadata": {
        "id": "0mpMiza-eTWX",
        "colab_type": "code",
        "colab": {}
      },
      "source": [
        "def createStack2(boxes):\n",
        "  boxes.sort(key = lambda x: -x[1])\n",
        "  maxHeight = 0\n",
        "  for i in range(len(boxes)):\n",
        "    height = createStack2Helper(boxes, i)\n",
        "    maxHeight = max(maxHeight, height)\n",
        "  return maxHeight\n",
        "\n",
        "def createStack2Helper(boxes, bottomIndex):\n",
        "  bottom = boxes[bottomIndex]\n",
        "  maxHeight = 0\n",
        "  for i in range(bottomIndex+1, len(boxes)):\n",
        "    if canBeAbove(boxes[i], bottom):\n",
        "      height = createStack2Helper(boxes, i)\n",
        "      maxHeight = max(maxHeight, height)\n",
        "  maxHeight += bottom[1]\n",
        "  return maxHeight\n"
      ],
      "execution_count": 0,
      "outputs": []
    },
    {
      "cell_type": "markdown",
      "metadata": {
        "id": "Is3K8r5MFKgn",
        "colab_type": "text"
      },
      "source": [
        "##Counts number of ways to parenthesize operation to get result(True/False) "
      ]
    },
    {
      "cell_type": "code",
      "metadata": {
        "id": "I7EnMfJY0LEp",
        "colab_type": "code",
        "outputId": "99af48d8-bc90-4b8b-dd45-e3c545e27ba8",
        "colab": {
          "base_uri": "https://localhost:8080/",
          "height": 53
        }
      },
      "source": [
        "# Boolean Evaluation: Given a boolean expression consisting of the symbols 0 (false), 1 (true), &\n",
        "# (AND), | (OR), and ^ (XOR), and a desired boolean result value result, implement a function to\n",
        "# count the number of ways of parenthesizing the expression such that it evaluates to result. The\n",
        "# expression should be fully parenthesized (e.g., (0)^(1)) but not extraneously (e.g., (((0))^(1))).\n",
        "# EXAMPLE\n",
        "# countEval(\"1^0|0|1\", false) -> 2\n",
        "# countEval(\"0&0&0&1^1|0\", true)-> 10\n",
        "def countEval(s, result, memo):\n",
        "  if len(s) == 0:\n",
        "    return 0\n",
        "  if len(s) == 1:\n",
        "    return 1 if stringToBool(s) == result else 0\n",
        "  if (str(result)+s) in memo:\n",
        "    return memo[str(result)+s]\n",
        "  ways = 0\n",
        "  for i in range(1, len(s), 2):\n",
        "    ch = s[i] \n",
        "    left, right = s[:i], s[i+1:]\n",
        "    leftTrue, rightTrue = countEval(left, True, memo), countEval(right, True, memo)\n",
        "    leftFalse, rightFalse = countEval(left, False, memo), countEval(right, False, memo)\n",
        "    total = (leftTrue + leftFalse) * (rightTrue + rightFalse)\n",
        "    totalTrue = 0\n",
        "    if ch == '^':\n",
        "      totalTrue = leftTrue * rightFalse + leftFalse * rightTrue\n",
        "    elif ch == '&':\n",
        "      totalTrue = leftTrue * rightTrue\n",
        "    elif ch == '|':\n",
        "      totalTrue = leftTrue*rightTrue + leftTrue*rightFalse + leftFalse*rightTrue\n",
        "      \n",
        "    subWays = totalTrue if result==True else total - totalTrue\n",
        "    ways += subWays\n",
        "  memo[str(result)+s] = ways\n",
        "  return ways\n",
        "\n",
        "def stringToBool(c):\n",
        "  return True if c == '1' else False\n",
        "\n",
        "print countEval(\"1^0|0|1\", False, {})\n",
        "print countEval('0&0&0&1^1|0', True, {})"
      ],
      "execution_count": 0,
      "outputs": [
        {
          "output_type": "stream",
          "text": [
            "2\n",
            "10\n"
          ],
          "name": "stdout"
        }
      ]
    },
    {
      "cell_type": "markdown",
      "metadata": {
        "id": "Y71tJ2evqGAd",
        "colab_type": "text"
      },
      "source": [
        "#Math and Logic Puzzles"
      ]
    },
    {
      "cell_type": "code",
      "metadata": {
        "id": "QnRL2ogCiePv",
        "colab_type": "code",
        "colab": {}
      },
      "source": [
        "# The Heavy Pill: You have 20 bottles of pills. 19 bottles have 1.0 gram pills, but one has pills of weight\n",
        "# 1.1 grams. Given a scale that provides an exact measurement, how would you find the heavy bottle?\n",
        "# You can only use the scale once. \n",
        "\n",
        "# We can generalize this to the full solution: take one pill from Bottle #1, two pills from Bottle #2, three pills\n",
        "# from Bottle #3, and so on. Weigh this mix of pills. If all pills were one gram each, the scale would read 210\n",
        "# grams (1 + 2 + • • • + 20 = 20 * 21 / 2 = 210). Any \"overage\" must come from the extra 0.1\n",
        "# gram pills.\n",
        "# This formula will tell you the bottle number: (weight - 210) / 0.1\n",
        "# So, if the set of pills weighed 211.3 grams, then Bottle #13 would have the heavy pills. "
      ],
      "execution_count": 0,
      "outputs": []
    },
    {
      "cell_type": "code",
      "metadata": {
        "id": "1q1EwuEPqtgB",
        "colab_type": "code",
        "colab": {}
      },
      "source": [
        "# Basketball: You have a basketball hoop and someone says that you can play one of two games.\n",
        "# Game 1: You get one shot to make the hoop.\n",
        "# Game 2: You get three shots and you have to make two of three shots.\n",
        "# If p is the probability of making a particular shot, for which values of p should you pick one game\n",
        "# or the other?"
      ],
      "execution_count": 0,
      "outputs": []
    },
    {
      "cell_type": "code",
      "metadata": {
        "id": "2hTh3Itdq59-",
        "colab_type": "code",
        "colab": {}
      },
      "source": [
        "# Dominos: There is an 8x8 chessboard in which two diagonally opposite corners have been cut off.\n",
        "# You are given 31 dominos, and a single domino can cover exactly two squares. Can you use the 31\n",
        "# dominos to cover the entire board? Prove your answer (by providing an example or showing why\n",
        "# it's impossible)"
      ],
      "execution_count": 0,
      "outputs": []
    },
    {
      "cell_type": "code",
      "metadata": {
        "id": "ejvV-GwPq-Xk",
        "colab_type": "code",
        "colab": {}
      },
      "source": [
        "# Ants on a Triangle: There are three ants on different vertices of a triangle. What is the probability of\n",
        "# collision (between any two or all of them) if they start walking on the sides of the triangle? Assume\n",
        "# that each ant randomly picks a direction, with either direction being equally likely to be chosen, and\n",
        "# that they walk at the same speed.\n",
        "# Similarly, find the probability of collision with n ants on an n-vertex polygon. \n",
        "\n",
        "# The ants will collide if any of them are moving towards each other. So, the only way that they won't collide\n",
        "# is if they are all moving in the same direction (clockwise or counterclockwise). We can compute this probability and work backwards from there.\n",
        "# Since each ant can move in two directions, and there are three ants, the probability is: \n",
        "# P (clockwise)= (1/2)^3 = P (counter clockwise)\n",
        "# P (same direction) = P (clockwise) + P (counter clockwise) = 1/4\n",
        "# The probability of collision is therefore the probability of the ants not moving in the same direction: \n",
        "# P (collision)= 1-P (same direction) = 3/4"
      ],
      "execution_count": 0,
      "outputs": []
    },
    {
      "cell_type": "code",
      "metadata": {
        "id": "v5mbrqS7rnA-",
        "colab_type": "code",
        "colab": {}
      },
      "source": [
        "# Jugs of Water: You have a five-quart jug, a three-quart jug, and an unlimited supply of water (but\n",
        "# no measuring cups). How would you come up with exactly four quarts of water? Note that the jugs\n",
        "# are oddly shaped, such that filling up exactly \"half\" of the jug would be impossible. "
      ],
      "execution_count": 0,
      "outputs": []
    },
    {
      "cell_type": "code",
      "metadata": {
        "id": "PLtiyRoLrqy2",
        "colab_type": "code",
        "colab": {}
      },
      "source": [
        "# Blue-Eyed Island: A bunch of people are living on an island, when a visitor comes with a strange\n",
        "# order: all blue-eyed people must leave the island as soon as possible. There will be a flight out at\n",
        "# 8:00pm every evening. Each person can see everyone else's eye color, but they do not know their\n",
        "# own (nor is anyone allowed to tell them). Additionally, they do not know how many people have\n",
        "# blue eyes, although they do know that at least one person does. How many days will it take the\n",
        "# blue-eyed people to leave? "
      ],
      "execution_count": 0,
      "outputs": []
    },
    {
      "cell_type": "code",
      "metadata": {
        "id": "ReklMuadrvYg",
        "colab_type": "code",
        "colab": {}
      },
      "source": [
        "# The Apocalypse: In the new post-apocalyptic world, the world queen is desperately concerned\n",
        "# about the birth rate. Therefore, she decrees that all families should ensure that they have one girl or\n",
        "# else they face massive fines. If all families abide by this policy-that is, they have continue to have\n",
        "# children until they have one girl, at which point they immediately stop-what will the gender ratio\n",
        "# of the new generation be? (Assume that the odds of someone having a boy or a girl on any given\n",
        "# pregnancy is equal.) Solve this out logically and then write a computer simulation of it. "
      ],
      "execution_count": 0,
      "outputs": []
    },
    {
      "cell_type": "code",
      "metadata": {
        "id": "Zt3zDw5Lr1P3",
        "colab_type": "code",
        "colab": {}
      },
      "source": [
        "# The Egg Drop Problem: There is a building of 100 floors. If an egg drops from the Nth floor or\n",
        "# above, it will break. If it's dropped from any floor below, it will not break. You're given two eggs. Find\n",
        "# N, while minimizing the number of drops for the worst case. "
      ],
      "execution_count": 0,
      "outputs": []
    },
    {
      "cell_type": "code",
      "metadata": {
        "id": "S36ttM0lr7_r",
        "colab_type": "code",
        "colab": {}
      },
      "source": [
        "# 100 Lockers: There are 100 closed lockers in a hallway. A man begins by opening all 100 lockers.\n",
        "# Next, he closes every second locker. Then, on his third pass, he toggles every third locker (closes it if\n",
        "# it is open or opens it if it is closed). This process continues for 100 passes, such that on each pass i,\n",
        "# the man toggles every ith locker. After his 100th pass in the hallway, in which he toggles only locker\n",
        "# #100, how many lockers are open?"
      ],
      "execution_count": 0,
      "outputs": []
    },
    {
      "cell_type": "code",
      "metadata": {
        "id": "NyHKt1rNr9qL",
        "colab_type": "code",
        "colab": {}
      },
      "source": [
        "# Poison: You have 1000 bottles of soda, and exactly one is poisoned. You have 10 test strips which\n",
        "# can be used to detect poison. A single drop of poison will turn the test strip positive permanently.\n",
        "# You can put any number of drops on a test strip at once and you can reuse a test strip as many times\n",
        "# as you'd like (as long as the results are negative). However, you can only run tests once per day and\n",
        "# it takes seven days to return a result. How would you figure out the poisoned bottle in as few days\n",
        "# as possible?\n",
        "# Follow up: Write code to simulate your approach"
      ],
      "execution_count": 0,
      "outputs": []
    },
    {
      "cell_type": "markdown",
      "metadata": {
        "id": "TsqlFBgzsM0c",
        "colab_type": "text"
      },
      "source": [
        "#Trees and Graphs"
      ]
    },
    {
      "cell_type": "markdown",
      "metadata": {
        "id": "zMuW5kPzCUAO",
        "colab_type": "text"
      },
      "source": [
        "##Route Between Nodes"
      ]
    },
    {
      "cell_type": "code",
      "metadata": {
        "id": "ASaPhrkpsCFC",
        "colab_type": "code",
        "colab": {}
      },
      "source": [
        "# Route Between Nodes: Given a directed graph, design an algorithm to find out whether there is a\n",
        "# route between two nodes. \n",
        "def search(graph, start, end):\n",
        "  if start == end:\n",
        "    return True\n",
        "  q = []\n",
        "  for node in graph.getNodes():\n",
        "    node.setState('Unvisited')\n",
        "  start.setState('Visiting')\n",
        "  q.append(start)\n",
        "  node = None\n",
        "  while q:\n",
        "    node = q.pop(0)\n",
        "    if node != None:\n",
        "      for n in node.getNeighbors():\n",
        "        if n.state == 'Unvisited':\n",
        "          if n == end:\n",
        "            return True\n",
        "          else:\n",
        "            n.state == 'Visiting'\n",
        "            q.append(n)\n",
        "    node.setState('Visited')\n",
        "  return True\n",
        "\n",
        "# Depth-first search is a bit simpler to implement since it can\n",
        "# be done with simple recursion. Breadth-first search can also be useful to find the shortest path, whereas\n",
        "# depth-first search may traverse one adjacent node very deeply before ever going onto the immediate\n",
        "# neighbors"
      ],
      "execution_count": 0,
      "outputs": []
    },
    {
      "cell_type": "markdown",
      "metadata": {
        "id": "ruNTXdTaCZEB",
        "colab_type": "text"
      },
      "source": [
        "##Minimal Tree out of sorted array"
      ]
    },
    {
      "cell_type": "code",
      "metadata": {
        "id": "kFJG38YiukOi",
        "colab_type": "code",
        "colab": {}
      },
      "source": [
        "# Minimal Tree: Given a sorted (increasing order) array with unique integer elements, write an\n",
        "# algorithm to create a binary search tree with minimal height. \n",
        "def createMinimalBST(arr):\n",
        "  return createMinimalBSTHelper(arr, 0, len(arr)-1)\n",
        "\n",
        "def createMinimalBSTHelper(arr, start, end):\n",
        "  if start > end:\n",
        "    return None\n",
        "  mid = (start+end)/2\n",
        "  n = TreeNode(arr[mid])\n",
        "  n.left = createMinimalBSTHelper(arr, start, mid-1)\n",
        "  n.right = createMinimalBSTHelper(arr, mid+1, end)\n",
        "  return n"
      ],
      "execution_count": 0,
      "outputs": []
    },
    {
      "cell_type": "markdown",
      "metadata": {
        "id": "cJfooy_-Ckue",
        "colab_type": "text"
      },
      "source": [
        "##List of Depths"
      ]
    },
    {
      "cell_type": "code",
      "metadata": {
        "id": "gs7QsOcLvl9m",
        "colab_type": "code",
        "colab": {}
      },
      "source": [
        "# List of Depths: Given a binary tree, design an algorithm which creates a linked list of all the nodes\n",
        "# at each depth (e.g., if you have a tree with depth D, you'll have D linked lists). \n",
        "def createLevelLinkedlist(root):\n",
        "  result, current = [], []\n",
        "  while root:\n",
        "    current.append(root)\n",
        "    while current:\n",
        "      result.append(current)\n",
        "      parents, current = current, []\n",
        "      for parent in parents:\n",
        "        if parent.left:\n",
        "          current.append(parent.left)\n",
        "        if parent.right:\n",
        "          current.append(parent.right)\n",
        "  return result"
      ],
      "execution_count": 0,
      "outputs": []
    },
    {
      "cell_type": "markdown",
      "metadata": {
        "id": "Q40oEB5zCqOg",
        "colab_type": "text"
      },
      "source": [
        "##Check Balanced"
      ]
    },
    {
      "cell_type": "code",
      "metadata": {
        "id": "kPW_OhUwvwBN",
        "colab_type": "code",
        "colab": {}
      },
      "source": [
        "# Check Balanced: Implement a function to check if a binary tree is balanced. For the purposes of\n",
        "# this question, a balanced tree is defined to be a tree such that the heights of the two subtrees of any\n",
        "# node never differ by more than one.\n",
        "import sys\n",
        "def isBalanced(root):\n",
        "  return checkHeight(root) != -sys.maxint\n",
        "\n",
        "def checkHeight(root):\n",
        "  if not root:\n",
        "    return -1\n",
        "  leftHeight = checkHeight(root.left)\n",
        "  if leftHeight == -sys.maxint:\n",
        "    return -sys.maxint\n",
        "  rightHeight = checkHeight(root.right)\n",
        "  if rightHeight == -sys.maxint:\n",
        "    return -sys.maxint\n",
        "  heightDiff = abs(leftHeight - rightHeight)\n",
        "  if heightDiff > 1:\n",
        "    return -sys.maxint\n",
        "  return max(leftHeight, rightHeight) + 1\n",
        "  "
      ],
      "execution_count": 0,
      "outputs": []
    },
    {
      "cell_type": "markdown",
      "metadata": {
        "id": "5ZkE2gbzCvd5",
        "colab_type": "text"
      },
      "source": [
        "##CheckBST"
      ]
    },
    {
      "cell_type": "code",
      "metadata": {
        "id": "qh7TB9-1vx_s",
        "colab_type": "code",
        "colab": {}
      },
      "source": [
        "# Validate BST: Implement a function to check if a binary tree is a binary search tree. \n",
        "def checkBST(root):\n",
        "  return checkBSTHelper(root, None, None)\n",
        "\n",
        "def checkBSTHelper(n, min_, max_):\n",
        "  if n == None:\n",
        "    return True\n",
        "  if (min_ != None and n.data <= min_) or (max_ != None and n.data > max_):\n",
        "    return False\n",
        "  if not checkBSTHelper(n.left, min_, n.data) or not checkBSTHelper(n.right, n.data, max_):\n",
        "    return False\n",
        "  return True"
      ],
      "execution_count": 0,
      "outputs": []
    },
    {
      "cell_type": "markdown",
      "metadata": {
        "id": "JtRr2Ox9C0hu",
        "colab_type": "text"
      },
      "source": [
        "##Inorder Successor"
      ]
    },
    {
      "cell_type": "code",
      "metadata": {
        "id": "uwT8tzOav2fd",
        "colab_type": "code",
        "colab": {}
      },
      "source": [
        "# Successor: Write an algorithm to find the \"next\" node (i.e., in-order successor) of a given node in a\n",
        "# binary search tree. You may assume that each node has a link to its parent. \n",
        "def inorderSucc(n):\n",
        "  if n == None:\n",
        "    return None\n",
        "  if n.right != None:\n",
        "    return leftMostChild(n.right)\n",
        "  else:\n",
        "    q, x = n, q.parent\n",
        "    while x and x.left != q:\n",
        "      q, x = x, x.parent\n",
        "    return x\n",
        "  \n",
        "def leftMostChild(n):\n",
        "  if n == None:\n",
        "    return None\n",
        "  while n.left:\n",
        "    n = n.left\n",
        "  return n"
      ],
      "execution_count": 0,
      "outputs": []
    },
    {
      "cell_type": "markdown",
      "metadata": {
        "id": "0LU8S0bcC6P9",
        "colab_type": "text"
      },
      "source": [
        "##Order Projects with dependencies"
      ]
    },
    {
      "cell_type": "code",
      "metadata": {
        "id": "HeYLro_1v-45",
        "colab_type": "code",
        "outputId": "bd63023a-c2ec-40ac-95e4-63287da66f5c",
        "colab": {
          "base_uri": "https://localhost:8080/",
          "height": 35
        }
      },
      "source": [
        "# Build Order: You are given a list of projects and a list of dependencies (which is a list of pairs of\n",
        "# projects, where the second project is dependent on the first project). All of a project's dependencies\n",
        "# must be built before the project is. Find a build order that will allow the projects to be built. If there\n",
        "# is no valid build order, return an error.\n",
        "# EXAMPLE\n",
        "# Input:\n",
        "#       projects: a, b, c, d, e, f\n",
        "#       dependencies: (a, d), (f, b), (b, d), (f, a), (d, c)\n",
        "# Output: f, e, a, b, d, c\n",
        "\n",
        "def findBuildOrder(projects, dependencies):\n",
        "  graph = buildGraph(projects, dependencies)\n",
        "  order = orderProjects(graph.getNodes())\n",
        "  results = []\n",
        "  for project in order:\n",
        "    results.append(project.getName())\n",
        "  return results\n",
        "  \n",
        "def buildGraph(projects, dependencies):\n",
        "  graph = Graph()\n",
        "  for project in projects:\n",
        "    graph.createNode(project)\n",
        "    \n",
        "  for dependency in dependencies:\n",
        "    graph.addEdge(dependency[0], dependency[1])\n",
        "  return graph\n",
        "\n",
        "def orderProjects(projects):\n",
        "  order = []\n",
        "  addNonDependent(order, projects)\n",
        "  toBeProcessed = 0\n",
        "  while toBeProcessed < len(order):\n",
        "    current = order[toBeProcessed]\n",
        "    if not current:\n",
        "      return None\n",
        "    children = current.getChildren()\n",
        "    for child in children:\n",
        "      child.decrementDependencies()\n",
        "    addNonDependent(order, children)\n",
        "    toBeProcessed += 1\n",
        "  return order\n",
        "\n",
        "def addNonDependent(order, projects):\n",
        "  for project in projects:\n",
        "    if project.getNumberOfDependencies() == 0:\n",
        "      order.append(project)\n",
        "\n",
        "class Graph:\n",
        "  def __init__(self):\n",
        "    self.nodes, self.map = [], {}\n",
        "    \n",
        "  def createNode(self, name):\n",
        "    if name not in self.map:\n",
        "      node = Project(name)\n",
        "      self.nodes.append(node)\n",
        "      self.map[name] = node\n",
        "    return self.map[name]\n",
        "  \n",
        "  def addEdge(self, startName, endName):\n",
        "    start, end = self.createNode(startName), self.createNode(endName)\n",
        "    start.addNeighbor(end)\n",
        "    \n",
        "  def getNodes(self):\n",
        "    return self.nodes\n",
        "  \n",
        "class Project:\n",
        "  def __init__(self, name):\n",
        "    self.name, self.children, self.map, self.dependencies = name, [], {}, 0\n",
        "    \n",
        "  def addNeighbor(self, node):\n",
        "    if node.getName() not in self.map:\n",
        "      self.children.append(node)\n",
        "      self.map[node.getName()] = node\n",
        "      node.incrementDependencies()\n",
        "  \n",
        "  def incrementDependencies(self):\n",
        "    self.dependencies += 1\n",
        "    \n",
        "  def decrementDependencies(self):\n",
        "    self.dependencies -= 1\n",
        "    \n",
        "  def getName(self):\n",
        "    return self.name\n",
        "  \n",
        "  def getChildren(self):\n",
        "    return self.children\n",
        "  \n",
        "  def getNumberOfDependencies(self):\n",
        "    return self.dependencies\n",
        "\n",
        "print findBuildOrder(['a', 'b', 'c', 'd', 'e', 'f'], [('a', 'd'), ('f', 'b'), ('b', 'd'), ('f', 'a'), ('d', 'c')])"
      ],
      "execution_count": 0,
      "outputs": [
        {
          "output_type": "stream",
          "text": [
            "['e', 'f', 'b', 'a', 'd', 'c']\n"
          ],
          "name": "stdout"
        }
      ]
    },
    {
      "cell_type": "code",
      "metadata": {
        "id": "3bvOZTCe-nkf",
        "colab_type": "code",
        "outputId": "33887b68-75a0-46a1-ff6a-c16d48bd823a",
        "colab": {
          "base_uri": "https://localhost:8080/",
          "height": 35
        }
      },
      "source": [
        "def findBuildOrder2(projects, dependencies):\n",
        "  graph = buildGraph(projects, dependencies)\n",
        "  order = orderProjects2(graph.getNodes())\n",
        "  results = []\n",
        "  for project in order:\n",
        "    results.append(project.name)\n",
        "  return results\n",
        "\n",
        "def orderProjects2(projects):\n",
        "  stack = []\n",
        "  for project in projects:\n",
        "    if project.getState() == 'BLANK':\n",
        "      if not doDFS(project, stack):  #inpass\n",
        "        return None\n",
        "  return stack\n",
        "\n",
        "def doDFS(project, stack):\n",
        "  if project.getState() == 'PARTIAL':\n",
        "    return False\n",
        "  if project.getState() == 'BLANK':\n",
        "    project.setState('PARTIAL')\n",
        "    children = project.children\n",
        "    for child in children:\n",
        "      if not doDFS(child, stack):  #inpass\n",
        "        return False\n",
        "    project.setState('COMPLETE')\n",
        "    stack.insert(0, project)\n",
        "  return True\n",
        "\n",
        "class Project:\n",
        "  def __init__(self, name):\n",
        "    self.name, self.state, self.map, self.children = name, 'BLANK', {}, []\n",
        "  \n",
        "  def getState(self):\n",
        "    return self.state\n",
        "  \n",
        "  def setState(self, state):\n",
        "    self.state = state\n",
        "  \n",
        "  def addNeighbor(self, node):\n",
        "    if node.name not in self.map:\n",
        "      self.children.append(node)\n",
        "      self.map[node.name] = node \n",
        "    \n",
        "print findBuildOrder2(['a', 'b', 'c', 'd', 'e', 'f'], [('a', 'd'), ('f', 'b'), ('b', 'd'), ('f', 'a'), ('d', 'c')])"
      ],
      "execution_count": 0,
      "outputs": [
        {
          "output_type": "stream",
          "text": [
            "['f', 'e', 'b', 'a', 'd', 'c']\n"
          ],
          "name": "stdout"
        }
      ]
    },
    {
      "cell_type": "markdown",
      "metadata": {
        "id": "YScn1_v6DgWp",
        "colab_type": "text"
      },
      "source": [
        "##First common ancestor"
      ]
    },
    {
      "cell_type": "code",
      "metadata": {
        "id": "Dtf44OMXwJUj",
        "colab_type": "code",
        "outputId": "f601dc8b-b5a2-4ea0-f435-54848535bf05",
        "colab": {
          "base_uri": "https://localhost:8080/",
          "height": 71
        }
      },
      "source": [
        "# First Common Ancestor: Design an algorithm and write code to find the first common ancestor\n",
        "# of two nodes in a binary tree. Avoid storing additional nodes in a data structure. NOTE: This is not\n",
        "# necessarily a binary search tree. \n",
        "def commonAncestor(root, p, q):\n",
        "  r = commonAncestorHelper(root, p, q)\n",
        "  return r.node.data if r.isAncestor else None\n",
        "\n",
        "def commonAncestorHelper(root, p, q):\n",
        "  if not root:\n",
        "    return Result(None, False)\n",
        "  if root == p and root == q:\n",
        "    return Result(root, True)\n",
        "  rx = commonAncestorHelper(root.left, p, q)\n",
        "  if rx.isAncestor:\n",
        "    return rx\n",
        "  ry = commonAncestorHelper(root.right, p, q)\n",
        "  if ry.isAncestor:\n",
        "    return ry\n",
        "  if rx.node and ry.node:\n",
        "    return Result(root, True)\n",
        "  elif root == p or root == q:\n",
        "    isAncestor = rx.node or ry.node\n",
        "    return Result(root, isAncestor)\n",
        "  else:\n",
        "    return Result(rx.node if rx.node else ry.node, False)\n",
        "  \n",
        "class Result:\n",
        "  def __init__(self, n, isAncestor):\n",
        "    self.node, self.isAncestor = n, isAncestor\n",
        "    \n",
        "class MyNode:\n",
        "  def __init__(self, data):\n",
        "    self.data, self.left, self.right = data, None, None\n",
        "    \n",
        "  def addLeft(self, node):\n",
        "    self.left = node\n",
        "    \n",
        "  def addRight(self, node):\n",
        "    self.right = node\n",
        "    \n",
        "n3, n5, n7, n10, n15, n17, n20, n30 = MyNode(3), MyNode(5), MyNode(7), MyNode(10), MyNode(15), MyNode(17), MyNode(20), MyNode(30)\n",
        "n20.addLeft(n10)\n",
        "n20.addRight(n30)\n",
        "n10.addLeft(n5)\n",
        "n10.addRight(n15)\n",
        "n15.addRight(n17)\n",
        "n5.addLeft(n3)\n",
        "n5.addRight(n7)\n",
        "\n",
        "print commonAncestor(n20, n7, n17)\n",
        "print commonAncestor(n20, n7, n30)\n",
        "print commonAncestor(n20, n3, n17)"
      ],
      "execution_count": 0,
      "outputs": [
        {
          "output_type": "stream",
          "text": [
            "10\n",
            "20\n",
            "10\n"
          ],
          "name": "stdout"
        }
      ]
    },
    {
      "cell_type": "markdown",
      "metadata": {
        "id": "xUfPhmTuDlQF",
        "colab_type": "text"
      },
      "source": [
        "##Possible sequences from BST"
      ]
    },
    {
      "cell_type": "code",
      "metadata": {
        "id": "TiT5659OMAnz",
        "colab_type": "code",
        "outputId": "9ae0d325-1857-4c17-85a8-30cc7cd1c341",
        "colab": {
          "base_uri": "https://localhost:8080/",
          "height": 35
        }
      },
      "source": [
        "# BST Sequences: A binary search tree was created by traversing through an array from left to right\n",
        "# and inserting each element. Given a binary search tree with distinct elements, print all possible\n",
        "# arrays that could have led to this tree.\n",
        "# 1 <- 2 -> 3  : [[2,1,3], [2,3,1]]\n",
        "\n",
        "def allSequences(node):\n",
        "  result, prefix = [], []\n",
        "  if not node:\n",
        "    result.append([])\n",
        "    return result \n",
        "  prefix.append(node.data)\n",
        "  leftSeq = allSequences(node.left)\n",
        "  rightSeq = allSequences(node.right)\n",
        "  for left in leftSeq:\n",
        "    for right in rightSeq:\n",
        "      weaved = []\n",
        "      weaveLists(left, right, weaved, prefix)\n",
        "      result.extend(weaved)\n",
        "  return result\n",
        "\n",
        "def weaveLists(first, second, results, prefix):\n",
        "  if not first or not second:\n",
        "    result = prefix[:]\n",
        "    result.extend(first)\n",
        "    result.extend(second)\n",
        "    results.append(result)\n",
        "    return \n",
        "  prefix.append(first.pop(0))\n",
        "  weaveLists(first, second, results, prefix)\n",
        "  first.insert(0, prefix.pop())\n",
        "  \n",
        "  prefix.append(second.pop(0))\n",
        "  weaveLists(first, second, results, prefix)\n",
        "  second.insert(0, prefix.pop())\n",
        "\n",
        "class MyNode:\n",
        "  def __init__(self, data):\n",
        "    self.data, self.left, self.right = data, None, None\n",
        "    \n",
        "  def addLeft(self, node):\n",
        "    self.left = node\n",
        "    \n",
        "  def addRight(self, node):\n",
        "    self.right = node\n",
        "    \n",
        "n1, n2, n3 = MyNode(1), MyNode(2), MyNode(3)\n",
        "n2.addLeft(n1)\n",
        "n2.addRight(n3)\n",
        "print allSequences(n2)"
      ],
      "execution_count": 0,
      "outputs": [
        {
          "output_type": "stream",
          "text": [
            "[[2, 1, 3], [2, 3, 1]]\n"
          ],
          "name": "stdout"
        }
      ]
    },
    {
      "cell_type": "markdown",
      "metadata": {
        "id": "YrYYDqgnDsau",
        "colab_type": "text"
      },
      "source": [
        "##Is Subtree()"
      ]
    },
    {
      "cell_type": "code",
      "metadata": {
        "id": "HAplFJ1AwbAu",
        "colab_type": "code",
        "outputId": "4b330d7e-c354-4a8b-df01-af8e962ceb71",
        "colab": {
          "base_uri": "https://localhost:8080/",
          "height": 71
        }
      },
      "source": [
        "# Check Subtree: T1 and T2 are two very large binary trees, with T1 much bigger than T2. Create an\n",
        "# algorithm to determine if T2 is a subtree of T1.\n",
        "# A tree T2 is a subtree of T1 if there exists a node n in T1 such that the subtree of n is identical to T2.\n",
        "# That is, if you cut off the tree at node n, the two trees would be identical. \n",
        "def containsTree(t1, t2):\n",
        "  string1, string2 = getOrderString(t1), getOrderString(t2)\n",
        "  return string1.find(string2) != -1\n",
        "\n",
        "def getOrderString(node):\n",
        "  res = ''\n",
        "  if not node:\n",
        "    res += 'X'\n",
        "    return res\n",
        "  # pre-order traversal\n",
        "  res += str(node.data) + ' '\n",
        "  res += getOrderString(node.left) + ' '\n",
        "  res += getOrderString(node.right)\n",
        "  return res\n",
        "  \n",
        "n1, n2, n3, n4 = MyNode(1), MyNode(2), MyNode(3), MyNode(4)\n",
        "n1.addLeft(n2)\n",
        "n1.addRight(n3)\n",
        "n2.addLeft(n4)\n",
        "print getOrderString(n1)\n",
        "print getOrderString(n4)\n",
        "print containsTree(n1, n4)"
      ],
      "execution_count": 0,
      "outputs": [
        {
          "output_type": "stream",
          "text": [
            "1 2 4 X X X 3 X X\n",
            "4 X X\n",
            "True\n"
          ],
          "name": "stdout"
        }
      ]
    },
    {
      "cell_type": "markdown",
      "metadata": {
        "id": "qMFRsmSFDyTe",
        "colab_type": "text"
      },
      "source": [
        "##Get Random Node"
      ]
    },
    {
      "cell_type": "code",
      "metadata": {
        "id": "VSTBZlcWwowh",
        "colab_type": "code",
        "outputId": "c2373c6b-f6c8-4b9f-b6f7-710dad275feb",
        "colab": {
          "base_uri": "https://localhost:8080/",
          "height": 35
        }
      },
      "source": [
        "# Random Node: You are implementing a binary search tree class from scratch, which, in addition\n",
        "# to insert, find, and delete, has a method getRandomNode() which returns a random node\n",
        "# from the tree. All nodes should be equally likely to be chosen. Design and implement an algorithm\n",
        "# for getRandomNode, and explain how you would implement the rest of the methods.\n",
        "import random\n",
        "class Tree:\n",
        "  def __init__(self):\n",
        "    self.root = None\n",
        "  \n",
        "  def size(self):\n",
        "    return 0 if not self.root else self.root.getsize()\n",
        "  \n",
        "  def getRandomNode(self):\n",
        "    if not self.root:\n",
        "      return None\n",
        "    i = random.randint(0, self.size())\n",
        "    return self.root.getIthNode(i)\n",
        "  \n",
        "  def insertInOrder(self, value):\n",
        "    if not self.root:\n",
        "      self.root = TreeNode(value)\n",
        "    else:\n",
        "      self.root.insertInOrder(value)\n",
        "      \n",
        "class TreeNode:\n",
        "  def __init__(self, d): \n",
        "    self.data, self.left, self.right, self.size = d, None, None, 1\n",
        "    \n",
        "  def getIthNode(self, i):\n",
        "    leftSize = 0 if not self.left else  self.left.getsize()\n",
        "    if i < leftSize:\n",
        "      return self.left.getIthNode(i)\n",
        "    elif i == leftSize:\n",
        "      return self\n",
        "    else:\n",
        "      return self.right.getIthNode(i- (leftSize+1))\n",
        "    \n",
        "  def insertInOrder(self, d):\n",
        "    if d <= self.data:\n",
        "      if not self.left:\n",
        "        self.left = TreeNode(d)\n",
        "      else:\n",
        "        self.left.insertInOrder(d)\n",
        "    else:\n",
        "      if not self.right:\n",
        "        self.right = TreeNode(d)\n",
        "      else:\n",
        "        self.right.insertInOrder(d)\n",
        "    self.size += 1\n",
        "    \n",
        "  def getsize(self):\n",
        "    return self.size\n",
        "  \n",
        "  def find(self, d):\n",
        "    if d == self.data:\n",
        "      return self\n",
        "    elif d <= self.data:\n",
        "      return self.left.find(d) if self.left else None\n",
        "    elif d > self.data:\n",
        "      return self.right.find(d) if self.right else None\n",
        "    return None\n",
        "  \n",
        "tree = Tree()\n",
        "tree.insertInOrder(20)\n",
        "tree.insertInOrder(10)\n",
        "tree.insertInOrder(15)\n",
        "tree.insertInOrder(17)\n",
        "tree.insertInOrder(5)\n",
        "tree.insertInOrder(7)\n",
        "tree.insertInOrder(3)\n",
        "tree.insertInOrder(30)\n",
        "tree.insertInOrder(35)\n",
        "print tree.getRandomNode().data"
      ],
      "execution_count": 0,
      "outputs": [
        {
          "output_type": "stream",
          "text": [
            "7\n"
          ],
          "name": "stdout"
        }
      ]
    },
    {
      "cell_type": "markdown",
      "metadata": {
        "id": "VeOBoS7bD5H3",
        "colab_type": "text"
      },
      "source": [
        "##Path With Sum"
      ]
    },
    {
      "cell_type": "code",
      "metadata": {
        "id": "5Ynye84LwzoK",
        "colab_type": "code",
        "outputId": "9031b649-62b0-4fde-b9c8-95ffa2cf4953",
        "colab": {
          "base_uri": "https://localhost:8080/",
          "height": 35
        }
      },
      "source": [
        "# Paths with Sum: You are given a binary tree in which each node contains an integer value (which\n",
        "# might be positive or negative). Design an algorithm to count the number of paths that sum to a\n",
        "# given value. The path does not need to start or end at the root or a leaf, but it must go downwards\n",
        "# (traveling only from parent nodes to child nodes).\n",
        "\n",
        "def countPathsWithSum(root, targetSum):\n",
        "  return countPathsWithSumHelper(root, targetSum, 0, {})\n",
        "\n",
        "def countPathsWithSumHelper(node, targetSum, runningSum, pathCount):\n",
        "  if not node:\n",
        "    return 0\n",
        "  runningSum += node.data\n",
        "  sum_ = runningSum - targetSum\n",
        "  totalPaths = pathCount.get(sum_, 0)\n",
        "  if runningSum == targetSum:\n",
        "    totalPaths += 1\n",
        "  incrementHashTable(pathCount, runningSum, 1)\n",
        "  totalPaths += countPathsWithSumHelper(node.left, targetSum, runningSum, pathCount)\n",
        "  totalPaths += countPathsWithSumHelper(node.right, targetSum, runningSum, pathCount)\n",
        "  incrementHashTable(pathCount, runningSum, -1)\n",
        "  return totalPaths\n",
        "\n",
        "def incrementHashTable(hashtable, key, delta):\n",
        "  newCount = hashtable.get(key, 0) + delta\n",
        "  if newCount == 0:\n",
        "    del hashtable[key]\n",
        "  else:\n",
        "    hashtable[key] = newCount\n",
        "    \n",
        "n3, n3_, nn2, n5, n1, n2, n10, nn3, n11 = MyNode(3), MyNode(3), MyNode(-2), MyNode(5), MyNode(1), MyNode(2), MyNode(10), MyNode(-3), MyNode(11)\n",
        "n10.addLeft(n5)\n",
        "n10.addRight(nn3)\n",
        "n5.addLeft(n3)\n",
        "n5.addRight(n1)\n",
        "n1.addRight(n2)\n",
        "n3.addLeft(n3_)\n",
        "n3.addRight(nn2)\n",
        "nn3.addRight(n11)\n",
        "\n",
        "print countPathsWithSum(n10, 8)\n"
      ],
      "execution_count": 0,
      "outputs": [
        {
          "output_type": "stream",
          "text": [
            "3\n"
          ],
          "name": "stdout"
        }
      ]
    },
    {
      "cell_type": "markdown",
      "metadata": {
        "id": "6MQ1fgWytzKz",
        "colab_type": "text"
      },
      "source": [
        "#Stacks and Queues"
      ]
    },
    {
      "cell_type": "markdown",
      "metadata": {
        "id": "kp6ochUV_kJq",
        "colab_type": "text"
      },
      "source": [
        "##Three in one: single array to implement 3 stacks"
      ]
    },
    {
      "cell_type": "code",
      "metadata": {
        "id": "ocZuJc5rtxZc",
        "colab_type": "code",
        "colab": {}
      },
      "source": [
        "# Three in One: Describe how you could use a single array to implement three stacks\n",
        "class FixedMultiStack:\n",
        "  def __init__(self, stackSize):\n",
        "    self.numberOfStacks, self.stackCapacity = 3, stackSize\n",
        "    self.values, self.sizes = [0]*stackSize*self.numberOfStacks, [0]*self.numberOfStacks\n",
        "    \n",
        "  def push(self, stackNum, value):\n",
        "    if self.isFull(stackNum):\n",
        "      raise FullStackException()\n",
        "    self.sizes[stackNum] += 1\n",
        "    self.values[self.indexOfTop(stackNum)] = value\n",
        "\n",
        "  def pop(self, stackNum):\n",
        "    if self.isEmpty(stackNum):\n",
        "      raise EmptyStackException()\n",
        "    topIndex = self.indexOfTop(stackNum)\n",
        "    value, self.values[topIndex] = self.values[topIndex], 0\n",
        "    self.sizes[stackNum] -= 1\n",
        "    return value\n",
        "  \n",
        "  def peek(self, stackNum):\n",
        "    if self.isEmpty(stackNum):\n",
        "      raise EmptyStackException()\n",
        "    return self.values[self.indexOfTop(stackNum)]\n",
        "  \n",
        "  def isEmpty(self, stackNum):\n",
        "    return self.sizes[stackNum] == 0\n",
        "  \n",
        "  def isFull(self, stackNum):\n",
        "    return self.sizes[stackNum] == self.stackCapacity\n",
        "  \n",
        "  def indexOfTop(self, stackNum):\n",
        "    offset = stackNum * self.stackCapacity\n",
        "    size = self.sizes[stackNum]\n",
        "    return offset + size - 1\n",
        "  \n",
        "class FullStackException:\n",
        "  def __init__(self, error):\n",
        "    print 'Stack is Full'\n",
        "    print error\n",
        "    \n",
        "class EmptyStackException:\n",
        "  def __init__(self, error):\n",
        "    print 'Stack is Empty'\n",
        "    print error"
      ],
      "execution_count": 0,
      "outputs": []
    },
    {
      "cell_type": "markdown",
      "metadata": {
        "id": "IDB2gIkG_5gR",
        "colab_type": "text"
      },
      "source": [
        "##Stack Min: design stack with min() "
      ]
    },
    {
      "cell_type": "code",
      "metadata": {
        "id": "WGKzC62yuAIg",
        "colab_type": "code",
        "outputId": "2a91d3b3-6d2c-408c-c209-22b0cec34167",
        "colab": {
          "base_uri": "https://localhost:8080/",
          "height": 34
        }
      },
      "source": [
        "# Stack Min: How would you design a stack which, in addition to push and pop, has a function min\n",
        "# which returns the minimum element? Push, pop and min should all operate in 0(1) time.\n",
        "import sys\n",
        "class StackWithMin():\n",
        "  def __init__(self): \n",
        "    self.s1, self.s2 = [], []\n",
        "  \n",
        "  def push(self, value):\n",
        "    if value < self.myMin():\n",
        "      self.s2.append(value)\n",
        "    self.s1.append(value)\n",
        "    \n",
        "  def pop(self):\n",
        "    value = self.s1.pop()\n",
        "    if value == self.myMin():\n",
        "      self.s2.pop()\n",
        "    return value\n",
        "  \n",
        "  def myMin(self):\n",
        "    if not self.s2:\n",
        "      return sys.maxint\n",
        "    return self.s2[-1]\n",
        "  \n",
        "stack = StackWithMin()\n",
        "stack.push(2) \n",
        "stack.push(-1)\n",
        "stack.push(20)\n",
        "stack.push(0)\n",
        "stack.myMin()    "
      ],
      "execution_count": 0,
      "outputs": [
        {
          "output_type": "execute_result",
          "data": {
            "text/plain": [
              "-1"
            ]
          },
          "metadata": {
            "tags": []
          },
          "execution_count": 10
        }
      ]
    },
    {
      "cell_type": "markdown",
      "metadata": {
        "id": "wZqahopbAE75",
        "colab_type": "text"
      },
      "source": [
        "##Stack of plates with rollover"
      ]
    },
    {
      "cell_type": "code",
      "metadata": {
        "id": "Dx9UG7sIuHZu",
        "colab_type": "code",
        "outputId": "d87f4b03-b1e2-4a5d-a86a-be8d71bfebc0",
        "colab": {
          "base_uri": "https://localhost:8080/",
          "height": 228
        }
      },
      "source": [
        "# Stack of Plates: Imagine a (literal) stack of plates. If the stack gets too high, it might topple.\n",
        "# Therefore, in real life, we would likely start a new stack when the previous stack exceeds some\n",
        "# threshold. Implement a data structure SetOfStacks that mimics this. SetOfStacks should be\n",
        "# composed of several stacks and should create a new stack once the previous one exceeds capacity.\n",
        "# SetOfStacks. push() and SetOfStacks. pop() should behave identically to a single stack\n",
        "# (that is, pop () should return the same values as it would if there were just a single stack).\n",
        "# FOLLOW UP\n",
        "# Implement a function popAt(int index) which performs a pop operation on a specific substack. \n",
        "class SetOfStacks:\n",
        "  def __init__(self, maxCapacity):\n",
        "    self.stacks, self.maxCapacity = [], maxCapacity\n",
        "    \n",
        "  def push(self, v):\n",
        "    last = self.getLastStack()\n",
        "    if last and len(last) != self.maxCapacity:\n",
        "      last.append(v)\n",
        "    else:\n",
        "      self.stacks.append([v])\n",
        "\n",
        "  def pop(self):\n",
        "    last = self.getLastStack()\n",
        "    if not last:\n",
        "      raise EmptyStackException()\n",
        "    value = last.pop()\n",
        "    if len(last) == 0:\n",
        "      self.stacks.pop()\n",
        "    return value\n",
        "  \n",
        "  def getLastStack(self):\n",
        "    return self.stacks[-1] if self.stacks else None \n",
        "  \n",
        "  def popAt(self, idx, top=True):\n",
        "    return self.leftShift(idx, top)\n",
        "  \n",
        "  def leftShift(self, index, removeTop):\n",
        "    stack, removed_item = self.stacks[index], None\n",
        "    if removeTop:\n",
        "      removed_item = stack.pop()\n",
        "    else:\n",
        "      removed_item = stack.pop(0)\n",
        "    if not stack:\n",
        "      self.stacks.pop(index)\n",
        "    elif len(self.stacks) > index+1:  # we're not at the last stack\n",
        "      v = self.leftShift(index+1, False)\n",
        "      self.stacks[index].append(v)\n",
        "    return removed_item\n",
        "  \n",
        "  def printStacks(self):\n",
        "    print '----------'\n",
        "    for i, stack in enumerate(self.stacks):\n",
        "      print 'stack {} is: {}'.format(i, stack)\n",
        "    print '----------'\n",
        "    \n",
        "class EmptyStackException:\n",
        "  def __init__(self, error):\n",
        "    print 'Stack is Empty'\n",
        "    print error\n",
        "  \n",
        "stack = SetOfStacks(2)\n",
        "stack.push(1)\n",
        "stack.push(2)\n",
        "stack.push(3)\n",
        "stack.push(4)\n",
        "stack.push(5)\n",
        "stack.push(6)\n",
        "print stack.getLastStack()\n",
        "print stack.pop()\n",
        "print stack.pop()\n",
        "stack.push(7)\n",
        "print stack.getLastStack()\n",
        "stack.popAt(1, True)\n",
        "stack.printStacks()\n",
        "stack.popAt(0, False)\n",
        "stack.printStacks()"
      ],
      "execution_count": 0,
      "outputs": [
        {
          "output_type": "stream",
          "text": [
            "[5, 6]\n",
            "6\n",
            "5\n",
            "[7]\n",
            "----------\n",
            "stack 0 is: [1, 2]\n",
            "stack 1 is: [3, 7]\n",
            "----------\n",
            "----------\n",
            "stack 0 is: [2, 3]\n",
            "stack 1 is: [7]\n",
            "----------\n"
          ],
          "name": "stdout"
        }
      ]
    },
    {
      "cell_type": "markdown",
      "metadata": {
        "id": "jp8Sn17YAObQ",
        "colab_type": "text"
      },
      "source": [
        "##Queue via stacks"
      ]
    },
    {
      "cell_type": "code",
      "metadata": {
        "id": "rJtXPDF2uMJX",
        "colab_type": "code",
        "outputId": "edecd190-7784-4072-c132-d5a6b14f139e",
        "colab": {
          "base_uri": "https://localhost:8080/",
          "height": 69
        }
      },
      "source": [
        "# Queue via Stacks: Implement a MyQueue class which implements a queue using two stacks\n",
        "class MyQueue:\n",
        "  def __init__(self):\n",
        "    self.newest, self.oldest = [], []\n",
        "  \n",
        "  def size(self):\n",
        "    return len(self.newest) + len(self.oldest)\n",
        "  \n",
        "  def add(self, value):\n",
        "    self.newest.append(value)\n",
        "    \n",
        "  def shiftStacks(self):\n",
        "    if not self.oldest:\n",
        "      while self.newest:\n",
        "        self.oldest.append(self.newest.pop())\n",
        "\n",
        "  def peek(self):\n",
        "    self.shiftStacks()\n",
        "    return self.oldest[-1]\n",
        "  \n",
        "  def remove(self):\n",
        "    self.shiftStacks()\n",
        "    return self.oldest.pop()\n",
        "\n",
        "q = MyQueue()\n",
        "q.add(1)\n",
        "q.add(2)\n",
        "q.add(3)\n",
        "q.add(4)\n",
        "q.add(5)\n",
        "print 'Peeked: {}, Size: {}'.format(q.peek(), q.size())\n",
        "print 'Removed: {}, Size: {}'.format(q.remove(), q.size())\n",
        "print 'Peeked: {}, Size: {}'.format(q.peek(), q.size())"
      ],
      "execution_count": 0,
      "outputs": [
        {
          "output_type": "stream",
          "text": [
            "Peeked: 1, Size: 5\n",
            "Removed: 1, Size: 4\n",
            "Peeked: 2, Size: 4\n"
          ],
          "name": "stdout"
        }
      ]
    },
    {
      "cell_type": "markdown",
      "metadata": {
        "id": "KFQ4KHAPATr4",
        "colab_type": "text"
      },
      "source": [
        "##Sort stack"
      ]
    },
    {
      "cell_type": "code",
      "metadata": {
        "id": "vS1Yo_cpuSP4",
        "colab_type": "code",
        "outputId": "dbc010a9-021f-440e-e09a-9b151067d101",
        "colab": {
          "base_uri": "https://localhost:8080/",
          "height": 52
        }
      },
      "source": [
        "# Sort Stack: Write a program to sort a stack such that the smallest items are on the top. You can use\n",
        "# an additional temporary stack, but you may not copy the elements into any other data structure\n",
        "# (such as an array). The stack supports the following operations: push, pop, peek, and is Empty. \n",
        "def sortStack(s):\n",
        "  r = []\n",
        "  while s:\n",
        "    tmp = s.pop()\n",
        "    while r and r[-1] > tmp:\n",
        "      s.append(r.pop())\n",
        "    r.append(tmp)\n",
        "  while r:\n",
        "    s.append(r.pop())\n",
        "    \n",
        "s = [1,5,2,7,3,4,8,9]\n",
        "print 'Before sorting: {}'.format(s)\n",
        "sortStack(s)\n",
        "print 'After sorting: {}'.format(s)"
      ],
      "execution_count": 0,
      "outputs": [
        {
          "output_type": "stream",
          "text": [
            "Before sorting: [1, 5, 2, 7, 3, 4, 8, 9]\n",
            "After sorting: [9, 8, 7, 5, 4, 3, 2, 1]\n"
          ],
          "name": "stdout"
        }
      ]
    },
    {
      "cell_type": "markdown",
      "metadata": {
        "id": "bFVjy0vjAYXI",
        "colab_type": "text"
      },
      "source": [
        "##Animal shelter"
      ]
    },
    {
      "cell_type": "code",
      "metadata": {
        "id": "XOTpxdt8uXMP",
        "colab_type": "code",
        "outputId": "ce4445d8-4029-48e3-efef-ee3d17a1fc65",
        "colab": {
          "base_uri": "https://localhost:8080/",
          "height": 140
        }
      },
      "source": [
        "# Animal Shelter: An animal shelter, which holds only dogs and cats, operates on a strictly\"first in, first\n",
        "# out\" basis. People must adopt either the \"oldest\" (based on arrival time) of all animals at the shelter,\n",
        "# or they can select whether they would prefer a dog or a cat (and will receive the oldest animal of\n",
        "# that type). They cannot select which specific animal they would like. Create the data structures to\n",
        "# maintain this system and implement operations such as enqueue, dequeueAny, dequeueDog,\n",
        "# and dequeueCat. You may use the built in Linkedlist data structure. \n",
        "class AnimalQueue:\n",
        "  def __init__(self):\n",
        "    self.dogs, self.cats, self.order = [], [], 0\n",
        "    \n",
        "  def enqueue(self, a):\n",
        "    a.setOrder(self.order)\n",
        "    self.order += 1\n",
        "    if a.type == 'Dog':\n",
        "      self.dogs.append(a)\n",
        "    elif a.type == 'Cat':\n",
        "      self.cats.append(a)\n",
        "    \n",
        "  def dequeueAny(self):\n",
        "    if not self.dogs:\n",
        "      return self.dequeueCats()\n",
        "    elif not self.cats:\n",
        "      return self.dequeueDogs()\n",
        "    dog = self.dogs[-1]\n",
        "    cat = self.cats[-1]\n",
        "    if dog.order < cat.order:\n",
        "      return self.dequeueDogs()\n",
        "    else:\n",
        "      return self.dequeueCats()\n",
        "  \n",
        "  def dequeueDogs(self):\n",
        "    if not self.dogs: \n",
        "      return Animal(None)\n",
        "    return self.dogs.pop(0)\n",
        "  \n",
        "  def dequeueCats(self):\n",
        "    if not self.cats: \n",
        "      return Animal(None)\n",
        "    return self.cats.pop(0)\n",
        "  \n",
        "class Animal:\n",
        "  def __init__(self, type_):\n",
        "    self.type, self.order = type_, None\n",
        "  \n",
        "  def setOrder(self, order):\n",
        "    self.order = order\n",
        "    \n",
        "q = AnimalQueue()\n",
        "q.enqueue(Animal('Dog'))\n",
        "q.enqueue(Animal('Dog'))\n",
        "q.enqueue(Animal('Cat'))\n",
        "q.enqueue(Animal('Dog'))\n",
        "q.enqueue(Animal('Cat'))\n",
        "print q.dequeueAny().type\n",
        "print q.dequeueCats().type\n",
        "print q.dequeueDogs().type\n",
        "print q.dequeueCats().type\n",
        "print q.dequeueCats().type\n",
        "print q.dequeueDogs().type\n",
        "print q.dequeueDogs().type"
      ],
      "execution_count": 0,
      "outputs": [
        {
          "output_type": "stream",
          "text": [
            "Dog\n",
            "Cat\n",
            "Dog\n",
            "Cat\n",
            "None\n",
            "Dog\n",
            "None\n"
          ],
          "name": "stdout"
        }
      ]
    },
    {
      "cell_type": "markdown",
      "metadata": {
        "id": "rbDqrmWauhBJ",
        "colab_type": "text"
      },
      "source": [
        "#Linked Lists"
      ]
    },
    {
      "cell_type": "markdown",
      "metadata": {
        "id": "v0NYicUfAqJS",
        "colab_type": "text"
      },
      "source": [
        "##Remove Dups"
      ]
    },
    {
      "cell_type": "code",
      "metadata": {
        "id": "IUgnXA-KucLx",
        "colab_type": "code",
        "colab": {}
      },
      "source": [
        "# Remove Dups: Write code to remove duplicates from an unsorted linked list.\n",
        "# FOLLOW UP\n",
        "# How would you solve this problem if a temporary buffer is not allowed?\n",
        "def deleteDups(head):\n",
        "  current = head\n",
        "  while current:\n",
        "    runner = current\n",
        "    while runner.next:\n",
        "      if runner.next.data == current.data:\n",
        "        runner.next = runner.next.next\n",
        "      else:\n",
        "        runner = runner.next\n",
        "    current = current.next\n"
      ],
      "execution_count": 0,
      "outputs": []
    },
    {
      "cell_type": "markdown",
      "metadata": {
        "id": "CEtkZ0OoAuJD",
        "colab_type": "text"
      },
      "source": [
        "##Kth to last"
      ]
    },
    {
      "cell_type": "code",
      "metadata": {
        "id": "7xZPl05yuqx9",
        "colab_type": "code",
        "colab": {}
      },
      "source": [
        "# Return Kth to Last: Implement an algorithm to find the kth to last element of a singly linked list. \n",
        "def kthTolast(head, k):\n",
        "  p1, p2 = head, head\n",
        "  for i in range(k):\n",
        "    if not p1:\n",
        "      return None\n",
        "    p1 = p1.next\n",
        "  while p1:\n",
        "    p1, p2, = p1.next, p2.next\n",
        "  return p2"
      ],
      "execution_count": 0,
      "outputs": []
    },
    {
      "cell_type": "markdown",
      "metadata": {
        "id": "nZqcEtV0AyI8",
        "colab_type": "text"
      },
      "source": [
        "##Delete middle node"
      ]
    },
    {
      "cell_type": "code",
      "metadata": {
        "id": "feV2eHL7uvoH",
        "colab_type": "code",
        "colab": {}
      },
      "source": [
        "# Delete Middle Node: Implement an algorithm to delete a node in the middle (i.e., any node but\n",
        "# the first and last node, not necessarily the exact middle) of a singly linked list, given only access to\n",
        "# that node.\n",
        "# EXAMPLE\n",
        "# lnput:the node c from the linked list a->b->c->d->e->f\n",
        "# Result: nothing is returned, but the new linked list looks like a ->b->d->e->f \n",
        "def deleteNode(n):\n",
        "  if n == None or n.next == None:\n",
        "    return False\n",
        "  next_ = n.next\n",
        "  n.data, n.next = next_.data, next_.next\n",
        "  return True"
      ],
      "execution_count": 0,
      "outputs": []
    },
    {
      "cell_type": "markdown",
      "metadata": {
        "id": "KLaAWv6HA1_e",
        "colab_type": "text"
      },
      "source": [
        "##Partition"
      ]
    },
    {
      "cell_type": "code",
      "metadata": {
        "id": "O2yxOlCiu1iP",
        "colab_type": "code",
        "colab": {}
      },
      "source": [
        "# Partition: Write code to partition a linked list around a value x, such that all nodes less than x come\n",
        "# before all nodes greater than or equal to x. If x is contained within the list the values of x only need\n",
        "# to be after the elements less than x (see below). The partition element x can appear anywhere in the\n",
        "# \"right partition\"; it does not need to appear between the left and right partitions.\n",
        "# EXAMPLE\n",
        "# Input: 3 -> 5 -> 8 -> 5 -> 10 -> 2 -> 1 [partition= 5]\n",
        "# Output: 3 -> 1 -> 2 -> 10 -> 5 -> 5 -> 8\n",
        "def partition(node, x):\n",
        "  head, tail = node, node\n",
        "  while node:\n",
        "    next_ = node.next\n",
        "    if node.data < x:\n",
        "      node.next, head = head, node\n",
        "    else:\n",
        "      tail.next, tail = node, node\n",
        "  tail.next = None\n",
        "  return head"
      ],
      "execution_count": 0,
      "outputs": []
    },
    {
      "cell_type": "markdown",
      "metadata": {
        "id": "Xp134At4A5p0",
        "colab_type": "text"
      },
      "source": [
        "##Sum Lists"
      ]
    },
    {
      "cell_type": "code",
      "metadata": {
        "id": "2l1nQTLJu52U",
        "colab_type": "code",
        "outputId": "fe2ea8aa-59b8-4039-b7ea-3d7c973f380f",
        "colab": {
          "base_uri": "https://localhost:8080/",
          "height": 52
        }
      },
      "source": [
        "# Sum Lists: You have two numbers represented by a linked list, where each node contains a single\n",
        "# digit. The digits are stored in reverse order, such that the 1 's digit is at the head of the list. Write a\n",
        "# function that adds the two numbers and returns the sum as a linked list.\n",
        "# EXAMPLE\n",
        "# Input: (7-> 1 -> 6) + (5 -> 9 -> 2).That is,617 + 295.\n",
        "# Output: 2 -> 1 -> 9. That is, 912.\n",
        "# FOLLOW UP\n",
        "# Suppose the digits are stored in forward order. Repeat the above problem.\n",
        "# Input: (6 -> 1 -> 7) + (2 -> 9 -> 5).That is,617 + 295.\n",
        "# Output: 9 -> 1 -> 2. That is, 912. \n",
        "def addListsReverse(l1, l2, carry):\n",
        "  if l1 == None and l2 == None and carry == 0:\n",
        "    return None\n",
        "  result, value = [], carry\n",
        "  if l1:\n",
        "    value += l1.pop(0)\n",
        "  if l2:\n",
        "    value += l2.pop(0)\n",
        "  result.append(value % 10)\n",
        "  if l1 or l2:\n",
        "    more = addListsReverse(l1 if l1 else None, l2 if l2 else None, 1 if value >= 10 else 0)\n",
        "    result.extend(more)\n",
        "  return result\n",
        "\n",
        "def addLists(l1, l2, carry):\n",
        "  return addListsReverse(l1[::-1], l2[::-1], carry)[::-1]\n",
        "  \n",
        "print addListsReverse([7,1,6], [5,9,2], 0)\n",
        "print addLists([6,1,7], [2,9,5], 0)"
      ],
      "execution_count": 0,
      "outputs": [
        {
          "output_type": "stream",
          "text": [
            "[2, 1, 9]\n",
            "[9, 1, 2]\n"
          ],
          "name": "stdout"
        }
      ]
    },
    {
      "cell_type": "markdown",
      "metadata": {
        "id": "hHShVYo5BBjZ",
        "colab_type": "text"
      },
      "source": [
        "##LL Palindrome"
      ]
    },
    {
      "cell_type": "code",
      "metadata": {
        "id": "BpFMQppzvAPT",
        "colab_type": "code",
        "colab": {}
      },
      "source": [
        "# Palindrome: Implement a function to check if a linked list is a palindrome. \n",
        "def isPalindrome(head):\n",
        "  reverse = reverseAndClone(head)\n",
        "  return isEqual(head, reverse)\n",
        "\n",
        "def reverseAndClone(node):\n",
        "  head = None\n",
        "  while node:\n",
        "    n = LinkedListNode(node.data)\n",
        "    n.next, head, node = head, n, node.next\n",
        "  return head\n",
        "\n",
        "def isEqual(one, two):\n",
        "  while one and two:\n",
        "    if one.data != two.data:\n",
        "      return False\n",
        "    one, two = one.next, two.next\n",
        "  return one == None and two == None\n",
        "  "
      ],
      "execution_count": 0,
      "outputs": []
    },
    {
      "cell_type": "code",
      "metadata": {
        "id": "3PHGQEEDIdhO",
        "colab_type": "code",
        "colab": {}
      },
      "source": [
        "def isPalindrome2(head):\n",
        "  fast, slow, stack = head, head, []\n",
        "  while fast and fast.next:\n",
        "    slow, fast = slow.next, fast.next.next\n",
        "  if fast:\n",
        "    slow = slow.next\n",
        "  while slow:\n",
        "    top = stack.pop().intValue()\n",
        "    if top != slow.data:\n",
        "      return False\n",
        "    slow = slow.next\n",
        "  return True"
      ],
      "execution_count": 0,
      "outputs": []
    },
    {
      "cell_type": "markdown",
      "metadata": {
        "id": "SVPcz8L8BJea",
        "colab_type": "text"
      },
      "source": [
        "##Intersection of 2 LL"
      ]
    },
    {
      "cell_type": "code",
      "metadata": {
        "id": "u1NdadoLvGCL",
        "colab_type": "code",
        "colab": {}
      },
      "source": [
        "# Intersection: Given two (singly) linked lists, determine if the two lists intersect. Return the\n",
        "# intersecting node. Note that the intersection is defined based on reference, not value. That is, if the\n",
        "# kth node of the first linked list is the exact same node (by reference) as the jth node of the second\n",
        "# linked list, then they are intersecting. \n",
        "def findintersection(list1, list2):\n",
        "  if not list1 or not list2:\n",
        "    return None\n",
        "  result1, result2 = getTailAndSize(list1), getTailAndSize(list2)\n",
        "  if result1.tail != result2.tail:\n",
        "    return None\n",
        "  shorter = list1 if result1.size < result2.size else list2\n",
        "  longer = list2 if result1.size < result2.size else list1\n",
        "  longer = getKthNode(longer, abs(result1.size - result2.size))\n",
        "  while shorter != longer:\n",
        "    shorter, longer = shorter.next, longer.next\n",
        "  return longer\n",
        "\n",
        "class Result:\n",
        "  def __init__(self, tail, size):\n",
        "    self.tail, self.size = tail, size\n",
        "    \n",
        "def getTailAndSize(lst):\n",
        "  if lst == None:\n",
        "    return None\n",
        "  size, current = 1, lst\n",
        "  while current.next:\n",
        "    size += 1\n",
        "    current = current.next\n",
        "  return Result(current, size)\n",
        "\n",
        "def getKthNode(head, k):\n",
        "  current = head\n",
        "  while k > 0 and current:\n",
        "    current = current.next\n",
        "    k -= 1\n",
        "  return current\n",
        "  "
      ],
      "execution_count": 0,
      "outputs": []
    },
    {
      "cell_type": "markdown",
      "metadata": {
        "id": "f3aC4nJPBOuO",
        "colab_type": "text"
      },
      "source": [
        "##Loop detection"
      ]
    },
    {
      "cell_type": "code",
      "metadata": {
        "id": "pvB2fMpqvO57",
        "colab_type": "code",
        "colab": {}
      },
      "source": [
        "# Loop Detection: Given a circular linked list, implement an algorithm that returns the node at the\n",
        "# beginning of the loop.\n",
        "# DEFINITION\n",
        "# Circular linked list: A (corrupt) linked list in which a node's next pointer points to an earlier node, so\n",
        "# as to make a loop in the linked list.\n",
        "# EXAMPLE\n",
        "# Input: A -> B -> C -> D -> E -> C [the same C as earlier] \n",
        "# Output: C\n",
        "def FindBeginning(head):\n",
        "  slow, fast = head, head\n",
        "  while fast and fast.next:\n",
        "    slow, fast = slow.next, fast.next.next\n",
        "    if slow == fast:\n",
        "      break\n",
        "  if fast == None or fast.next == None:\n",
        "    return None\n",
        "  slow = head\n",
        "  while slow != fast:\n",
        "    slow, fast = slow.next, fast.next\n",
        "  return fast"
      ],
      "execution_count": 0,
      "outputs": []
    },
    {
      "cell_type": "markdown",
      "metadata": {
        "id": "023fcfO-vgpn",
        "colab_type": "text"
      },
      "source": [
        "#Arrays and Strings"
      ]
    },
    {
      "cell_type": "markdown",
      "metadata": {
        "id": "cnhGHvNwBWba",
        "colab_type": "text"
      },
      "source": [
        "##Is Unique"
      ]
    },
    {
      "cell_type": "code",
      "metadata": {
        "id": "b2S0_rKSvahY",
        "colab_type": "code",
        "colab": {}
      },
      "source": [
        "# Is Unique: Implement an algorithm to determine if a string has all unique characters. What if you\n",
        "# cannot use additional data structures? "
      ],
      "execution_count": 0,
      "outputs": []
    },
    {
      "cell_type": "markdown",
      "metadata": {
        "id": "GTxl-y8wBfD2",
        "colab_type": "text"
      },
      "source": [
        "##Check Permutation"
      ]
    },
    {
      "cell_type": "code",
      "metadata": {
        "id": "mE4Wfd_UvnRN",
        "colab_type": "code",
        "outputId": "8cb0d36a-a3dc-4e42-89ea-1151a26d6d94",
        "colab": {
          "base_uri": "https://localhost:8080/",
          "height": 34
        }
      },
      "source": [
        "# Check Permutation: Given two strings, write a method to decide if one is a permutation of the\n",
        "# other. \n",
        "# Assumption: string is lowercase and the non extended version of the character set ASCII is used (extended is 256 chars)\n",
        "def permutation(s, t):\n",
        "  if len(s) != len(t):\n",
        "    return False\n",
        "  letters = [0]*128\n",
        "  for ch in s:\n",
        "    letters[ord(ch)] += 1\n",
        "  for ch in t:\n",
        "    letters[ord(ch)] -= 1\n",
        "    if letters[ord(ch)]  < 0:\n",
        "      return False\n",
        "  return True\n",
        "\n",
        "print permutation('dog', 'god')\n",
        "# one can also sort the strings and check if they are equal"
      ],
      "execution_count": 0,
      "outputs": [
        {
          "output_type": "stream",
          "text": [
            "True\n"
          ],
          "name": "stdout"
        }
      ]
    },
    {
      "cell_type": "markdown",
      "metadata": {
        "id": "lzA-dDSGBktF",
        "colab_type": "text"
      },
      "source": [
        "##URLify"
      ]
    },
    {
      "cell_type": "code",
      "metadata": {
        "id": "mqBV6dyzvq_l",
        "colab_type": "code",
        "outputId": "97e03aa4-460f-4a1b-efa1-a0750f5f5cd0",
        "colab": {
          "base_uri": "https://localhost:8080/",
          "height": 35
        }
      },
      "source": [
        "# URLify: Write a method to replace all spaces in a string with '%20'. You may assume that the string\n",
        "# has sufficient space at the end to hold the additional characters, and that you are given the \"true\"\n",
        "# length of the string. (Note: if implementing in Java, please use a character array so that you can\n",
        "# perform this operation in place.)\n",
        "# EXAMPLE\n",
        "# Input: \"Mr John Smith \", 13\n",
        "# Output: \"Mr%20John%20Smith\" \n",
        "def replaceSpaces(s, trueLength):\n",
        "  spaceCount, index = 0, 0\n",
        "  for i in range(trueLength):\n",
        "    if s[i] == ' ':\n",
        "      spaceCount += 1\n",
        "  index = trueLength +  spaceCount*2\n",
        "  res = [0]*index\n",
        "  for i in range(trueLength-1, -1, -1):\n",
        "    if s[i] == ' ':\n",
        "      res[index - 1] = '0'\n",
        "      res[index - 2] = '2'\n",
        "      res[index - 3] = '%'\n",
        "      index -= 3\n",
        "    else:\n",
        "      res[index - 1] = s[i]\n",
        "      index -= 1\n",
        "  return ''.join(res)\n",
        "\n",
        "print replaceSpaces(\"Mr John Smith \", 13)"
      ],
      "execution_count": 0,
      "outputs": [
        {
          "output_type": "stream",
          "text": [
            "Mr%20John%20Smith\n"
          ],
          "name": "stdout"
        }
      ]
    },
    {
      "cell_type": "markdown",
      "metadata": {
        "id": "yumuU39BBqVr",
        "colab_type": "text"
      },
      "source": [
        "##Palindrome Permutation"
      ]
    },
    {
      "cell_type": "code",
      "metadata": {
        "id": "ZsvJ4eS6vv-x",
        "colab_type": "code",
        "outputId": "8e5ecf97-4389-42cd-fc72-cf30dd714eb3",
        "colab": {
          "base_uri": "https://localhost:8080/",
          "height": 53
        }
      },
      "source": [
        "# Palindrome Permutation: Given a string, write a function to check if it is a permutation of\n",
        "# a palindrome. A palindrome is a word or phrase that is the same forwards and backwards. A\n",
        "# permutation is a rearrangement of letters. The palindrome does not need to be limited to just\n",
        "# dictionary words.\n",
        "# EXAMPLE\n",
        "# Input: Tact Coa\n",
        "# Output: True (permutations: \"taco cat'; \"atco eta·; etc.) \n",
        "def isPermutationOfPalindrome(phrase):\n",
        "  bitVector = createBitVector(phrase)\n",
        "  return bitVector == 0 or checkExactlyOneBitSet(bitVector)\n",
        "\n",
        "def createBitVector(phrase):\n",
        "  bitVector = 0\n",
        "  for ch in phrase:\n",
        "    if ch != ' ':\n",
        "      bitVector = toggle(bitVector, ord(ch))\n",
        "  return bitVector\n",
        "\n",
        "def toggle(bitVector, index):\n",
        "  if index < 0:\n",
        "    return bitVector\n",
        "  mask = 1 << index\n",
        "  if (bitVector & mask) == 0:\n",
        "    bitVector |= mask\n",
        "  else:\n",
        "    bitVector &= ~mask\n",
        "  return bitVector\n",
        "\n",
        "def checkExactlyOneBitSet(bitVector):\n",
        "  return (bitVector & (bitVector - 1)) == 0\n",
        "\n",
        "print isPermutationOfPalindrome('tact cao')\n",
        "print isPermutationOfPalindrome('ka yako')"
      ],
      "execution_count": 0,
      "outputs": [
        {
          "output_type": "stream",
          "text": [
            "True\n",
            "False\n"
          ],
          "name": "stdout"
        }
      ]
    },
    {
      "cell_type": "markdown",
      "metadata": {
        "id": "QaD8V3NdBwCB",
        "colab_type": "text"
      },
      "source": [
        "##One Edit away"
      ]
    },
    {
      "cell_type": "code",
      "metadata": {
        "id": "EfGpz4xTv0b6",
        "colab_type": "code",
        "outputId": "7b4726ff-32de-4994-e219-f289e877f17e",
        "colab": {
          "base_uri": "https://localhost:8080/",
          "height": 89
        }
      },
      "source": [
        "# One Away: There are three types of edits that can be performed on strings: insert a character,\n",
        "# remove a character, or replace a character. Given two strings, write a function to check if they are\n",
        "# one edit (or zero edits) away.\n",
        "# EXAMPLE\n",
        "# pale, ple -> true\n",
        "# pales, pale -> true\n",
        "# pale, bale -> true\n",
        "# pale, bae -> false\n",
        "def oneEditAway(first, second):\n",
        "  if abs(len(first) - len(second)) > 1:\n",
        "    return False\n",
        "  s1 = first if len(first) < len(second) else second\n",
        "  s2 = second if len(first) < len(second) else first\n",
        "  index1, index2, foundDifference = 0, 0, False\n",
        "  while index1 < len(s1) and index2 < len(s2):\n",
        "    if s1[index1] != s2[index2]:\n",
        "      if foundDifference:\n",
        "        return False\n",
        "      foundDifference = True\n",
        "      if len(s1) == len(s2):  # one replace away\n",
        "        index1 += 1           # move shorter string\n",
        "    else:\n",
        "      index1 += 1 # if matching move shorter one\n",
        "    index2 += 1 # always move longer one\n",
        "  return True\n",
        "\n",
        "print oneEditAway('pale', 'ple')\n",
        "print oneEditAway('pales', 'pale')\n",
        "print oneEditAway('pale', 'bale')\n",
        "print oneEditAway('pale', 'bae')\n",
        "        "
      ],
      "execution_count": 0,
      "outputs": [
        {
          "output_type": "stream",
          "text": [
            "True\n",
            "True\n",
            "True\n",
            "False\n"
          ],
          "name": "stdout"
        }
      ]
    },
    {
      "cell_type": "markdown",
      "metadata": {
        "id": "nfIG7lUnB24h",
        "colab_type": "text"
      },
      "source": [
        "##String Compression"
      ]
    },
    {
      "cell_type": "code",
      "metadata": {
        "id": "ZiYtuH_7v8nW",
        "colab_type": "code",
        "outputId": "f0959c0d-e750-4378-e520-072c94f9a4f6",
        "colab": {
          "base_uri": "https://localhost:8080/",
          "height": 53
        }
      },
      "source": [
        "# String Compression: Implement a method to perform basic string compression using the counts\n",
        "# of repeated characters. For example, the string aabcccccaaa would become a2blc5a3. If the\n",
        "# \"compressed\" string would not become smaller than the original string, your method should return\n",
        "# the original string. You can assume the string has only uppercase and lowercase letters (a - z). \n",
        "def compress(s):\n",
        "  compressedString, countConsecutive = '', 0\n",
        "  for i in range(len(s)):\n",
        "    countConsecutive += 1\n",
        "    if (i+1) >= len(s) or s[i] != s[i+1]:\n",
        "      compressedString += s[i] + str(countConsecutive)\n",
        "      countConsecutive = 0\n",
        "  return compressedString if len(compressedString) < len(s) else s\n",
        "\n",
        "print compress('aabcccccaaa')\n",
        "print compress('abc')"
      ],
      "execution_count": 0,
      "outputs": [
        {
          "output_type": "stream",
          "text": [
            "a2b1c5a3\n",
            "abc\n"
          ],
          "name": "stdout"
        }
      ]
    },
    {
      "cell_type": "markdown",
      "metadata": {
        "id": "zrFdkSc2B7Yx",
        "colab_type": "text"
      },
      "source": [
        "##Rotate Matrix"
      ]
    },
    {
      "cell_type": "code",
      "metadata": {
        "id": "T7RJ37H4wC2O",
        "colab_type": "code",
        "outputId": "e48f818e-5f73-4616-f552-948e9e208ddd",
        "colab": {
          "base_uri": "https://localhost:8080/",
          "height": 235
        }
      },
      "source": [
        "# Rotate Matrix: Given an image represented by an NxN matrix, where each pixel in the image is 4\n",
        "# bytes, write a method to rotate the image by 90 degrees. Can you do this in place?\n",
        "def rotate(mat):\n",
        "  if not mat or len(mat) != len(mat[0]):\n",
        "    return False\n",
        "  n = len(mat)\n",
        "  for layer in range(n/2):\n",
        "    first, last = layer, n-1-layer\n",
        "    for i in range(first, last):\n",
        "      offset = i - first\n",
        "      top = mat[first][i]\n",
        "#       right, bottom, left = mat[i][last], mat[last][last-offset], mat[last-offset][first]\n",
        "      mat[first][i] = mat[last-offset][first]\n",
        "      mat[last-offset][first] = mat[last][last-offset]\n",
        "      mat[last][last-offset] = mat[i][last]\n",
        "      mat[i][last] = top \n",
        "  return True\n",
        "\n",
        "m = [[1,2,3,0,5], [1,2,3,4,5], [1,2,3,4,5], [1,2,3,4,5], [1,2,3,4,5]]\n",
        "\n",
        "def print_mat(mat, msg):\n",
        "  print msg\n",
        "  for row in mat:\n",
        "    print row\n",
        "    \n",
        "print_mat(m, 'Before')\n",
        "rotate(m)\n",
        "print_mat(m, 'After')"
      ],
      "execution_count": 0,
      "outputs": [
        {
          "output_type": "stream",
          "text": [
            "Before\n",
            "[1, 2, 3, 0, 5]\n",
            "[1, 2, 3, 4, 5]\n",
            "[1, 2, 3, 4, 5]\n",
            "[1, 2, 3, 4, 5]\n",
            "[1, 2, 3, 4, 5]\n",
            "After\n",
            "[1, 1, 1, 1, 1]\n",
            "[2, 2, 2, 2, 2]\n",
            "[3, 3, 3, 3, 3]\n",
            "[4, 4, 4, 4, 0]\n",
            "[5, 5, 5, 5, 5]\n"
          ],
          "name": "stdout"
        }
      ]
    },
    {
      "cell_type": "markdown",
      "metadata": {
        "id": "ARtYOpF1B_Wp",
        "colab_type": "text"
      },
      "source": [
        "##Nullify Row/Col"
      ]
    },
    {
      "cell_type": "code",
      "metadata": {
        "id": "kUCEwY-owHy3",
        "colab_type": "code",
        "outputId": "c9bc6973-dc76-4c82-e88c-8f3bf2ef1c0a",
        "colab": {
          "base_uri": "https://localhost:8080/",
          "height": 162
        }
      },
      "source": [
        "# Zero Matrix: Write an algorithm such that if an element in an MxN matrix is 0, its entire row and\n",
        "# column are set to 0. \n",
        "def setZeros(mat):\n",
        "  row, column = [False]*len(mat), [False]*len(mat[0])\n",
        "  for i in range(len(mat)):\n",
        "    for j in range(len(mat[0])):\n",
        "      if mat[i][j] == 0:\n",
        "        row[i], column[j] = True, True\n",
        "  # Nullify rows\n",
        "  for i in range(len(row)):\n",
        "    if row[i]:\n",
        "      nullifyRow(mat, i)\n",
        " # Nullify Columns\n",
        "  for i in range(len(column)):\n",
        "    if column[i]:\n",
        "      nullifyColumn(mat, i) \n",
        "\n",
        "def nullifyRow(mat, row):\n",
        "  for i in range(len(mat[0])):\n",
        "    mat[row][i] = 0\n",
        "    \n",
        "def nullifyColumn(mat, col):\n",
        "  for i in range(len(mat)):\n",
        "    mat[i][col] = 0\n",
        "    \n",
        "m = [[1,2,3,0,5], [1,2,3,4,5], [1,2,3,4,5]]\n",
        "print_mat(m, 'Before')\n",
        "setZeros(m)\n",
        "print_mat(m, 'After:')"
      ],
      "execution_count": 0,
      "outputs": [
        {
          "output_type": "stream",
          "text": [
            "Before\n",
            "[1, 2, 3, 0, 5]\n",
            "[1, 2, 3, 4, 5]\n",
            "[1, 2, 3, 4, 5]\n",
            "After:\n",
            "[0, 0, 0, 0, 0]\n",
            "[1, 2, 3, 0, 5]\n",
            "[1, 2, 3, 0, 5]\n"
          ],
          "name": "stdout"
        }
      ]
    },
    {
      "cell_type": "markdown",
      "metadata": {
        "id": "mPhjhpbmCKrW",
        "colab_type": "text"
      },
      "source": [
        "##String rotation"
      ]
    },
    {
      "cell_type": "code",
      "metadata": {
        "id": "UzF5wEY2wLi4",
        "colab_type": "code",
        "outputId": "0fc2b5f3-0d86-454d-f6ee-77b195ade8e1",
        "colab": {
          "base_uri": "https://localhost:8080/",
          "height": 35
        }
      },
      "source": [
        "# String Rotation: Assume you have a method isSubstring() which checks if one word is a substring\n",
        "# of another. Given two strings, 51 and 52, write code to check if 52 is a rotation of 51 using only one\n",
        "# call to i5Sub5tring (e.g., \"waterbottle\" is a rotation of\"erbottlewat\"). \n",
        "def isRotation(s1, s2):\n",
        "  n = len(s1)\n",
        "  if n == len(s2) and n > 0:\n",
        "    s1S1 = s1 + s2\n",
        "    return s1S1.find(s2) != -1\n",
        "  \n",
        "print isRotation('waterbottle', 'erbottlewat')"
      ],
      "execution_count": 0,
      "outputs": [
        {
          "output_type": "stream",
          "text": [
            "True\n"
          ],
          "name": "stdout"
        }
      ]
    }
  ]
}